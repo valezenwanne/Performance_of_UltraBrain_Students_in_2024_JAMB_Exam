{
 "cells": [
  {
   "cell_type": "markdown",
   "id": "c1e6ea46-d96c-4300-a1da-09841eb77e2b",
   "metadata": {},
   "source": [
    "# Performance of Ultra-Brain Science Student in JAMB 2024"
   ]
  },
  {
   "cell_type": "markdown",
   "id": "5e3bd2ae-fc16-4668-80e4-cf4d3d3be354",
   "metadata": {},
   "source": [
    "## Objective"
   ]
  },
  {
   "cell_type": "markdown",
   "id": "53066043-e6d7-4cac-924d-5f6ac817c281",
   "metadata": {},
   "source": [
    "- To analyze the performance of Ultra-Brain Students in the JAMB 2024 exam\n",
    "- To evaluate factors that contributed to their performance\n",
    "- To create a dashboard that summarizes the performance of student"
   ]
  },
  {
   "cell_type": "markdown",
   "id": "2f6c956b-0621-44d7-a321-3f86b90e33e8",
   "metadata": {},
   "source": [
    "### Load the Libraries"
   ]
  },
  {
   "cell_type": "code",
   "execution_count": 1,
   "id": "cecae9e0-9499-4b03-9a6b-16b7079dc9ed",
   "metadata": {},
   "outputs": [],
   "source": [
    "#import the libraries\n",
    "import pandas as pd\n",
    "import numpy as np\n",
    "import seaborn as sns\n",
    "import matplotlib.pyplot as plt\n",
    "%matplotlib inline\n",
    "pd.set_option('display.max_columns', None)"
   ]
  },
  {
   "cell_type": "markdown",
   "id": "3aa18fd2-25e4-4ead-b388-be375f436208",
   "metadata": {},
   "source": [
    "### Import the data"
   ]
  },
  {
   "cell_type": "code",
   "execution_count": 2,
   "id": "b238aa92-8ae7-446a-9d1e-8026ff91f998",
   "metadata": {},
   "outputs": [],
   "source": [
    "#load the data\n",
    "data = pd.read_excel('Jamb Score for UltraBrain Students.xlsx')"
   ]
  },
  {
   "cell_type": "code",
   "execution_count": 3,
   "id": "09084fb1-2c0c-4c3c-994d-4ae8b2f09089",
   "metadata": {},
   "outputs": [
    {
     "data": {
      "text/html": [
       "<div>\n",
       "<style scoped>\n",
       "    .dataframe tbody tr th:only-of-type {\n",
       "        vertical-align: middle;\n",
       "    }\n",
       "\n",
       "    .dataframe tbody tr th {\n",
       "        vertical-align: top;\n",
       "    }\n",
       "\n",
       "    .dataframe thead th {\n",
       "        text-align: right;\n",
       "    }\n",
       "</style>\n",
       "<table border=\"1\" class=\"dataframe\">\n",
       "  <thead>\n",
       "    <tr style=\"text-align: right;\">\n",
       "      <th></th>\n",
       "      <th>S/N</th>\n",
       "      <th>Student Name</th>\n",
       "      <th>Martial Status</th>\n",
       "      <th>Gender</th>\n",
       "      <th>Year 2023</th>\n",
       "      <th>Year 2024</th>\n",
       "      <th>English</th>\n",
       "      <th>Chemistry</th>\n",
       "      <th>Physics</th>\n",
       "      <th>Biology</th>\n",
       "      <th>Total</th>\n",
       "      <th>Date of Birth</th>\n",
       "      <th>Course registered</th>\n",
       "      <th>School registered</th>\n",
       "      <th>Date Registered</th>\n",
       "      <th>Date Stopped</th>\n",
       "      <th>Lesson Fee</th>\n",
       "      <th>Work Status</th>\n",
       "      <th>Hours  read</th>\n",
       "      <th>Read Past Questions</th>\n",
       "      <th>Teaching Satisfaction</th>\n",
       "      <th>Finished on time</th>\n",
       "      <th>System off</th>\n",
       "      <th>Questions different</th>\n",
       "      <th>Pay yourself</th>\n",
       "      <th>Close Proximity to center</th>\n",
       "    </tr>\n",
       "  </thead>\n",
       "  <tbody>\n",
       "    <tr>\n",
       "      <th>0</th>\n",
       "      <td>1</td>\n",
       "      <td>Chinelo Nneto</td>\n",
       "      <td>Single</td>\n",
       "      <td>F</td>\n",
       "      <td>171.0</td>\n",
       "      <td>217</td>\n",
       "      <td>49</td>\n",
       "      <td>67</td>\n",
       "      <td>53</td>\n",
       "      <td>48</td>\n",
       "      <td>217</td>\n",
       "      <td>2006-01-14</td>\n",
       "      <td>Pharmacy</td>\n",
       "      <td>Unizik</td>\n",
       "      <td>2024-01-09</td>\n",
       "      <td>2024-04-19</td>\n",
       "      <td>13000</td>\n",
       "      <td>No</td>\n",
       "      <td>5</td>\n",
       "      <td>Yes</td>\n",
       "      <td>5</td>\n",
       "      <td>No</td>\n",
       "      <td>No</td>\n",
       "      <td>No</td>\n",
       "      <td>no</td>\n",
       "      <td>yes</td>\n",
       "    </tr>\n",
       "    <tr>\n",
       "      <th>1</th>\n",
       "      <td>2</td>\n",
       "      <td>Mmesoma Ofodile</td>\n",
       "      <td>Single</td>\n",
       "      <td>F</td>\n",
       "      <td>192.0</td>\n",
       "      <td>230</td>\n",
       "      <td>54</td>\n",
       "      <td>59</td>\n",
       "      <td>60</td>\n",
       "      <td>57</td>\n",
       "      <td>230</td>\n",
       "      <td>2007-08-12</td>\n",
       "      <td>Nursing</td>\n",
       "      <td>UNN</td>\n",
       "      <td>2024-01-10</td>\n",
       "      <td>2024-04-19</td>\n",
       "      <td>15000</td>\n",
       "      <td>No</td>\n",
       "      <td>4</td>\n",
       "      <td>Yes</td>\n",
       "      <td>5</td>\n",
       "      <td>Yes</td>\n",
       "      <td>No</td>\n",
       "      <td>No</td>\n",
       "      <td>no</td>\n",
       "      <td>yes</td>\n",
       "    </tr>\n",
       "  </tbody>\n",
       "</table>\n",
       "</div>"
      ],
      "text/plain": [
       "   S/N     Student Name Martial Status Gender  Year 2023  Year 2024  English  \\\n",
       "0    1    Chinelo Nneto         Single      F      171.0        217       49   \n",
       "1    2  Mmesoma Ofodile         Single      F      192.0        230       54   \n",
       "\n",
       "   Chemistry  Physics  Biology  Total Date of Birth Course registered  \\\n",
       "0         67       53       48    217    2006-01-14          Pharmacy   \n",
       "1         59       60       57    230    2007-08-12           Nursing   \n",
       "\n",
       "  School registered Date Registered Date Stopped  Lesson Fee Work Status  \\\n",
       "0            Unizik      2024-01-09   2024-04-19       13000          No   \n",
       "1               UNN      2024-01-10   2024-04-19       15000          No   \n",
       "\n",
       "   Hours  read Read Past Questions  Teaching Satisfaction Finished on time  \\\n",
       "0            5                 Yes                      5               No   \n",
       "1            4                 Yes                      5              Yes   \n",
       "\n",
       "  System off Questions different Pay yourself Close Proximity to center  \n",
       "0         No                  No           no                       yes  \n",
       "1         No                  No           no                       yes  "
      ]
     },
     "execution_count": 3,
     "metadata": {},
     "output_type": "execute_result"
    }
   ],
   "source": [
    "#display few lines of the data\n",
    "data.head(2)"
   ]
  },
  {
   "cell_type": "code",
   "execution_count": 4,
   "id": "eac1c655-7a49-4140-a437-c60e28cfed0c",
   "metadata": {},
   "outputs": [
    {
     "data": {
      "text/plain": [
       "(52, 26)"
      ]
     },
     "execution_count": 4,
     "metadata": {},
     "output_type": "execute_result"
    }
   ],
   "source": [
    "#checking the shape \n",
    "data.shape"
   ]
  },
  {
   "cell_type": "markdown",
   "id": "a8d495e0-b607-4c3c-8137-1b7c97d8f168",
   "metadata": {},
   "source": [
    "- Data contain 52 student records and 26 column"
   ]
  },
  {
   "cell_type": "code",
   "execution_count": 5,
   "id": "d11cbc33-ecaa-477a-8406-36958b906344",
   "metadata": {},
   "outputs": [
    {
     "data": {
      "text/plain": [
       "S/N                           0\n",
       "Student Name                  0\n",
       "Martial Status                0\n",
       "Gender                        0\n",
       "Year 2023                    22\n",
       "Year 2024                     0\n",
       "English                       0\n",
       "Chemistry                     0\n",
       "Physics                       0\n",
       "Biology                       0\n",
       "Total                         0\n",
       "Date of Birth                 0\n",
       "Course registered             0\n",
       "School registered             0\n",
       "Date Registered               0\n",
       "Date Stopped                  0\n",
       "Lesson Fee                    0\n",
       "Work Status                   0\n",
       "Hours  read                   0\n",
       "Read Past Questions           0\n",
       "Teaching Satisfaction         0\n",
       "Finished on time              0\n",
       "System off                    0\n",
       "Questions different           0\n",
       "Pay yourself                  0\n",
       "Close Proximity to center     0\n",
       "dtype: int64"
      ]
     },
     "execution_count": 5,
     "metadata": {},
     "output_type": "execute_result"
    }
   ],
   "source": [
    "#checking for missing values\n",
    "data.isna().sum()"
   ]
  },
  {
   "cell_type": "markdown",
   "id": "ac65a964-b4a4-44d6-8421-43938910ba0f",
   "metadata": {},
   "source": [
    "- There are 22 missing values in 2023 score"
   ]
  },
  {
   "cell_type": "code",
   "execution_count": 6,
   "id": "bce1fe24-fc28-41eb-bf69-79e621ca6850",
   "metadata": {},
   "outputs": [
    {
     "data": {
      "text/plain": [
       "0"
      ]
     },
     "execution_count": 6,
     "metadata": {},
     "output_type": "execute_result"
    }
   ],
   "source": [
    "#checking for duplicates\n",
    "data.duplicated().sum()"
   ]
  },
  {
   "cell_type": "markdown",
   "id": "a6e890f4-a0b4-4829-9a8c-2cd78471b345",
   "metadata": {},
   "source": [
    "- There are no duplicates"
   ]
  },
  {
   "cell_type": "code",
   "execution_count": 7,
   "id": "3d79af6b-f84f-4177-8819-64e88a8d2bee",
   "metadata": {},
   "outputs": [
    {
     "data": {
      "text/plain": [
       "S/N                                   int64\n",
       "Student Name                         object\n",
       "Martial Status                       object\n",
       "Gender                               object\n",
       "Year 2023                           float64\n",
       "Year 2024                             int64\n",
       "English                               int64\n",
       "Chemistry                             int64\n",
       "Physics                               int64\n",
       "Biology                               int64\n",
       "Total                                 int64\n",
       "Date of Birth                datetime64[ns]\n",
       "Course registered                    object\n",
       "School registered                    object\n",
       "Date Registered              datetime64[ns]\n",
       "Date Stopped                 datetime64[ns]\n",
       "Lesson Fee                            int64\n",
       "Work Status                          object\n",
       "Hours  read                           int64\n",
       "Read Past Questions                  object\n",
       "Teaching Satisfaction                 int64\n",
       "Finished on time                     object\n",
       "System off                           object\n",
       "Questions different                  object\n",
       "Pay yourself                         object\n",
       "Close Proximity to center            object\n",
       "dtype: object"
      ]
     },
     "execution_count": 7,
     "metadata": {},
     "output_type": "execute_result"
    }
   ],
   "source": [
    "#checking for datatypes\n",
    "data.dtypes"
   ]
  },
  {
   "cell_type": "markdown",
   "id": "4f41bd6e-63ff-454f-8d13-a25513ed4e56",
   "metadata": {},
   "source": [
    "## Data Wrangling"
   ]
  },
  {
   "cell_type": "code",
   "execution_count": 8,
   "id": "403e227f-e92c-4400-b294-186f12fdde19",
   "metadata": {},
   "outputs": [],
   "source": [
    "#create a copy of the dataframe\n",
    "df = data.copy()"
   ]
  },
  {
   "cell_type": "code",
   "execution_count": 9,
   "id": "16841b04-9a37-4a24-a40b-e15e3c41573f",
   "metadata": {},
   "outputs": [
    {
     "data": {
      "text/plain": [
       "Index(['S/N', 'Student Name', 'Martial Status', 'Gender', 'Year 2023',\n",
       "       'Year 2024', 'English', 'Chemistry', 'Physics', 'Biology', 'Total',\n",
       "       'Date of Birth', 'Course registered', 'School registered',\n",
       "       'Date Registered', 'Date Stopped', 'Lesson Fee', 'Work Status',\n",
       "       'Hours  read', 'Read Past Questions', 'Teaching Satisfaction',\n",
       "       'Finished on time', 'System off', 'Questions different', 'Pay yourself',\n",
       "       'Close Proximity to center'],\n",
       "      dtype='object')"
      ]
     },
     "execution_count": 9,
     "metadata": {},
     "output_type": "execute_result"
    }
   ],
   "source": [
    "#checking column names\n",
    "df.columns"
   ]
  },
  {
   "cell_type": "code",
   "execution_count": 10,
   "id": "4b9f929b-b94a-42df-a056-506946b99ad2",
   "metadata": {},
   "outputs": [],
   "source": [
    "#changing Column names\n",
    "df.rename(columns={\n",
    "    'Martial Status': \"Marital Status\",\n",
    "    \"Course registered\" : \"Course Registered\",\n",
    "    \"School registered\" : \"University Registered\",\n",
    "    \"Hours  read\" : \"Hours Read\",\n",
    "    'System off': 'Computer Off',\n",
    "    'Questions different': 'Questions Different',\n",
    "    'Pay yourself': 'Pay Yourself',\n",
    "    'Year 2023' : 'Score 2023',\n",
    "    'Year 2024' : 'Score 2024'\n",
    "}, inplace=True\n",
    "         )"
   ]
  },
  {
   "cell_type": "code",
   "execution_count": 11,
   "id": "1b678a01-96c0-4c47-96cc-8d21145ff7b2",
   "metadata": {},
   "outputs": [
    {
     "data": {
      "text/plain": [
       "Index(['S/N', 'Student Name', 'Marital Status', 'Gender', 'Year 2023',\n",
       "       'Year 2024', 'English', 'Chemistry', 'Physics', 'Biology', 'Total',\n",
       "       'Date of Birth', 'Course Registered', 'University Registered',\n",
       "       'Date Registered', 'Date Stopped', 'Lesson Fee', 'Work Status',\n",
       "       'Hours Read', 'Read Past Questions', 'Teaching Satisfaction',\n",
       "       'Finished on time', 'Computer Off', 'Questions Different',\n",
       "       'Pay Yourself', 'Close Proximity to center'],\n",
       "      dtype='object')"
      ]
     },
     "execution_count": 11,
     "metadata": {},
     "output_type": "execute_result"
    }
   ],
   "source": [
    "#confirming the column name has been changed\n",
    "df.columns"
   ]
  },
  {
   "cell_type": "code",
   "execution_count": 12,
   "id": "1d782ba3-66ea-42fb-bfe2-37c810c0a4ca",
   "metadata": {},
   "outputs": [
    {
     "data": {
      "text/plain": [
       "S/N                                   int64\n",
       "Student Name                         object\n",
       "Marital Status                       object\n",
       "Gender                               object\n",
       "Year 2023                           float64\n",
       "Year 2024                             int64\n",
       "English                               int64\n",
       "Chemistry                             int64\n",
       "Physics                               int64\n",
       "Biology                               int64\n",
       "Total                                 int64\n",
       "Date of Birth                datetime64[ns]\n",
       "Course Registered                    object\n",
       "University Registered                object\n",
       "Date Registered              datetime64[ns]\n",
       "Date Stopped                 datetime64[ns]\n",
       "Lesson Fee                            int64\n",
       "Work Status                          object\n",
       "Hours Read                            int64\n",
       "Read Past Questions                  object\n",
       "Teaching Satisfaction                 int64\n",
       "Finished on time                     object\n",
       "Computer Off                         object\n",
       "Questions Different                  object\n",
       "Pay Yourself                         object\n",
       "Close Proximity to center            object\n",
       "dtype: object"
      ]
     },
     "execution_count": 12,
     "metadata": {},
     "output_type": "execute_result"
    }
   ],
   "source": [
    "#checking datatypes\n",
    "df.dtypes"
   ]
  },
  {
   "cell_type": "code",
   "execution_count": 13,
   "id": "26630d72-7e56-4a5c-a423-b808d952bce1",
   "metadata": {},
   "outputs": [],
   "source": [
    "#deleting unnecessary column 'S/N'\n",
    "df.drop('S/N', axis=1, inplace=True)"
   ]
  },
  {
   "cell_type": "markdown",
   "id": "22b448c5-7bf6-4c70-bfda-6388d729486a",
   "metadata": {},
   "source": [
    "### Feature Engineering"
   ]
  },
  {
   "cell_type": "code",
   "execution_count": 18,
   "id": "f1ae5e06-22a7-4a3f-a5a8-11d3bd28f839",
   "metadata": {},
   "outputs": [],
   "source": [
    "#creating the student Age column\n",
    "df['Student Age'] = df['Date Registered'].dt.year - df['Date of Birth'].dt.year"
   ]
  },
  {
   "cell_type": "code",
   "execution_count": 19,
   "id": "e9748897-5218-4bf1-9267-837d446f76ce",
   "metadata": {},
   "outputs": [
    {
     "data": {
      "text/html": [
       "<div>\n",
       "<style scoped>\n",
       "    .dataframe tbody tr th:only-of-type {\n",
       "        vertical-align: middle;\n",
       "    }\n",
       "\n",
       "    .dataframe tbody tr th {\n",
       "        vertical-align: top;\n",
       "    }\n",
       "\n",
       "    .dataframe thead th {\n",
       "        text-align: right;\n",
       "    }\n",
       "</style>\n",
       "<table border=\"1\" class=\"dataframe\">\n",
       "  <thead>\n",
       "    <tr style=\"text-align: right;\">\n",
       "      <th></th>\n",
       "      <th>Student Name</th>\n",
       "      <th>Marital Status</th>\n",
       "      <th>Gender</th>\n",
       "      <th>Year 2023</th>\n",
       "      <th>Year 2024</th>\n",
       "      <th>English</th>\n",
       "      <th>Chemistry</th>\n",
       "      <th>Physics</th>\n",
       "      <th>Biology</th>\n",
       "      <th>Total</th>\n",
       "      <th>Date of Birth</th>\n",
       "      <th>Course Registered</th>\n",
       "      <th>University Registered</th>\n",
       "      <th>Date Registered</th>\n",
       "      <th>Date Stopped</th>\n",
       "      <th>Lesson Fee</th>\n",
       "      <th>Work Status</th>\n",
       "      <th>Hours Read</th>\n",
       "      <th>Read Past Questions</th>\n",
       "      <th>Teaching Satisfaction</th>\n",
       "      <th>Finished on time</th>\n",
       "      <th>Computer Off</th>\n",
       "      <th>Questions Different</th>\n",
       "      <th>Pay Yourself</th>\n",
       "      <th>Close Proximity to center</th>\n",
       "      <th>Student Age</th>\n",
       "    </tr>\n",
       "  </thead>\n",
       "  <tbody>\n",
       "    <tr>\n",
       "      <th>0</th>\n",
       "      <td>Chinelo Nneto</td>\n",
       "      <td>Single</td>\n",
       "      <td>F</td>\n",
       "      <td>171.0</td>\n",
       "      <td>217</td>\n",
       "      <td>49</td>\n",
       "      <td>67</td>\n",
       "      <td>53</td>\n",
       "      <td>48</td>\n",
       "      <td>217</td>\n",
       "      <td>2006-01-14</td>\n",
       "      <td>Pharmacy</td>\n",
       "      <td>Unizik</td>\n",
       "      <td>2024-01-09</td>\n",
       "      <td>2024-04-19</td>\n",
       "      <td>13000</td>\n",
       "      <td>No</td>\n",
       "      <td>5</td>\n",
       "      <td>Yes</td>\n",
       "      <td>5</td>\n",
       "      <td>No</td>\n",
       "      <td>No</td>\n",
       "      <td>No</td>\n",
       "      <td>no</td>\n",
       "      <td>yes</td>\n",
       "      <td>18</td>\n",
       "    </tr>\n",
       "    <tr>\n",
       "      <th>1</th>\n",
       "      <td>Mmesoma Ofodile</td>\n",
       "      <td>Single</td>\n",
       "      <td>F</td>\n",
       "      <td>192.0</td>\n",
       "      <td>230</td>\n",
       "      <td>54</td>\n",
       "      <td>59</td>\n",
       "      <td>60</td>\n",
       "      <td>57</td>\n",
       "      <td>230</td>\n",
       "      <td>2007-08-12</td>\n",
       "      <td>Nursing</td>\n",
       "      <td>UNN</td>\n",
       "      <td>2024-01-10</td>\n",
       "      <td>2024-04-19</td>\n",
       "      <td>15000</td>\n",
       "      <td>No</td>\n",
       "      <td>4</td>\n",
       "      <td>Yes</td>\n",
       "      <td>5</td>\n",
       "      <td>Yes</td>\n",
       "      <td>No</td>\n",
       "      <td>No</td>\n",
       "      <td>no</td>\n",
       "      <td>yes</td>\n",
       "      <td>17</td>\n",
       "    </tr>\n",
       "    <tr>\n",
       "      <th>2</th>\n",
       "      <td>Delight Igboanugo</td>\n",
       "      <td>Single</td>\n",
       "      <td>F</td>\n",
       "      <td>NaN</td>\n",
       "      <td>231</td>\n",
       "      <td>64</td>\n",
       "      <td>61</td>\n",
       "      <td>51</td>\n",
       "      <td>55</td>\n",
       "      <td>231</td>\n",
       "      <td>2005-07-03</td>\n",
       "      <td>Pharmacy</td>\n",
       "      <td>Unizik</td>\n",
       "      <td>2024-01-11</td>\n",
       "      <td>2024-04-19</td>\n",
       "      <td>10000</td>\n",
       "      <td>No</td>\n",
       "      <td>4</td>\n",
       "      <td>Yes</td>\n",
       "      <td>4</td>\n",
       "      <td>Yes</td>\n",
       "      <td>No</td>\n",
       "      <td>No</td>\n",
       "      <td>Yes</td>\n",
       "      <td>No</td>\n",
       "      <td>19</td>\n",
       "    </tr>\n",
       "    <tr>\n",
       "      <th>3</th>\n",
       "      <td>Divine Ifedimma</td>\n",
       "      <td>Single</td>\n",
       "      <td>M</td>\n",
       "      <td>207.0</td>\n",
       "      <td>206</td>\n",
       "      <td>51</td>\n",
       "      <td>41</td>\n",
       "      <td>51</td>\n",
       "      <td>61</td>\n",
       "      <td>204</td>\n",
       "      <td>2004-12-27</td>\n",
       "      <td>Nursing</td>\n",
       "      <td>Unizik</td>\n",
       "      <td>2024-01-08</td>\n",
       "      <td>2024-04-19</td>\n",
       "      <td>13000</td>\n",
       "      <td>No</td>\n",
       "      <td>3</td>\n",
       "      <td>Yes</td>\n",
       "      <td>4</td>\n",
       "      <td>Yes</td>\n",
       "      <td>No</td>\n",
       "      <td>No</td>\n",
       "      <td>no</td>\n",
       "      <td>yes</td>\n",
       "      <td>20</td>\n",
       "    </tr>\n",
       "    <tr>\n",
       "      <th>4</th>\n",
       "      <td>Oluomachi Nwabuikwu</td>\n",
       "      <td>Single</td>\n",
       "      <td>F</td>\n",
       "      <td>175.0</td>\n",
       "      <td>179</td>\n",
       "      <td>49</td>\n",
       "      <td>47</td>\n",
       "      <td>44</td>\n",
       "      <td>39</td>\n",
       "      <td>179</td>\n",
       "      <td>2005-12-03</td>\n",
       "      <td>Nursing</td>\n",
       "      <td>Unizik</td>\n",
       "      <td>2024-01-10</td>\n",
       "      <td>2024-04-19</td>\n",
       "      <td>10000</td>\n",
       "      <td>No</td>\n",
       "      <td>4</td>\n",
       "      <td>Yes</td>\n",
       "      <td>5</td>\n",
       "      <td>Yes</td>\n",
       "      <td>No</td>\n",
       "      <td>No</td>\n",
       "      <td>no</td>\n",
       "      <td>yes</td>\n",
       "      <td>19</td>\n",
       "    </tr>\n",
       "  </tbody>\n",
       "</table>\n",
       "</div>"
      ],
      "text/plain": [
       "          Student Name Marital Status Gender  Year 2023  Year 2024  English  \\\n",
       "0        Chinelo Nneto         Single      F      171.0        217       49   \n",
       "1      Mmesoma Ofodile         Single      F      192.0        230       54   \n",
       "2    Delight Igboanugo         Single      F        NaN        231       64   \n",
       "3      Divine Ifedimma         Single      M      207.0        206       51   \n",
       "4  Oluomachi Nwabuikwu         Single      F      175.0        179       49   \n",
       "\n",
       "   Chemistry  Physics  Biology  Total Date of Birth Course Registered  \\\n",
       "0         67       53       48    217    2006-01-14          Pharmacy   \n",
       "1         59       60       57    230    2007-08-12           Nursing   \n",
       "2         61       51       55    231    2005-07-03          Pharmacy   \n",
       "3         41       51       61    204    2004-12-27           Nursing   \n",
       "4         47       44       39    179    2005-12-03           Nursing   \n",
       "\n",
       "  University Registered Date Registered Date Stopped  Lesson Fee Work Status  \\\n",
       "0                Unizik      2024-01-09   2024-04-19       13000          No   \n",
       "1                   UNN      2024-01-10   2024-04-19       15000          No   \n",
       "2                Unizik      2024-01-11   2024-04-19       10000          No   \n",
       "3                Unizik      2024-01-08   2024-04-19       13000          No   \n",
       "4                Unizik      2024-01-10   2024-04-19       10000          No   \n",
       "\n",
       "   Hours Read Read Past Questions  Teaching Satisfaction Finished on time  \\\n",
       "0           5                 Yes                      5               No   \n",
       "1           4                 Yes                      5              Yes   \n",
       "2           4                 Yes                      4              Yes   \n",
       "3           3                 Yes                      4              Yes   \n",
       "4           4                 Yes                      5              Yes   \n",
       "\n",
       "  Computer Off Questions Different Pay Yourself Close Proximity to center  \\\n",
       "0           No                  No           no                       yes   \n",
       "1           No                  No           no                       yes   \n",
       "2           No                  No          Yes                        No   \n",
       "3           No                  No           no                       yes   \n",
       "4           No                  No           no                       yes   \n",
       "\n",
       "   Student Age  \n",
       "0           18  \n",
       "1           17  \n",
       "2           19  \n",
       "3           20  \n",
       "4           19  "
      ]
     },
     "execution_count": 19,
     "metadata": {},
     "output_type": "execute_result"
    }
   ],
   "source": [
    "#confirming the Student Age is created\n",
    "df.head()"
   ]
  },
  {
   "cell_type": "code",
   "execution_count": 23,
   "id": "9fca6973-3675-4adc-8c90-bb570be37651",
   "metadata": {},
   "outputs": [],
   "source": [
    "#creating the month registered\n",
    "df['Month Registered'] = df['Date Registered'].dt.month\n",
    "df['Month Name'] = df['Date Registered'].dt.month_name()\n",
    "df['Month Stopped'] = df['Date Stopped'].dt.month"
   ]
  },
  {
   "cell_type": "code",
   "execution_count": 24,
   "id": "e02d7f87-44b2-4998-b969-3668b472d40c",
   "metadata": {},
   "outputs": [
    {
     "data": {
      "text/html": [
       "<div>\n",
       "<style scoped>\n",
       "    .dataframe tbody tr th:only-of-type {\n",
       "        vertical-align: middle;\n",
       "    }\n",
       "\n",
       "    .dataframe tbody tr th {\n",
       "        vertical-align: top;\n",
       "    }\n",
       "\n",
       "    .dataframe thead th {\n",
       "        text-align: right;\n",
       "    }\n",
       "</style>\n",
       "<table border=\"1\" class=\"dataframe\">\n",
       "  <thead>\n",
       "    <tr style=\"text-align: right;\">\n",
       "      <th></th>\n",
       "      <th>Student Name</th>\n",
       "      <th>Marital Status</th>\n",
       "      <th>Gender</th>\n",
       "      <th>Year 2023</th>\n",
       "      <th>Year 2024</th>\n",
       "      <th>English</th>\n",
       "      <th>Chemistry</th>\n",
       "      <th>Physics</th>\n",
       "      <th>Biology</th>\n",
       "      <th>Total</th>\n",
       "      <th>Date of Birth</th>\n",
       "      <th>Course Registered</th>\n",
       "      <th>University Registered</th>\n",
       "      <th>Date Registered</th>\n",
       "      <th>Date Stopped</th>\n",
       "      <th>Lesson Fee</th>\n",
       "      <th>Work Status</th>\n",
       "      <th>Hours Read</th>\n",
       "      <th>Read Past Questions</th>\n",
       "      <th>Teaching Satisfaction</th>\n",
       "      <th>Finished on time</th>\n",
       "      <th>Computer Off</th>\n",
       "      <th>Questions Different</th>\n",
       "      <th>Pay Yourself</th>\n",
       "      <th>Close Proximity to center</th>\n",
       "      <th>Student Age</th>\n",
       "      <th>Month Registered</th>\n",
       "      <th>Month Name</th>\n",
       "      <th>Month Stopped</th>\n",
       "    </tr>\n",
       "  </thead>\n",
       "  <tbody>\n",
       "    <tr>\n",
       "      <th>0</th>\n",
       "      <td>Chinelo Nneto</td>\n",
       "      <td>Single</td>\n",
       "      <td>F</td>\n",
       "      <td>171.0</td>\n",
       "      <td>217</td>\n",
       "      <td>49</td>\n",
       "      <td>67</td>\n",
       "      <td>53</td>\n",
       "      <td>48</td>\n",
       "      <td>217</td>\n",
       "      <td>2006-01-14</td>\n",
       "      <td>Pharmacy</td>\n",
       "      <td>Unizik</td>\n",
       "      <td>2024-01-09</td>\n",
       "      <td>2024-04-19</td>\n",
       "      <td>13000</td>\n",
       "      <td>No</td>\n",
       "      <td>5</td>\n",
       "      <td>Yes</td>\n",
       "      <td>5</td>\n",
       "      <td>No</td>\n",
       "      <td>No</td>\n",
       "      <td>No</td>\n",
       "      <td>no</td>\n",
       "      <td>yes</td>\n",
       "      <td>18</td>\n",
       "      <td>1</td>\n",
       "      <td>January</td>\n",
       "      <td>4</td>\n",
       "    </tr>\n",
       "    <tr>\n",
       "      <th>1</th>\n",
       "      <td>Mmesoma Ofodile</td>\n",
       "      <td>Single</td>\n",
       "      <td>F</td>\n",
       "      <td>192.0</td>\n",
       "      <td>230</td>\n",
       "      <td>54</td>\n",
       "      <td>59</td>\n",
       "      <td>60</td>\n",
       "      <td>57</td>\n",
       "      <td>230</td>\n",
       "      <td>2007-08-12</td>\n",
       "      <td>Nursing</td>\n",
       "      <td>UNN</td>\n",
       "      <td>2024-01-10</td>\n",
       "      <td>2024-04-19</td>\n",
       "      <td>15000</td>\n",
       "      <td>No</td>\n",
       "      <td>4</td>\n",
       "      <td>Yes</td>\n",
       "      <td>5</td>\n",
       "      <td>Yes</td>\n",
       "      <td>No</td>\n",
       "      <td>No</td>\n",
       "      <td>no</td>\n",
       "      <td>yes</td>\n",
       "      <td>17</td>\n",
       "      <td>1</td>\n",
       "      <td>January</td>\n",
       "      <td>4</td>\n",
       "    </tr>\n",
       "    <tr>\n",
       "      <th>2</th>\n",
       "      <td>Delight Igboanugo</td>\n",
       "      <td>Single</td>\n",
       "      <td>F</td>\n",
       "      <td>NaN</td>\n",
       "      <td>231</td>\n",
       "      <td>64</td>\n",
       "      <td>61</td>\n",
       "      <td>51</td>\n",
       "      <td>55</td>\n",
       "      <td>231</td>\n",
       "      <td>2005-07-03</td>\n",
       "      <td>Pharmacy</td>\n",
       "      <td>Unizik</td>\n",
       "      <td>2024-01-11</td>\n",
       "      <td>2024-04-19</td>\n",
       "      <td>10000</td>\n",
       "      <td>No</td>\n",
       "      <td>4</td>\n",
       "      <td>Yes</td>\n",
       "      <td>4</td>\n",
       "      <td>Yes</td>\n",
       "      <td>No</td>\n",
       "      <td>No</td>\n",
       "      <td>Yes</td>\n",
       "      <td>No</td>\n",
       "      <td>19</td>\n",
       "      <td>1</td>\n",
       "      <td>January</td>\n",
       "      <td>4</td>\n",
       "    </tr>\n",
       "    <tr>\n",
       "      <th>3</th>\n",
       "      <td>Divine Ifedimma</td>\n",
       "      <td>Single</td>\n",
       "      <td>M</td>\n",
       "      <td>207.0</td>\n",
       "      <td>206</td>\n",
       "      <td>51</td>\n",
       "      <td>41</td>\n",
       "      <td>51</td>\n",
       "      <td>61</td>\n",
       "      <td>204</td>\n",
       "      <td>2004-12-27</td>\n",
       "      <td>Nursing</td>\n",
       "      <td>Unizik</td>\n",
       "      <td>2024-01-08</td>\n",
       "      <td>2024-04-19</td>\n",
       "      <td>13000</td>\n",
       "      <td>No</td>\n",
       "      <td>3</td>\n",
       "      <td>Yes</td>\n",
       "      <td>4</td>\n",
       "      <td>Yes</td>\n",
       "      <td>No</td>\n",
       "      <td>No</td>\n",
       "      <td>no</td>\n",
       "      <td>yes</td>\n",
       "      <td>20</td>\n",
       "      <td>1</td>\n",
       "      <td>January</td>\n",
       "      <td>4</td>\n",
       "    </tr>\n",
       "    <tr>\n",
       "      <th>4</th>\n",
       "      <td>Oluomachi Nwabuikwu</td>\n",
       "      <td>Single</td>\n",
       "      <td>F</td>\n",
       "      <td>175.0</td>\n",
       "      <td>179</td>\n",
       "      <td>49</td>\n",
       "      <td>47</td>\n",
       "      <td>44</td>\n",
       "      <td>39</td>\n",
       "      <td>179</td>\n",
       "      <td>2005-12-03</td>\n",
       "      <td>Nursing</td>\n",
       "      <td>Unizik</td>\n",
       "      <td>2024-01-10</td>\n",
       "      <td>2024-04-19</td>\n",
       "      <td>10000</td>\n",
       "      <td>No</td>\n",
       "      <td>4</td>\n",
       "      <td>Yes</td>\n",
       "      <td>5</td>\n",
       "      <td>Yes</td>\n",
       "      <td>No</td>\n",
       "      <td>No</td>\n",
       "      <td>no</td>\n",
       "      <td>yes</td>\n",
       "      <td>19</td>\n",
       "      <td>1</td>\n",
       "      <td>January</td>\n",
       "      <td>4</td>\n",
       "    </tr>\n",
       "    <tr>\n",
       "      <th>5</th>\n",
       "      <td>Ilozor Chidimma</td>\n",
       "      <td>Single</td>\n",
       "      <td>F</td>\n",
       "      <td>NaN</td>\n",
       "      <td>228</td>\n",
       "      <td>56</td>\n",
       "      <td>55</td>\n",
       "      <td>61</td>\n",
       "      <td>56</td>\n",
       "      <td>228</td>\n",
       "      <td>2006-11-16</td>\n",
       "      <td>Pharmacy</td>\n",
       "      <td>Unizik</td>\n",
       "      <td>2024-01-15</td>\n",
       "      <td>2024-04-19</td>\n",
       "      <td>10000</td>\n",
       "      <td>No</td>\n",
       "      <td>3</td>\n",
       "      <td>Yes</td>\n",
       "      <td>5</td>\n",
       "      <td>Yes</td>\n",
       "      <td>yes</td>\n",
       "      <td>No</td>\n",
       "      <td>no</td>\n",
       "      <td>yes</td>\n",
       "      <td>18</td>\n",
       "      <td>1</td>\n",
       "      <td>January</td>\n",
       "      <td>4</td>\n",
       "    </tr>\n",
       "    <tr>\n",
       "      <th>6</th>\n",
       "      <td>Nwogbo Chioma</td>\n",
       "      <td>Single</td>\n",
       "      <td>F</td>\n",
       "      <td>180.0</td>\n",
       "      <td>205</td>\n",
       "      <td>57</td>\n",
       "      <td>48</td>\n",
       "      <td>47</td>\n",
       "      <td>53</td>\n",
       "      <td>205</td>\n",
       "      <td>2006-04-05</td>\n",
       "      <td>Nursing</td>\n",
       "      <td>Unizik</td>\n",
       "      <td>2024-01-15</td>\n",
       "      <td>2024-04-19</td>\n",
       "      <td>15000</td>\n",
       "      <td>No</td>\n",
       "      <td>3</td>\n",
       "      <td>Yes</td>\n",
       "      <td>5</td>\n",
       "      <td>Yes</td>\n",
       "      <td>No</td>\n",
       "      <td>No</td>\n",
       "      <td>no</td>\n",
       "      <td>yes</td>\n",
       "      <td>18</td>\n",
       "      <td>1</td>\n",
       "      <td>January</td>\n",
       "      <td>4</td>\n",
       "    </tr>\n",
       "  </tbody>\n",
       "</table>\n",
       "</div>"
      ],
      "text/plain": [
       "          Student Name Marital Status Gender  Year 2023  Year 2024  English  \\\n",
       "0        Chinelo Nneto         Single      F      171.0        217       49   \n",
       "1      Mmesoma Ofodile         Single      F      192.0        230       54   \n",
       "2    Delight Igboanugo         Single      F        NaN        231       64   \n",
       "3      Divine Ifedimma         Single      M      207.0        206       51   \n",
       "4  Oluomachi Nwabuikwu         Single      F      175.0        179       49   \n",
       "5      Ilozor Chidimma         Single      F        NaN        228       56   \n",
       "6        Nwogbo Chioma         Single      F      180.0        205       57   \n",
       "\n",
       "   Chemistry  Physics  Biology  Total Date of Birth Course Registered  \\\n",
       "0         67       53       48    217    2006-01-14          Pharmacy   \n",
       "1         59       60       57    230    2007-08-12           Nursing   \n",
       "2         61       51       55    231    2005-07-03          Pharmacy   \n",
       "3         41       51       61    204    2004-12-27           Nursing   \n",
       "4         47       44       39    179    2005-12-03           Nursing   \n",
       "5         55       61       56    228    2006-11-16          Pharmacy   \n",
       "6         48       47       53    205    2006-04-05           Nursing   \n",
       "\n",
       "  University Registered Date Registered Date Stopped  Lesson Fee Work Status  \\\n",
       "0                Unizik      2024-01-09   2024-04-19       13000          No   \n",
       "1                   UNN      2024-01-10   2024-04-19       15000          No   \n",
       "2                Unizik      2024-01-11   2024-04-19       10000          No   \n",
       "3                Unizik      2024-01-08   2024-04-19       13000          No   \n",
       "4                Unizik      2024-01-10   2024-04-19       10000          No   \n",
       "5                Unizik      2024-01-15   2024-04-19       10000          No   \n",
       "6                Unizik      2024-01-15   2024-04-19       15000          No   \n",
       "\n",
       "   Hours Read Read Past Questions  Teaching Satisfaction Finished on time  \\\n",
       "0           5                 Yes                      5               No   \n",
       "1           4                 Yes                      5              Yes   \n",
       "2           4                 Yes                      4              Yes   \n",
       "3           3                 Yes                      4              Yes   \n",
       "4           4                 Yes                      5              Yes   \n",
       "5           3                 Yes                      5              Yes   \n",
       "6           3                 Yes                      5              Yes   \n",
       "\n",
       "  Computer Off Questions Different Pay Yourself Close Proximity to center  \\\n",
       "0           No                  No           no                       yes   \n",
       "1           No                  No           no                       yes   \n",
       "2           No                  No          Yes                        No   \n",
       "3           No                  No           no                       yes   \n",
       "4           No                  No           no                       yes   \n",
       "5          yes                  No           no                       yes   \n",
       "6           No                  No           no                       yes   \n",
       "\n",
       "   Student Age  Month Registered Month Name  Month Stopped  \n",
       "0           18                 1    January              4  \n",
       "1           17                 1    January              4  \n",
       "2           19                 1    January              4  \n",
       "3           20                 1    January              4  \n",
       "4           19                 1    January              4  \n",
       "5           18                 1    January              4  \n",
       "6           18                 1    January              4  "
      ]
     },
     "execution_count": 24,
     "metadata": {},
     "output_type": "execute_result"
    }
   ],
   "source": [
    "df.head(7)"
   ]
  },
  {
   "cell_type": "code",
   "execution_count": 25,
   "id": "29acf949-f678-4c0e-8c38-3dbd04f2bbc7",
   "metadata": {},
   "outputs": [],
   "source": [
    "#Number of months did lesson\n",
    "df['Lesson Duration (Months)'] = df['Month Stopped']-df['Month Registered']"
   ]
  },
  {
   "cell_type": "code",
   "execution_count": 27,
   "id": "85ee7c93-e64b-4cf4-9016-9140ffba7af5",
   "metadata": {},
   "outputs": [],
   "source": [
    "#Create total lesson fee payed by each student for the lesson duration\n",
    "df['Total Lesson Fee'] = df['Lesson Fee']*df['Lesson Duration (Months)']"
   ]
  },
  {
   "cell_type": "code",
   "execution_count": null,
   "id": "6d63242f-51e7-459d-9c32-63f0b4418c07",
   "metadata": {},
   "outputs": [],
   "source": [
    "#create week registered\n",
    "df['Week Registered'] = df['Date Registered'].dt.week"
   ]
  },
  {
   "cell_type": "code",
   "execution_count": null,
   "id": "69ff6b4c-334c-469b-b259-5d9fa3962ef9",
   "metadata": {},
   "outputs": [],
   "source": []
  },
  {
   "cell_type": "markdown",
   "id": "1336248c-9182-445e-825a-4e940c5d8b6f",
   "metadata": {},
   "source": [
    "## Data Exploration"
   ]
  },
  {
   "cell_type": "code",
   "execution_count": 36,
   "id": "7fee415b-841d-46a8-b844-58695daaf9c5",
   "metadata": {},
   "outputs": [
    {
     "data": {
      "text/plain": [
       "Index(['Student Name', 'Marital Status', 'Gender', 'Score 2023', 'Score 2024',\n",
       "       'English', 'Chemistry', 'Physics', 'Biology', 'Total', 'Date of Birth',\n",
       "       'Course Registered', 'University Registered', 'Date Registered',\n",
       "       'Date Stopped', 'Lesson Fee', 'Work Status', 'Hours Read',\n",
       "       'Read Past Questions', 'Teaching Satisfaction', 'Finished on time',\n",
       "       'Computer Off', 'Questions Different', 'Pay Yourself',\n",
       "       'Close Proximity to center', 'Student Age', 'Month Registered',\n",
       "       'Month Name', 'Month Stopped', 'Lesson Duration (Months)',\n",
       "       'Total Lesson Fee'],\n",
       "      dtype='object')"
      ]
     },
     "execution_count": 36,
     "metadata": {},
     "output_type": "execute_result"
    }
   ],
   "source": [
    "#display column names\n",
    "df.columns"
   ]
  },
  {
   "cell_type": "markdown",
   "id": "5d688881-1b08-4506-a3c8-94d9f3afe0e8",
   "metadata": {},
   "source": [
    "#### Gender Distribution"
   ]
  },
  {
   "cell_type": "code",
   "execution_count": 38,
   "id": "77ba2a16-b9c1-4662-90cb-df04a32dc6f9",
   "metadata": {},
   "outputs": [
    {
     "data": {
      "text/plain": [
       "Gender\n",
       "F    37\n",
       "M    15\n",
       "Name: count, dtype: int64"
      ]
     },
     "execution_count": 38,
     "metadata": {},
     "output_type": "execute_result"
    }
   ],
   "source": [
    "#To determine the gender distribution of the students\n",
    "df['Gender'].value_counts()"
   ]
  },
  {
   "cell_type": "markdown",
   "id": "59e277a1-0778-461d-a1a8-1bbd1c05ec27",
   "metadata": {},
   "source": [
    "- There are 37 female students and 15 male students"
   ]
  },
  {
   "cell_type": "markdown",
   "id": "125d49e2-4d55-435f-8282-07443b18b633",
   "metadata": {},
   "source": [
    "#### Marital Status Distribution"
   ]
  },
  {
   "cell_type": "code",
   "execution_count": 39,
   "id": "27972d3b-d9ac-4ede-af0a-0fe10a2c88da",
   "metadata": {},
   "outputs": [
    {
     "data": {
      "text/plain": [
       "Marital Status\n",
       "Single     50\n",
       "Married     2\n",
       "Name: count, dtype: int64"
      ]
     },
     "execution_count": 39,
     "metadata": {},
     "output_type": "execute_result"
    }
   ],
   "source": [
    "#check the marital status distribution\n",
    "df['Marital Status'].value_counts()"
   ]
  },
  {
   "cell_type": "markdown",
   "id": "3133f576-c72e-4ef5-bb0d-40b0df7b3ea9",
   "metadata": {},
   "source": [
    "- Fifty (50) students were single whereas only two are married"
   ]
  },
  {
   "cell_type": "code",
   "execution_count": 53,
   "id": "424377af-9651-47e6-8fb1-da501ef2174f",
   "metadata": {},
   "outputs": [
    {
     "data": {
      "image/png": "[encoded data removed]",
      "text/plain": [
       "<Figure size 800x400 with 2 Axes>"
      ]
     },
     "metadata": {},
     "output_type": "display_data"
    }
   ],
   "source": [
    "#plot a bar chart and pie chart of the Gender and Marital Status respectively\n",
    "fig, ax = plt.subplots(1,2, figsize=[8,4])\n",
    "\n",
    "ax[0].bar(x=df['Gender'].value_counts().index, height=df['Gender'].value_counts().values)\n",
    "ax[1].pie(df['Marital Status'].value_counts().values, labels=df['Marital Status'].value_counts().index, startangle=90, autopct=\"%.0f%%\", pctdistance=0.85)\n",
    "\n",
    "donut_hole = plt.Circle((0,0), 0.70, fc=\"white\")\n",
    "fig = plt.gcf()\n",
    "fig.gca().add_artist(donut_hole)\n",
    "\n",
    "#add title\n",
    "ax[0].set_title('Gender Distribution')\n",
    "ax[1].set_title('Marital Status Distribution')\n",
    "\n",
    "#remove spines\n",
    "ax[0].spines[['top', 'left', 'right']].set_visible(False)\n",
    "\n",
    "#remove y-axis\n",
    "ax[0].yaxis.set_visible(False)\n",
    "\n",
    "#add annotation\n",
    "for index, values in enumerate(df['Gender'].value_counts()):\n",
    "    ax[0].annotate(values, xy=(index, values+0.7), ha='center', va='center')\n",
    "\n",
    "\n",
    "plt.show()\n",
    "          "
   ]
  },
  {
   "cell_type": "markdown",
   "id": "87edf3cc-fce3-49b2-9981-10f8b1cdd003",
   "metadata": {},
   "source": [
    "#### Student Age Distribution"
   ]
  },
  {
   "cell_type": "code",
   "execution_count": 60,
   "id": "9a2051be-fad9-4c62-b39d-c29ad2063e41",
   "metadata": {},
   "outputs": [
    {
     "data": {
      "text/plain": [
       "Student Age\n",
       "17     7\n",
       "18    23\n",
       "19     9\n",
       "20     7\n",
       "21     1\n",
       "22     1\n",
       "23     1\n",
       "24     1\n",
       "25     2\n",
       "Name: count, dtype: int64"
      ]
     },
     "execution_count": 60,
     "metadata": {},
     "output_type": "execute_result"
    }
   ],
   "source": [
    "#Age distribution of the students\n",
    "df['Student Age'].value_counts().sort_index(ascending=True)"
   ]
  },
  {
   "cell_type": "code",
   "execution_count": 81,
   "id": "0a3e66b9-5564-4476-b823-a96851f0e0f5",
   "metadata": {},
   "outputs": [
    {
     "data": {
      "image/png": "[encoded data removed]",
      "text/plain": [
       "<Figure size 800x400 with 1 Axes>"
      ]
     },
     "metadata": {},
     "output_type": "display_data"
    }
   ],
   "source": [
    "#plot a bar chart of the student age\n",
    "\n",
    "#create a dataframe of the student age\n",
    "age = df.groupby(['Student Age'], as_index=False).agg(total_no = ('Student Name', 'count'))\n",
    "\n",
    "#cast the student age as string\n",
    "age['Student Age'] = age['Student Age'].astype('str')\n",
    "\n",
    "#create a percentage\n",
    "age['perc'] = ((age['total_no']/age['total_no'].sum())*100).round(0)\n",
    "\n",
    "fig, ax = plt.subplots(figsize=[8,4])\n",
    "ax.bar(x=age['Student Age'], height=age['total_no'])\n",
    "\n",
    "#add title\n",
    "ax.set_title('Student Age Distribution')\n",
    "ax.set_xlabel('Student Age')\n",
    "\n",
    "#remove spines\n",
    "ax.spines[['top', 'left', 'right']].set_visible(False)\n",
    "\n",
    "#remove y-axis\n",
    "ax.yaxis.set_visible(False)\n",
    "\n",
    "#add annotation\n",
    "for index, values in enumerate(age['total_no']):\n",
    "    ax.annotate(values, xy=(index, values+0.7), ha='center', va='center')\n",
    "\n",
    "#this code is for adding both the count and percentage as data labels\n",
    "# for i, (v,p) in enumerate(zip(age['total_no'], age['perc'])):\n",
    "#     ax.text(i, v, f\"{v}({p:.1f}%)\", ha=\"center\")\n",
    "    \n",
    "plt.show()"
   ]
  },
  {
   "cell_type": "markdown",
   "id": "7d1e3649-345f-4c6c-89e4-91a9e98cf89b",
   "metadata": {},
   "source": [
    "- 7 students are 17 years old, the rest are above 18 years with about 44% at 18 years"
   ]
  },
  {
   "cell_type": "markdown",
   "id": "7396d27a-02de-4779-bbba-7f2e5211a248",
   "metadata": {},
   "source": [
    "#### Distriution of courses registered"
   ]
  },
  {
   "cell_type": "code",
   "execution_count": 85,
   "id": "56c1d57f-75aa-44e7-bfae-bd787a62d0d8",
   "metadata": {},
   "outputs": [
    {
     "data": {
      "text/plain": [
       "Course Registered\n",
       "Nursing                   26\n",
       "Medicine                   6\n",
       "Pharmacy                   4\n",
       "Computer Science           4\n",
       "Med Lab                    4\n",
       "Radiography                2\n",
       "Cyber Security             1\n",
       "Med Rehabilitation         1\n",
       "Industrial Chemistry       1\n",
       "Civil Engineer             1\n",
       "Mechanical Eng             1\n",
       "Electrical Engineering     1\n",
       "Name: count, dtype: int64"
      ]
     },
     "execution_count": 85,
     "metadata": {},
     "output_type": "execute_result"
    }
   ],
   "source": [
    "#to get the distriution of courses registered\n",
    "df['Course Registered'].value_counts()"
   ]
  },
  {
   "cell_type": "code",
   "execution_count": 94,
   "id": "c1259bf3-b427-4724-842c-7f7686214ac4",
   "metadata": {},
   "outputs": [
    {
     "data": {
      "image/png": "[encoded data removed]",
      "text/plain": [
       "<Figure size 800x400 with 1 Axes>"
      ]
     },
     "metadata": {},
     "output_type": "display_data"
    }
   ],
   "source": [
    "fig, ax = plt.subplots(figsize=[8,4])\n",
    "ax.bar(x=df['Course Registered'].value_counts().index, height=df['Course Registered'].value_counts().values)\n",
    "\n",
    "#add title\n",
    "ax.set_title('Distribution of Courses Registered')\n",
    "ax.set_xlabel('Courses Registered')\n",
    "ax.yaxis.set_visible(False)\n",
    "\n",
    "ax.xaxis.set_tick_params(rotation=75)\n",
    "\n",
    "ax.spines[['top', 'left', 'right']].set_visible(False)\n",
    "\n",
    "for index, values in enumerate(df['Course Registered'].value_counts()):\n",
    "    ax.annotate(values, xy=(index, values+0.8), ha='center', va='center')\n",
    "\n",
    "plt.show()"
   ]
  },
  {
   "cell_type": "markdown",
   "id": "081fe4a4-e204-4247-854f-f9fe0ef3373b",
   "metadata": {},
   "source": [
    "- With the demand for professional nurses both within the country and outside about 26 students which is 50% of the students applied to study Nursing"
   ]
  },
  {
   "cell_type": "code",
   "execution_count": 100,
   "id": "e889e16d-8834-420c-b5e3-0fdb64c095d8",
   "metadata": {},
   "outputs": [
    {
     "data": {
      "text/html": [
       "<div>\n",
       "<style scoped>\n",
       "    .dataframe tbody tr th:only-of-type {\n",
       "        vertical-align: middle;\n",
       "    }\n",
       "\n",
       "    .dataframe tbody tr th {\n",
       "        vertical-align: top;\n",
       "    }\n",
       "\n",
       "    .dataframe thead th {\n",
       "        text-align: right;\n",
       "    }\n",
       "</style>\n",
       "<table border=\"1\" class=\"dataframe\">\n",
       "  <thead>\n",
       "    <tr style=\"text-align: right;\">\n",
       "      <th></th>\n",
       "      <th>Gender</th>\n",
       "      <th>total_no</th>\n",
       "    </tr>\n",
       "  </thead>\n",
       "  <tbody>\n",
       "    <tr>\n",
       "      <th>0</th>\n",
       "      <td>F</td>\n",
       "      <td>22</td>\n",
       "    </tr>\n",
       "    <tr>\n",
       "      <th>1</th>\n",
       "      <td>M</td>\n",
       "      <td>4</td>\n",
       "    </tr>\n",
       "  </tbody>\n",
       "</table>\n",
       "</div>"
      ],
      "text/plain": [
       "  Gender  total_no\n",
       "0      F        22\n",
       "1      M         4"
      ]
     },
     "execution_count": 100,
     "metadata": {},
     "output_type": "execute_result"
    }
   ],
   "source": [
    "#distribution of Nursing and Gender\n",
    "nursing = df[df['Course Registered']==\"Nursing\"].groupby(['Gender'], as_index=False).agg(total_no=('Student Name', 'count'))\n",
    "nursing"
   ]
  },
  {
   "cell_type": "code",
   "execution_count": 104,
   "id": "9a6b263b-187e-469a-8133-75b9c96b01e0",
   "metadata": {},
   "outputs": [
    {
     "data": {
      "image/png": "[encoded data removed]",
      "text/plain": [
       "<Figure size 500x400 with 1 Axes>"
      ]
     },
     "metadata": {},
     "output_type": "display_data"
    }
   ],
   "source": [
    "fig, ax = plt.subplots(figsize=[5,4])\n",
    "\n",
    "ax.pie(nursing['total_no'], labels=nursing['Gender'], autopct=\"%.0f%%\", startangle=90)\n",
    "\n",
    "ax.set_title('Gender distribution of Nursing Course')\n",
    "\n",
    "plt.show()"
   ]
  },
  {
   "cell_type": "markdown",
   "id": "10ca12c3-7f5e-4030-b8a0-09b239b988d2",
   "metadata": {},
   "source": [
    "- 85% of the student that applied for nursing courses are female, while 15% are male"
   ]
  },
  {
   "cell_type": "code",
   "execution_count": 105,
   "id": "2486d4b6-3c2a-48aa-869e-0a49c2e35882",
   "metadata": {},
   "outputs": [
    {
     "data": {
      "text/plain": [
       "University Registered\n",
       "Unizik                42\n",
       "UNN                    5\n",
       "IMSU                   1\n",
       "college of nursing     1\n",
       "Funai                  1\n",
       "Uniport                1\n",
       "ANSU                   1\n",
       "Name: count, dtype: int64"
      ]
     },
     "execution_count": 105,
     "metadata": {},
     "output_type": "execute_result"
    }
   ],
   "source": [
    "#to get the distriution of University registered\n",
    "df['University Registered'].value_counts()"
   ]
  },
  {
   "cell_type": "code",
   "execution_count": 107,
   "id": "3ea4a654-305e-4c37-b99c-4ec11178d2ed",
   "metadata": {},
   "outputs": [
    {
     "data": {
      "image/png": "[encoded data removed]",
      "text/plain": [
       "<Figure size 800x400 with 1 Axes>"
      ]
     },
     "metadata": {},
     "output_type": "display_data"
    }
   ],
   "source": [
    "fig, ax = plt.subplots(figsize=[8,4])\n",
    "ax.bar(x=df['University Registered'].value_counts().index, height=df['University Registered'].value_counts().values)\n",
    "\n",
    "#add title\n",
    "ax.set_title('Distribution of University Registered')\n",
    "ax.set_xlabel('University Registered')\n",
    "ax.yaxis.set_visible(False)\n",
    "\n",
    "#ax.xaxis.set_tick_params(rotation=75)\n",
    "\n",
    "ax.spines[['top', 'left', 'right']].set_visible(False)\n",
    "\n",
    "for index, values in enumerate(df['University Registered'].value_counts()):\n",
    "    ax.annotate(values, xy=(index, values+0.8), ha='center', va='center')\n",
    "\n",
    "plt.show()"
   ]
  },
  {
   "cell_type": "markdown",
   "id": "42615e62-843f-41e7-ae9d-fa682866e530",
   "metadata": {},
   "source": [
    "- Nnamdi Azikiwe University (Unizik) is the most popular choice for students with about 80% of the choice"
   ]
  },
  {
   "cell_type": "code",
   "execution_count": 108,
   "id": "a367caf0-6519-402b-87dd-725eb9d0432f",
   "metadata": {},
   "outputs": [
    {
     "data": {
      "text/plain": [
       "Index(['Student Name', 'Marital Status', 'Gender', 'Score 2023', 'Score 2024',\n",
       "       'English', 'Chemistry', 'Physics', 'Biology', 'Total', 'Date of Birth',\n",
       "       'Course Registered', 'University Registered', 'Date Registered',\n",
       "       'Date Stopped', 'Lesson Fee', 'Work Status', 'Hours Read',\n",
       "       'Read Past Questions', 'Teaching Satisfaction', 'Finished on time',\n",
       "       'Computer Off', 'Questions Different', 'Pay Yourself',\n",
       "       'Close Proximity to center', 'Student Age', 'Month Registered',\n",
       "       'Month Name', 'Month Stopped', 'Lesson Duration (Months)',\n",
       "       'Total Lesson Fee'],\n",
       "      dtype='object')"
      ]
     },
     "execution_count": 108,
     "metadata": {},
     "output_type": "execute_result"
    }
   ],
   "source": [
    "df.columns"
   ]
  },
  {
   "cell_type": "markdown",
   "id": "745a4cb6-5f31-41aa-82b0-7c751ca3eb92",
   "metadata": {},
   "source": [
    "#### Timeline of student registration at the center"
   ]
  },
  {
   "cell_type": "code",
   "execution_count": 110,
   "id": "ed51f3f2-1206-45fe-80e5-50d7946eaed7",
   "metadata": {},
   "outputs": [
    {
     "data": {
      "text/html": [
       "<div>\n",
       "<style scoped>\n",
       "    .dataframe tbody tr th:only-of-type {\n",
       "        vertical-align: middle;\n",
       "    }\n",
       "\n",
       "    .dataframe tbody tr th {\n",
       "        vertical-align: top;\n",
       "    }\n",
       "\n",
       "    .dataframe thead th {\n",
       "        text-align: right;\n",
       "    }\n",
       "</style>\n",
       "<table border=\"1\" class=\"dataframe\">\n",
       "  <thead>\n",
       "    <tr style=\"text-align: right;\">\n",
       "      <th></th>\n",
       "      <th>Date Registered</th>\n",
       "      <th>total_no</th>\n",
       "    </tr>\n",
       "  </thead>\n",
       "  <tbody>\n",
       "    <tr>\n",
       "      <th>0</th>\n",
       "      <td>2024-01-08</td>\n",
       "      <td>1</td>\n",
       "    </tr>\n",
       "    <tr>\n",
       "      <th>1</th>\n",
       "      <td>2024-01-09</td>\n",
       "      <td>1</td>\n",
       "    </tr>\n",
       "    <tr>\n",
       "      <th>2</th>\n",
       "      <td>2024-01-10</td>\n",
       "      <td>4</td>\n",
       "    </tr>\n",
       "    <tr>\n",
       "      <th>3</th>\n",
       "      <td>2024-01-11</td>\n",
       "      <td>4</td>\n",
       "    </tr>\n",
       "    <tr>\n",
       "      <th>4</th>\n",
       "      <td>2024-01-15</td>\n",
       "      <td>3</td>\n",
       "    </tr>\n",
       "  </tbody>\n",
       "</table>\n",
       "</div>"
      ],
      "text/plain": [
       "  Date Registered  total_no\n",
       "0      2024-01-08         1\n",
       "1      2024-01-09         1\n",
       "2      2024-01-10         4\n",
       "3      2024-01-11         4\n",
       "4      2024-01-15         3"
      ]
     },
     "execution_count": 110,
     "metadata": {},
     "output_type": "execute_result"
    }
   ],
   "source": [
    "reg = df.groupby(['Date Registered'], as_index=False).agg(total_no=('Student Name', 'count'))\n",
    "reg.head()"
   ]
  },
  {
   "cell_type": "code",
   "execution_count": 115,
   "id": "8b3a0284-9688-4823-a2d2-cc2e4d443e92",
   "metadata": {},
   "outputs": [
    {
     "data": {
      "image/png": "[encoded data removed]",
      "text/plain": [
       "<Figure size 1600x300 with 1 Axes>"
      ]
     },
     "metadata": {},
     "output_type": "display_data"
    }
   ],
   "source": [
    "#plot a linechart of the timeline\n",
    "fig, ax = plt.subplots(figsize=[16,3])\n",
    "ax.plot(reg['Date Registered'], reg['total_no'])\n",
    "\n",
    "plt.show()"
   ]
  },
  {
   "cell_type": "markdown",
   "id": "bcbf202e-010c-4a6b-825c-58cf84987d32",
   "metadata": {},
   "source": [
    "#### Distribution of the Work Status"
   ]
  },
  {
   "cell_type": "code",
   "execution_count": 116,
   "id": "4915f6c9-1c1e-4fd2-80d8-8aa57cabcb83",
   "metadata": {},
   "outputs": [
    {
     "data": {
      "text/plain": [
       "Work Status\n",
       "No     42\n",
       "Yes    10\n",
       "Name: count, dtype: int64"
      ]
     },
     "execution_count": 116,
     "metadata": {},
     "output_type": "execute_result"
    }
   ],
   "source": [
    "#distribution of the work status\n",
    "df['Work Status'].value_counts()"
   ]
  },
  {
   "cell_type": "code",
   "execution_count": 122,
   "id": "4003b9d1-944b-4919-ba58-7cee572a81f2",
   "metadata": {},
   "outputs": [
    {
     "data": {
      "image/png": "[encoded data removed]",
      "text/plain": [
       "<Figure size 800x400 with 2 Axes>"
      ]
     },
     "metadata": {},
     "output_type": "display_data"
    }
   ],
   "source": [
    "fig, ax = plt.subplots(1, 2, figsize=[8,4])\n",
    "ax[0].bar(x=df['Work Status'].value_counts().index, height=df['Work Status'].value_counts().values)\n",
    "\n",
    "#add title\n",
    "ax[0].set_title('Distribution of Student Work Status')\n",
    "ax[0].set_xlabel('Work Status')\n",
    "ax[0].yaxis.set_visible(False)\n",
    "\n",
    "#ax.xaxis.set_tick_params(rotation=75)\n",
    "\n",
    "ax[0].spines[['top', 'left', 'right']].set_visible(False)\n",
    "\n",
    "for index, values in enumerate(df['Work Status'].value_counts()):\n",
    "    ax[0].annotate(values, xy=(index, values+0.8), ha='center', va='center')\n",
    "\n",
    "#plot 2\n",
    "ax[1].pie(df['Work Status'].value_counts().values, labels=df['Work Status'].value_counts().index, autopct=\"%.0f%%\", startangle=90)\n",
    "\n",
    "ax[1].set_title('Proportion of student work status')\n",
    "\n",
    "plt.show()"
   ]
  },
  {
   "cell_type": "markdown",
   "id": "c046aa34-03a5-45f8-8689-ac9ffbb6b472",
   "metadata": {},
   "source": [
    "- About 19% of the students work and attend lesson while 81% do not work"
   ]
  },
  {
   "cell_type": "markdown",
   "id": "0d5db385-2f37-468b-bf69-e5bb6c23dc70",
   "metadata": {},
   "source": [
    "#### Distribution of hours read"
   ]
  },
  {
   "cell_type": "code",
   "execution_count": 124,
   "id": "deb48a17-2d83-46ec-beef-3dc6854aded9",
   "metadata": {},
   "outputs": [
    {
     "data": {
      "text/plain": [
       "Hours Read\n",
       "2     11\n",
       "3     25\n",
       "4     11\n",
       "5      3\n",
       "7      1\n",
       "10     1\n",
       "Name: count, dtype: int64"
      ]
     },
     "execution_count": 124,
     "metadata": {},
     "output_type": "execute_result"
    }
   ],
   "source": [
    "#distribution of number of hours the student read per day\n",
    "df['Hours Read'].value_counts().sort_index(ascending=True)"
   ]
  },
  {
   "cell_type": "code",
   "execution_count": 130,
   "id": "18977676-82b4-4178-8d5d-9327e4c70874",
   "metadata": {},
   "outputs": [
    {
     "data": {
      "image/png": "[encoded data removed]",
      "text/plain": [
       "<Figure size 800x400 with 1 Axes>"
      ]
     },
     "metadata": {},
     "output_type": "display_data"
    }
   ],
   "source": [
    "#plot a bar chart of number of hours read\n",
    "\n",
    "fig, ax = plt.subplots(figsize=[8,4])\n",
    "hr_read = df.groupby(['Hours Read'], as_index=False).agg(total_hours=('Student Name', 'count'))\n",
    "\n",
    "#casting hours read as string\n",
    "hr_read['Hours Read']=hr_read['Hours Read'].astype('str')\n",
    "\n",
    "ax.bar(x=hr_read['Hours Read'], height=hr_read['total_hours'])\n",
    "\n",
    "#add title\n",
    "ax.set_title('Distribution of number of hours read')\n",
    "ax.set_xlabel('Hours Read')\n",
    "ax.yaxis.set_visible(False)\n",
    "\n",
    "#ax.xaxis.set_tick_params(rotation=75)\n",
    "\n",
    "ax.spines[['top', 'left', 'right']].set_visible(False)\n",
    "\n",
    "for index, values in enumerate(hr_read['total_hours']):\n",
    "    ax.annotate(values, xy=(index, values+0.8), ha='center', va='center')\n",
    "\n",
    "\n",
    "plt.show()"
   ]
  },
  {
   "cell_type": "markdown",
   "id": "f7c8d2f8-e7b7-41e1-9f24-d65b07394d7f",
   "metadata": {},
   "source": [
    "- Majority of the student read between 2 to 4 hours each day with about 25 students reading 3 hours each day"
   ]
  },
  {
   "cell_type": "code",
   "execution_count": 132,
   "id": "de594a1a-ef4e-4dcf-9269-41e6b06ed3be",
   "metadata": {},
   "outputs": [
    {
     "data": {
      "text/plain": [
       "Teaching Satisfaction\n",
       "5    35\n",
       "4    16\n",
       "3     1\n",
       "Name: count, dtype: int64"
      ]
     },
     "execution_count": 132,
     "metadata": {},
     "output_type": "execute_result"
    }
   ],
   "source": [
    "df['Teaching Satisfaction'].value_counts()"
   ]
  },
  {
   "cell_type": "code",
   "execution_count": 134,
   "id": "89aceaa1-8b92-4b11-a46c-e017b3c2ef74",
   "metadata": {},
   "outputs": [
    {
     "data": {
      "text/plain": [
       "4.653846153846154"
      ]
     },
     "execution_count": 134,
     "metadata": {},
     "output_type": "execute_result"
    }
   ],
   "source": [
    "#Avg Satisfaction\n",
    "df['Teaching Satisfaction'].sum()/len(df)"
   ]
  },
  {
   "cell_type": "code",
   "execution_count": null,
   "id": "3e3991ec-e991-425e-b5b6-6bba844a5a66",
   "metadata": {},
   "outputs": [],
   "source": [
    "# Very Satisfied, Satisfied, Neutral, Dissatisfied, Very Disatisfied"
   ]
  }
 ],
 "metadata": {
  "kernelspec": {
   "display_name": "Python 3 (ipykernel)",
   "language": "python",
   "name": "python3"
  },
  "language_info": {
   "codemirror_mode": {
    "name": "ipython",
    "version": 3
   },
   "file_extension": ".py",
   "mimetype": "text/x-python",
   "name": "python",
   "nbconvert_exporter": "python",
   "pygments_lexer": "ipython3",
   "version": "3.11.7"
  }
 },
 "nbformat": 4,
 "nbformat_minor": 5
}
