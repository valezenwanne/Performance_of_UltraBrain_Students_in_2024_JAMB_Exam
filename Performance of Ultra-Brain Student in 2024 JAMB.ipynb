{
 "cells": [
  {
   "cell_type": "markdown",
   "id": "c1e6ea46-d96c-4300-a1da-09841eb77e2b",
   "metadata": {},
   "source": [
    "# Analysis of the performance of students of Ultra-Brain Science Academy in 2024 JAMB Exam\n",
    "By Valentine Ezenwanne"
   ]
  },
  {
   "cell_type": "markdown",
   "id": "f4f9707a-606b-40b1-93c8-996df4035648",
   "metadata": {},
   "source": [
    "## Abstract"
   ]
  },
  {
   "cell_type": "markdown",
   "id": "983c4156-c08f-4b4b-8c84-52d594bba5d9",
   "metadata": {},
   "source": [
    "Admission into higher education institutions in Nigeria requires students to write and pass the **Joint Admission Matriculation Examination (JAMB)**. This exam consists of questions on the English subject plus three additional subjects of choice, depending on the course the student applied for. In the case of science students, they had to choose among Mathematics, Physics, Biology, and Chemistry. \n",
    "\n",
    "The Academy had **56** students in total, **40 females** and **16 males**; two of the female students were married, while the rest were single. **18%** of the students worked and attended classes, and **41%** resided far away from the academy. A total of **32** students had previously sat the exam in the year 2023, whereas **24** students wrote for the first time in 2024. **52%** of the students applied for Nursing and **79%** of them choose **Nnamdi Azikiwe University (Unizik)** as their first choice\n",
    "\n",
    "The 2024 students' JAMB scores had the same mean and median of **213** with a standard deviation of **31.79**. The highest and lowest scores are **290** and **146**, respectively. Analysis showed that **14%** of the students scored **above 250**, **55%** scored between **200 and 249**, and **30%** scored **less than 200**.\n",
    "\n",
    "The analysis of the performance of students who wrote in both 2023 and 2024 yielded an average score of **205** in year 2023 and **221** in year 2024. The boxplot revealed that more over **80%** of students scored **above 200**, whereas in the previous year 2023, less than **50%** passed the 200 mark.\n",
    "\n",
    "A paired sample t-test with an alpha level of 0.05 was used to further examine whether students' performance in 2024 was better than that in 2023. The p-value **(0.00093)** obtained is less than the **0.05** significance level, thus we **reject** the null hypothesis that the mean in 2023 and 2024 are the same. Thus, at the **5%** significance level, the data provide strong evidence to suggest that the students' JAMB score increased after months of tutoring and that the students performed better in 2024.\n",
    "\n",
    "The performance of male students was compared to that of female students, the mean score (216.3 vs. 212.1) showed that male had a higher mean score, but the standard deviation (39.85 vs. 28.44) showed male scores were more spread out from the mean. The interquartile range value (64.5 vs. 35.75) confirms the variability in male scores. This demonstrated that female students did better than male students on the exam.\n",
    "\n",
    "An examination of the impact of tutoring time on performance revealed that students who received three months of tutoring had a mean score of **220.38** and a standard deviation of 32.21, which is higher than those who had two months **(201.09)** or one month **(203.38)**. This suggests that the longer the tutoring period, the better the students’ exam results.\n",
    "\n",
    "Analysis of the amount of time, the student spent reading each day revealed that students who invested three hours reading every day in preparation for the exam did better, with a mean score of **212.34**, a low standard deviation of 26.52, and an IQR of 32 that indicated reduced variability in the middle 50% of the data \n",
    "\n",
    "Analysis of features that may have impacted the performance of the students is required but the sample size is small and machine learning algorithm requires a large sample size inorder to learn and predict the students performance. Therefore, further analysis is recommended with large dataset."
   ]
  },
  {
   "cell_type": "markdown",
   "id": "5e3bd2ae-fc16-4668-80e4-cf4d3d3be354",
   "metadata": {},
   "source": [
    "## Objective"
   ]
  },
  {
   "cell_type": "markdown",
   "id": "53066043-e6d7-4cac-924d-5f6ac817c281",
   "metadata": {},
   "source": [
    "- To analyze the performance of Ultra-Brain Students in the JAMB 2024 exam\n",
    "- To evaluate factors that contributed to the performance of the students"
   ]
  },
  {
   "cell_type": "markdown",
   "id": "21fbeb01-a28d-474f-bccd-b156bc78059a",
   "metadata": {},
   "source": [
    "## Analysis Questions\n",
    "- Question 1: What is the highest and lowest score in 2024 JAMB\n",
    "- Question 2: What are the top five scores and least five scores\n",
    "- Question 3: What percentage scored below 200, 200-249, 250 and above\n",
    "- Question 4: What is the total revenue generated by month?\n",
    "- Question 5: What is the performance of student in 2024 compared to 2023?\n",
    "- Question 6: Did the student performance in 2024 better than 2023 performance?\n",
    "- Question 7: Did the Female students perform better than Male in 2024 JAMB?\n",
    "- Question 8: Did the student living CLOSE perform better than those living FAR?\n",
    "- Question 9: What is the performance of student based on their WORK STATUS?\n",
    "- Question 10: What is the performance of the students based on duration of tutoring?\n",
    "- Question 11: What is the performance of the students based on Hours Read?"
   ]
  },
  {
   "cell_type": "markdown",
   "id": "a277c054-3e33-4720-8b74-80cd81af7da2",
   "metadata": {},
   "source": [
    "## Dataset"
   ]
  },
  {
   "cell_type": "markdown",
   "id": "54fc7636-4c2a-41f0-80d0-32009b4dcac3",
   "metadata": {},
   "source": [
    "### Data Collection"
   ]
  },
  {
   "cell_type": "markdown",
   "id": "58e45955-e3d0-47a1-bfa9-49028e875da8",
   "metadata": {},
   "source": [
    "- The data was collected by means of questionaire. The students were sent a questionaire to answer some questions and the information collected was inputed into an Excel worksheet"
   ]
  },
  {
   "cell_type": "markdown",
   "id": "6a14c8ac-4285-414a-a97f-e942923c8b82",
   "metadata": {},
   "source": [
    "### Feature Description\n",
    "\n",
    "- **Student ID:** This is a unique id given to the students when they registered\n",
    "- **Student Name:** This is the full name of the student\n",
    "- **Marital Status:** This indicate if the student is married or single (YES: Married, No: Not Married)\n",
    "- **Gender:** This indicate the gender of the student (F: Female, M: Male)\n",
    "- **Year 2023:** This is the score of the student in JAMB in the previous year 2023.\n",
    "- **Year 2024:** This is the score of the studentin JAMB in the current year 2024\n",
    "- **English:** This is the score of the student in the English subject\n",
    "- **Chemistry:** This is the score of the student in the Chemistry subject\n",
    "- **Physics:** This is the score of the student in the Physics subject\n",
    "- **Biology/Maths:** This is the score of the student either in Maths or Biology subject\n",
    "- **Total:** This is the total score of the four subjects\n",
    "- **Date of Birth:** is the date of birth of the students\n",
    "- **Course Registered:** This is the course that the student applied as their first choice\n",
    "- **School Registered:** This is the university or college that the student applied for as their first choice\n",
    "- **Date Registered:** This is the date that the student registered for tutoring at the academy\n",
    "- **Date Stopped:** This is the date that the tutoring of the student stopped\n",
    "- **Lesson Fee:** This is the amount that the student payed each month for the tutoring\n",
    "- **Work Status:** This indicates if the student work and attend lessons (YES: work, NO: Don't Work)\n",
    "- **Hours Read:** This is the number of hours the student per day\n",
    "- **Read Past Question:** This indicates if the student prepared for the exam using past questions\n",
    "- **Teaching Satisfaction:** This indicate the student's level of satisfaction with the tutoring (1: Very Dissatisfied, 2: Dissatisfied, 3: Neutral, 4: Satisfied, 5: Very Satisfied)\n",
    "- **Finished on time:** This indicates if the student finished the exam on time\n",
    "- **System Off:** This indicates if the student computer went off during the exam\n",
    "- **Questions Different:** This indicates if the questions were different from the syllabus\n",
    "- **Pay Yourself:** This indicates if the student payed for the lesson by themselves\n",
    "- **Close Proximity to center:** This indicate if the student lives close to the academy or far"
   ]
  },
  {
   "cell_type": "markdown",
   "id": "2f6c956b-0621-44d7-a321-3f86b90e33e8",
   "metadata": {},
   "source": [
    "### Load the Libraries"
   ]
  },
  {
   "cell_type": "code",
   "execution_count": 1,
   "id": "cecae9e0-9499-4b03-9a6b-16b7079dc9ed",
   "metadata": {},
   "outputs": [],
   "source": [
    "#import the libraries\n",
    "import pandas as pd\n",
    "import numpy as np\n",
    "import seaborn as sns\n",
    "import matplotlib.pyplot as plt\n",
    "%matplotlib inline\n",
    "pd.set_option('display.max_columns', None)\n",
    "import warnings\n",
    "warnings.filterwarnings('ignore')"
   ]
  },
  {
   "cell_type": "markdown",
   "id": "3aa18fd2-25e4-4ead-b388-be375f436208",
   "metadata": {},
   "source": [
    "### Import the data"
   ]
  },
  {
   "cell_type": "code",
   "execution_count": 2,
   "id": "b238aa92-8ae7-446a-9d1e-8026ff91f998",
   "metadata": {},
   "outputs": [],
   "source": [
    "#load the data\n",
    "data = pd.read_excel('Jamb Score for UltraBrain Students.xlsx')"
   ]
  },
  {
   "cell_type": "code",
   "execution_count": 3,
   "id": "09084fb1-2c0c-4c3c-994d-4ae8b2f09089",
   "metadata": {},
   "outputs": [
    {
     "data": {
      "text/html": [
       "<div>\n",
       "<style scoped>\n",
       "    .dataframe tbody tr th:only-of-type {\n",
       "        vertical-align: middle;\n",
       "    }\n",
       "\n",
       "    .dataframe tbody tr th {\n",
       "        vertical-align: top;\n",
       "    }\n",
       "\n",
       "    .dataframe thead th {\n",
       "        text-align: right;\n",
       "    }\n",
       "</style>\n",
       "<table border=\"1\" class=\"dataframe\">\n",
       "  <thead>\n",
       "    <tr style=\"text-align: right;\">\n",
       "      <th></th>\n",
       "      <th>Student ID</th>\n",
       "      <th>Student Name</th>\n",
       "      <th>Martial Status</th>\n",
       "      <th>Gender</th>\n",
       "      <th>Year 2023</th>\n",
       "      <th>Year 2024</th>\n",
       "      <th>English</th>\n",
       "      <th>Chemistry</th>\n",
       "      <th>Physics</th>\n",
       "      <th>Biology/Maths</th>\n",
       "      <th>Total</th>\n",
       "      <th>Date of Birth</th>\n",
       "      <th>Course registered</th>\n",
       "      <th>School registered</th>\n",
       "      <th>Date Registered</th>\n",
       "      <th>Date Stopped</th>\n",
       "      <th>Lesson Fee</th>\n",
       "      <th>Work Status</th>\n",
       "      <th>Hours  read</th>\n",
       "      <th>Read Past Questions</th>\n",
       "      <th>Teaching Satisfaction</th>\n",
       "      <th>Finished on time</th>\n",
       "      <th>System off</th>\n",
       "      <th>Questions different</th>\n",
       "      <th>Pay yourself</th>\n",
       "      <th>Close Proximity to center</th>\n",
       "    </tr>\n",
       "  </thead>\n",
       "  <tbody>\n",
       "    <tr>\n",
       "      <th>0</th>\n",
       "      <td>UB2024001</td>\n",
       "      <td>Chinelo Nneto</td>\n",
       "      <td>Single</td>\n",
       "      <td>F</td>\n",
       "      <td>171.0</td>\n",
       "      <td>217</td>\n",
       "      <td>49</td>\n",
       "      <td>67</td>\n",
       "      <td>53</td>\n",
       "      <td>48</td>\n",
       "      <td>217</td>\n",
       "      <td>2006-01-14</td>\n",
       "      <td>Pharmacy</td>\n",
       "      <td>Unizik</td>\n",
       "      <td>2024-01-09</td>\n",
       "      <td>2024-04-19</td>\n",
       "      <td>13000</td>\n",
       "      <td>No</td>\n",
       "      <td>5</td>\n",
       "      <td>Yes</td>\n",
       "      <td>5</td>\n",
       "      <td>No</td>\n",
       "      <td>No</td>\n",
       "      <td>No</td>\n",
       "      <td>no</td>\n",
       "      <td>yes</td>\n",
       "    </tr>\n",
       "    <tr>\n",
       "      <th>1</th>\n",
       "      <td>UB2024002</td>\n",
       "      <td>Mmesoma Ofodile</td>\n",
       "      <td>Single</td>\n",
       "      <td>F</td>\n",
       "      <td>192.0</td>\n",
       "      <td>230</td>\n",
       "      <td>54</td>\n",
       "      <td>59</td>\n",
       "      <td>60</td>\n",
       "      <td>57</td>\n",
       "      <td>230</td>\n",
       "      <td>2007-08-12</td>\n",
       "      <td>Nursing</td>\n",
       "      <td>UNN</td>\n",
       "      <td>2024-01-10</td>\n",
       "      <td>2024-04-19</td>\n",
       "      <td>15000</td>\n",
       "      <td>No</td>\n",
       "      <td>4</td>\n",
       "      <td>Yes</td>\n",
       "      <td>5</td>\n",
       "      <td>Yes</td>\n",
       "      <td>No</td>\n",
       "      <td>No</td>\n",
       "      <td>no</td>\n",
       "      <td>yes</td>\n",
       "    </tr>\n",
       "  </tbody>\n",
       "</table>\n",
       "</div>"
      ],
      "text/plain": [
       "  Student ID     Student Name Martial Status Gender  Year 2023  Year 2024  \\\n",
       "0  UB2024001    Chinelo Nneto         Single      F      171.0        217   \n",
       "1  UB2024002  Mmesoma Ofodile         Single      F      192.0        230   \n",
       "\n",
       "   English  Chemistry  Physics  Biology/Maths  Total Date of Birth  \\\n",
       "0       49         67       53             48    217    2006-01-14   \n",
       "1       54         59       60             57    230    2007-08-12   \n",
       "\n",
       "  Course registered School registered Date Registered Date Stopped  \\\n",
       "0          Pharmacy            Unizik      2024-01-09   2024-04-19   \n",
       "1           Nursing               UNN      2024-01-10   2024-04-19   \n",
       "\n",
       "   Lesson Fee Work Status  Hours  read Read Past Questions  \\\n",
       "0       13000          No            5                 Yes   \n",
       "1       15000          No            4                 Yes   \n",
       "\n",
       "   Teaching Satisfaction Finished on time System off Questions different  \\\n",
       "0                      5               No         No                  No   \n",
       "1                      5              Yes         No                  No   \n",
       "\n",
       "  Pay yourself Close Proximity to center  \n",
       "0           no                       yes  \n",
       "1           no                       yes  "
      ]
     },
     "execution_count": 3,
     "metadata": {},
     "output_type": "execute_result"
    }
   ],
   "source": [
    "#display few lines of the data\n",
    "data.head(2)"
   ]
  },
  {
   "cell_type": "code",
   "execution_count": 4,
   "id": "eac1c655-7a49-4140-a437-c60e28cfed0c",
   "metadata": {},
   "outputs": [
    {
     "data": {
      "text/plain": [
       "(56, 26)"
      ]
     },
     "execution_count": 4,
     "metadata": {},
     "output_type": "execute_result"
    }
   ],
   "source": [
    "#Understanding the shape of the data\n",
    "data.shape"
   ]
  },
  {
   "cell_type": "markdown",
   "id": "a8d495e0-b607-4c3c-8137-1b7c97d8f168",
   "metadata": {},
   "source": [
    "- Data contain 56 students record and 26 column"
   ]
  },
  {
   "cell_type": "code",
   "execution_count": 5,
   "id": "d11cbc33-ecaa-477a-8406-36958b906344",
   "metadata": {},
   "outputs": [
    {
     "data": {
      "text/plain": [
       "Student ID                    0\n",
       "Student Name                  0\n",
       "Martial Status                0\n",
       "Gender                        0\n",
       "Year 2023                    24\n",
       "Year 2024                     0\n",
       "English                       0\n",
       "Chemistry                     0\n",
       "Physics                       0\n",
       "Biology/Maths                 0\n",
       "Total                         0\n",
       "Date of Birth                 0\n",
       "Course registered             0\n",
       "School registered             0\n",
       "Date Registered               0\n",
       "Date Stopped                  0\n",
       "Lesson Fee                    0\n",
       "Work Status                   0\n",
       "Hours  read                   0\n",
       "Read Past Questions           0\n",
       "Teaching Satisfaction         0\n",
       "Finished on time              0\n",
       "System off                    0\n",
       "Questions different           0\n",
       "Pay yourself                  0\n",
       "Close Proximity to center     0\n",
       "dtype: int64"
      ]
     },
     "execution_count": 5,
     "metadata": {},
     "output_type": "execute_result"
    }
   ],
   "source": [
    "#checking for missing values\n",
    "data.isna().sum()"
   ]
  },
  {
   "cell_type": "markdown",
   "id": "ac65a964-b4a4-44d6-8421-43938910ba0f",
   "metadata": {},
   "source": [
    "- There are 24 missing values in Year 2023 column"
   ]
  },
  {
   "cell_type": "code",
   "execution_count": 6,
   "id": "bce1fe24-fc28-41eb-bf69-79e621ca6850",
   "metadata": {},
   "outputs": [
    {
     "data": {
      "text/plain": [
       "0"
      ]
     },
     "execution_count": 6,
     "metadata": {},
     "output_type": "execute_result"
    }
   ],
   "source": [
    "#checking for duplicates\n",
    "data.duplicated().sum()"
   ]
  },
  {
   "cell_type": "markdown",
   "id": "a6e890f4-a0b4-4829-9a8c-2cd78471b345",
   "metadata": {},
   "source": [
    "- There are no duplicates"
   ]
  },
  {
   "cell_type": "code",
   "execution_count": 7,
   "id": "3d79af6b-f84f-4177-8819-64e88a8d2bee",
   "metadata": {},
   "outputs": [
    {
     "data": {
      "text/plain": [
       "Student ID                           object\n",
       "Student Name                         object\n",
       "Martial Status                       object\n",
       "Gender                               object\n",
       "Year 2023                           float64\n",
       "Year 2024                             int64\n",
       "English                               int64\n",
       "Chemistry                             int64\n",
       "Physics                               int64\n",
       "Biology/Maths                         int64\n",
       "Total                                 int64\n",
       "Date of Birth                datetime64[ns]\n",
       "Course registered                    object\n",
       "School registered                    object\n",
       "Date Registered              datetime64[ns]\n",
       "Date Stopped                 datetime64[ns]\n",
       "Lesson Fee                            int64\n",
       "Work Status                          object\n",
       "Hours  read                           int64\n",
       "Read Past Questions                  object\n",
       "Teaching Satisfaction                 int64\n",
       "Finished on time                     object\n",
       "System off                           object\n",
       "Questions different                  object\n",
       "Pay yourself                         object\n",
       "Close Proximity to center            object\n",
       "dtype: object"
      ]
     },
     "execution_count": 7,
     "metadata": {},
     "output_type": "execute_result"
    }
   ],
   "source": [
    "#checking for datatypes\n",
    "data.dtypes"
   ]
  },
  {
   "cell_type": "markdown",
   "id": "ba63aa61-d2c2-48b3-9b3f-2288c1f234f2",
   "metadata": {},
   "source": [
    "- The data consists of string, integer, float and date datatypes"
   ]
  },
  {
   "cell_type": "markdown",
   "id": "4f41bd6e-63ff-454f-8d13-a25513ed4e56",
   "metadata": {},
   "source": [
    "## Data Wrangling"
   ]
  },
  {
   "cell_type": "code",
   "execution_count": 8,
   "id": "403e227f-e92c-4400-b294-186f12fdde19",
   "metadata": {},
   "outputs": [],
   "source": [
    "#create a copy of the dataframe\n",
    "df = data.copy()"
   ]
  },
  {
   "cell_type": "code",
   "execution_count": 9,
   "id": "16841b04-9a37-4a24-a40b-e15e3c41573f",
   "metadata": {},
   "outputs": [
    {
     "data": {
      "text/plain": [
       "Index(['Student ID', 'Student Name', 'Martial Status', 'Gender', 'Year 2023',\n",
       "       'Year 2024', 'English', 'Chemistry', 'Physics', 'Biology/Maths',\n",
       "       'Total', 'Date of Birth', 'Course registered', 'School registered',\n",
       "       'Date Registered', 'Date Stopped', 'Lesson Fee', 'Work Status',\n",
       "       'Hours  read', 'Read Past Questions', 'Teaching Satisfaction',\n",
       "       'Finished on time', 'System off', 'Questions different', 'Pay yourself',\n",
       "       'Close Proximity to center'],\n",
       "      dtype='object')"
      ]
     },
     "execution_count": 9,
     "metadata": {},
     "output_type": "execute_result"
    }
   ],
   "source": [
    "#checking column names\n",
    "df.columns"
   ]
  },
  {
   "cell_type": "code",
   "execution_count": 10,
   "id": "4b9f929b-b94a-42df-a056-506946b99ad2",
   "metadata": {},
   "outputs": [],
   "source": [
    "#renaming column names\n",
    "df.rename(columns={\n",
    "    'Martial Status': \"Marital Status\",\n",
    "    \"Course registered\" : \"Course Registered\",\n",
    "    \"School registered\" : \"University Registered\",\n",
    "    \"Hours  read\" : \"Hours Read\",\n",
    "    'System off': 'Computer Off',\n",
    "    'Questions different': 'Questions Different',\n",
    "    'Pay yourself': 'Pay Yourself',\n",
    "    'Year 2023' : 'Score 2023',\n",
    "    'Year 2024' : 'Score 2024'\n",
    "}, inplace=True\n",
    "         )"
   ]
  },
  {
   "cell_type": "code",
   "execution_count": 11,
   "id": "1b678a01-96c0-4c47-96cc-8d21145ff7b2",
   "metadata": {},
   "outputs": [
    {
     "data": {
      "text/plain": [
       "Index(['Student ID', 'Student Name', 'Marital Status', 'Gender', 'Score 2023',\n",
       "       'Score 2024', 'English', 'Chemistry', 'Physics', 'Biology/Maths',\n",
       "       'Total', 'Date of Birth', 'Course Registered', 'University Registered',\n",
       "       'Date Registered', 'Date Stopped', 'Lesson Fee', 'Work Status',\n",
       "       'Hours Read', 'Read Past Questions', 'Teaching Satisfaction',\n",
       "       'Finished on time', 'Computer Off', 'Questions Different',\n",
       "       'Pay Yourself', 'Close Proximity to center'],\n",
       "      dtype='object')"
      ]
     },
     "execution_count": 11,
     "metadata": {},
     "output_type": "execute_result"
    }
   ],
   "source": [
    "#confirming the column name has been changed\n",
    "df.columns"
   ]
  },
  {
   "cell_type": "markdown",
   "id": "22b448c5-7bf6-4c70-bfda-6388d729486a",
   "metadata": {},
   "source": [
    "### Feature Engineering"
   ]
  },
  {
   "cell_type": "code",
   "execution_count": 12,
   "id": "f1ae5e06-22a7-4a3f-a5a8-11d3bd28f839",
   "metadata": {},
   "outputs": [],
   "source": [
    "#creating the Student Age column\n",
    "df['Student Age'] = df['Date Registered'].dt.year - df['Date of Birth'].dt.year"
   ]
  },
  {
   "cell_type": "code",
   "execution_count": 13,
   "id": "e9748897-5218-4bf1-9267-837d446f76ce",
   "metadata": {},
   "outputs": [
    {
     "data": {
      "text/plain": [
       "0    18\n",
       "1    17\n",
       "2    19\n",
       "3    20\n",
       "4    19\n",
       "Name: Student Age, dtype: int32"
      ]
     },
     "execution_count": 13,
     "metadata": {},
     "output_type": "execute_result"
    }
   ],
   "source": [
    "#confirming the Student Age have been created\n",
    "df['Student Age'].head()"
   ]
  },
  {
   "cell_type": "code",
   "execution_count": 14,
   "id": "9fca6973-3675-4adc-8c90-bb570be37651",
   "metadata": {},
   "outputs": [],
   "source": [
    "#creating the month registered and month stopped\n",
    "df['Month Registered'] = df['Date Registered'].dt.month\n",
    "df['Month Name'] = df['Date Registered'].dt.month_name()\n",
    "df['Month Stopped'] = df['Date Stopped'].dt.month"
   ]
  },
  {
   "cell_type": "code",
   "execution_count": 15,
   "id": "29acf949-f678-4c0e-8c38-3dbd04f2bbc7",
   "metadata": {},
   "outputs": [],
   "source": [
    "#Creating the Lesson duration (months) column\n",
    "df['Lesson Duration (Months)'] = df['Month Stopped']-df['Month Registered']"
   ]
  },
  {
   "cell_type": "code",
   "execution_count": 16,
   "id": "85ee7c93-e64b-4cf4-9016-9140ffba7af5",
   "metadata": {},
   "outputs": [],
   "source": [
    "#Create total lesson fee payed by each student for the lesson duration\n",
    "df['Total Lesson Fee'] = df['Lesson Fee']*df['Lesson Duration (Months)']"
   ]
  },
  {
   "cell_type": "code",
   "execution_count": 17,
   "id": "6d63242f-51e7-459d-9c32-63f0b4418c07",
   "metadata": {},
   "outputs": [],
   "source": [
    "#create week number the student registered\n",
    "df['Week Registered'] = df['Date Registered'].dt.strftime('%U')"
   ]
  },
  {
   "cell_type": "markdown",
   "id": "1336248c-9182-445e-825a-4e940c5d8b6f",
   "metadata": {},
   "source": [
    "## Data Exploration"
   ]
  },
  {
   "cell_type": "markdown",
   "id": "5d688881-1b08-4506-a3c8-94d9f3afe0e8",
   "metadata": {},
   "source": [
    "#### Gender Distribution"
   ]
  },
  {
   "cell_type": "code",
   "execution_count": 18,
   "id": "77ba2a16-b9c1-4662-90cb-df04a32dc6f9",
   "metadata": {},
   "outputs": [
    {
     "data": {
      "text/plain": [
       "Gender\n",
       "F    40\n",
       "M    16\n",
       "Name: count, dtype: int64"
      ]
     },
     "execution_count": 18,
     "metadata": {},
     "output_type": "execute_result"
    }
   ],
   "source": [
    "#Check the gender distribution of the students\n",
    "df['Gender'].value_counts()"
   ]
  },
  {
   "cell_type": "markdown",
   "id": "59e277a1-0778-461d-a1a8-1bbd1c05ec27",
   "metadata": {},
   "source": [
    "- There are **40 female** students and **16 male** students"
   ]
  },
  {
   "cell_type": "markdown",
   "id": "125d49e2-4d55-435f-8282-07443b18b633",
   "metadata": {},
   "source": [
    "#### Marital Status Distribution"
   ]
  },
  {
   "cell_type": "code",
   "execution_count": 19,
   "id": "27972d3b-d9ac-4ede-af0a-0fe10a2c88da",
   "metadata": {},
   "outputs": [
    {
     "data": {
      "text/plain": [
       "Marital Status\n",
       "Single     54\n",
       "Married     2\n",
       "Name: count, dtype: int64"
      ]
     },
     "execution_count": 19,
     "metadata": {},
     "output_type": "execute_result"
    }
   ],
   "source": [
    "#check the marital status distribution\n",
    "df['Marital Status'].value_counts()"
   ]
  },
  {
   "cell_type": "markdown",
   "id": "3133f576-c72e-4ef5-bb0d-40b0df7b3ea9",
   "metadata": {},
   "source": [
    "- **54** students were single whereas only **2** are married"
   ]
  },
  {
   "cell_type": "code",
   "execution_count": 20,
   "id": "424377af-9651-47e6-8fb1-da501ef2174f",
   "metadata": {},
   "outputs": [
    {
     "data": {
      "image/png": "[encoded data removed]",
      "text/plain": [
       "<Figure size 800x400 with 2 Axes>"
      ]
     },
     "metadata": {},
     "output_type": "display_data"
    }
   ],
   "source": [
    "#plot a bar chart and pie chart of the Gender and Marital Status respectively\n",
    "fig, ax = plt.subplots(1,2, figsize=[8,4])\n",
    "\n",
    "ax[0].bar(x=df['Gender'].value_counts().index, height=df['Gender'].value_counts().values)\n",
    "ax[1].pie(df['Marital Status'].value_counts().values, labels=df['Marital Status'].value_counts().index, startangle=90, \n",
    "          autopct=\"%.0f%%\", pctdistance=0.85)\n",
    "\n",
    "donut_hole = plt.Circle((0,0), 0.70, fc=\"white\")\n",
    "fig = plt.gcf()\n",
    "fig.gca().add_artist(donut_hole)\n",
    "\n",
    "#add title\n",
    "ax[0].set_title('Gender Distribution')\n",
    "ax[1].set_title('Marital Status Distribution')\n",
    "\n",
    "#remove spines\n",
    "ax[0].spines[['top', 'left', 'right']].set_visible(False)\n",
    "\n",
    "#remove y-axis\n",
    "ax[0].yaxis.set_visible(False)\n",
    "\n",
    "#add annotation\n",
    "for index, values in enumerate(df['Gender'].value_counts()):\n",
    "    ax[0].annotate(values, xy=(index, values+0.7), ha='center', va='center')\n",
    "\n",
    "\n",
    "plt.show()\n",
    "          "
   ]
  },
  {
   "cell_type": "markdown",
   "id": "88a433ee-bfae-49cd-ae12-f8667612f5db",
   "metadata": {},
   "source": [
    "- **40** students are female whereas only **16** are male\n",
    "- **4%** of the student are married whereas 96% are single"
   ]
  },
  {
   "cell_type": "markdown",
   "id": "87edf3cc-fce3-49b2-9981-10f8b1cdd003",
   "metadata": {},
   "source": [
    "#### Student Age Distribution"
   ]
  },
  {
   "cell_type": "code",
   "execution_count": 21,
   "id": "9a2051be-fad9-4c62-b39d-c29ad2063e41",
   "metadata": {},
   "outputs": [
    {
     "data": {
      "text/plain": [
       "Student Age\n",
       "17     8\n",
       "18    25\n",
       "19     9\n",
       "20     7\n",
       "21     1\n",
       "22     1\n",
       "23     1\n",
       "24     1\n",
       "25     3\n",
       "Name: count, dtype: int64"
      ]
     },
     "execution_count": 21,
     "metadata": {},
     "output_type": "execute_result"
    }
   ],
   "source": [
    "#Age distribution of the students\n",
    "df['Student Age'].value_counts().sort_index(ascending=True)"
   ]
  },
  {
   "cell_type": "code",
   "execution_count": 22,
   "id": "0a3e66b9-5564-4476-b823-a96851f0e0f5",
   "metadata": {},
   "outputs": [
    {
     "data": {
      "image/png": "[encoded data removed]",
      "text/plain": [
       "<Figure size 600x300 with 1 Axes>"
      ]
     },
     "metadata": {},
     "output_type": "display_data"
    }
   ],
   "source": [
    "#plot a histogram of the student age \n",
    "\n",
    "#create a bin for plotting the histogram\n",
    "bins = np.arange(df['Student Age'].min(), df['Student Age'].max(), 1)\n",
    "\n",
    "fig, ax = plt.subplots(figsize=[6,3])\n",
    "\n",
    "sns.histplot(data=df, x='Student Age', bins=bins, kde=True)\n",
    "\n",
    "#add title\n",
    "ax.set_title('Student Age Distribution')\n",
    "ax.set_xlabel('Student Age')\n",
    "\n",
    "#remove spines\n",
    "ax.spines[['top', 'left', 'right']].set_visible(False)\n",
    "\n",
    "#remove y-axis\n",
    "ax.yaxis.set_visible(False)\n",
    "\n",
    "    \n",
    "plt.show()"
   ]
  },
  {
   "cell_type": "markdown",
   "id": "7d1e3649-345f-4c6c-89e4-91a9e98cf89b",
   "metadata": {},
   "source": [
    "- The Age distribution of the student is skewed to the left with majority of the student age lies between 17 - 21 years.\n",
    "- The plot shows that majority of the student are 18 years of age as at the year they wrote the exam. "
   ]
  },
  {
   "cell_type": "markdown",
   "id": "7396d27a-02de-4779-bbba-7f2e5211a248",
   "metadata": {},
   "source": [
    "#### Distribution of Courses Registered"
   ]
  },
  {
   "cell_type": "code",
   "execution_count": 23,
   "id": "56c1d57f-75aa-44e7-bfae-bd787a62d0d8",
   "metadata": {},
   "outputs": [
    {
     "data": {
      "text/plain": [
       "Course Registered\n",
       "Nursing                   29\n",
       "Medicine                   6\n",
       "Pharmacy                   5\n",
       "Computer Science           4\n",
       "Med Lab                    4\n",
       "Radiography                2\n",
       "Cyber Security             1\n",
       "Med Rehabilitation         1\n",
       "Industrial Chemistry       1\n",
       "Civil Engineer             1\n",
       "Mechanical Eng             1\n",
       "Electrical Engineering     1\n",
       "Name: count, dtype: int64"
      ]
     },
     "execution_count": 23,
     "metadata": {},
     "output_type": "execute_result"
    }
   ],
   "source": [
    "#Check the unique courses registered\n",
    "df['Course Registered'].value_counts()"
   ]
  },
  {
   "cell_type": "code",
   "execution_count": 24,
   "id": "c1259bf3-b427-4724-842c-7f7686214ac4",
   "metadata": {},
   "outputs": [
    {
     "data": {
      "image/png": "[encoded data removed]",
      "text/plain": [
       "<Figure size 800x400 with 1 Axes>"
      ]
     },
     "metadata": {},
     "output_type": "display_data"
    }
   ],
   "source": [
    "#plotting a bar chart of the distribution of the courses registered\n",
    "\n",
    "fig, ax = plt.subplots(figsize=[8,4])\n",
    "ax.bar(x=df['Course Registered'].value_counts().index, height=df['Course Registered'].value_counts().values)\n",
    "\n",
    "#add title, label and remove yaxis\n",
    "ax.set_title('Distribution of Courses Registered')\n",
    "ax.set_xlabel('Courses Registered')\n",
    "ax.yaxis.set_visible(False)\n",
    "\n",
    "#rotate the x-ticks\n",
    "ax.xaxis.set_tick_params(rotation=75)\n",
    "\n",
    "ax.spines[['top', 'left', 'right']].set_visible(False)\n",
    "\n",
    "for index, values in enumerate(df['Course Registered'].value_counts()):\n",
    "    ax.annotate(values, xy=(index, values+0.8), ha='center', va='center')\n",
    "\n",
    "plt.show()"
   ]
  },
  {
   "cell_type": "markdown",
   "id": "081fe4a4-e204-4247-854f-f9fe0ef3373b",
   "metadata": {},
   "source": [
    "- With the demand for professional nurses, about 29 students which is 52% of the students applied to study Nursing.\n",
    "- Medicine and Pharmacy ranked second and third with about 11% and 9% of the student who applied for them respectively"
   ]
  },
  {
   "cell_type": "markdown",
   "id": "599a7601-1772-41b7-84c9-5d94b35e8f39",
   "metadata": {},
   "source": [
    "#### Distribution of Nursing by Gender"
   ]
  },
  {
   "cell_type": "code",
   "execution_count": 25,
   "id": "e889e16d-8834-420c-b5e3-0fdb64c095d8",
   "metadata": {},
   "outputs": [
    {
     "data": {
      "text/html": [
       "<div>\n",
       "<style scoped>\n",
       "    .dataframe tbody tr th:only-of-type {\n",
       "        vertical-align: middle;\n",
       "    }\n",
       "\n",
       "    .dataframe tbody tr th {\n",
       "        vertical-align: top;\n",
       "    }\n",
       "\n",
       "    .dataframe thead th {\n",
       "        text-align: right;\n",
       "    }\n",
       "</style>\n",
       "<table border=\"1\" class=\"dataframe\">\n",
       "  <thead>\n",
       "    <tr style=\"text-align: right;\">\n",
       "      <th></th>\n",
       "      <th>Gender</th>\n",
       "      <th>total_no</th>\n",
       "    </tr>\n",
       "  </thead>\n",
       "  <tbody>\n",
       "    <tr>\n",
       "      <th>0</th>\n",
       "      <td>F</td>\n",
       "      <td>25</td>\n",
       "    </tr>\n",
       "    <tr>\n",
       "      <th>1</th>\n",
       "      <td>M</td>\n",
       "      <td>4</td>\n",
       "    </tr>\n",
       "  </tbody>\n",
       "</table>\n",
       "</div>"
      ],
      "text/plain": [
       "  Gender  total_no\n",
       "0      F        25\n",
       "1      M         4"
      ]
     },
     "execution_count": 25,
     "metadata": {},
     "output_type": "execute_result"
    }
   ],
   "source": [
    "#Create a dataframe of students that applied for nursing and grouping by gender\n",
    "nursing = df[df['Course Registered']==\"Nursing\"].groupby(['Gender'], as_index=False).agg(total_no=('Student Name', 'count'))\n",
    "nursing"
   ]
  },
  {
   "cell_type": "code",
   "execution_count": 26,
   "id": "9a6b263b-187e-469a-8133-75b9c96b01e0",
   "metadata": {},
   "outputs": [
    {
     "data": {
      "image/png": "[encoded data removed]",
      "text/plain": [
       "<Figure size 500x400 with 1 Axes>"
      ]
     },
     "metadata": {},
     "output_type": "display_data"
    }
   ],
   "source": [
    "#plotting a pie-chart of the distribution of the nursing course by gender\n",
    "fig, ax = plt.subplots(figsize=[5,4])\n",
    "\n",
    "ax.pie(nursing['total_no'], labels=nursing['Gender'], autopct=\"%.0f%%\", startangle=90)\n",
    "\n",
    "ax.set_title('Nursing Course distribution by Gender')\n",
    "\n",
    "plt.show()"
   ]
  },
  {
   "cell_type": "markdown",
   "id": "10ca12c3-7f5e-4030-b8a0-09b239b988d2",
   "metadata": {},
   "source": [
    "- **86%** of the student that applied for nursing course are **female**, while **14%** are male"
   ]
  },
  {
   "cell_type": "markdown",
   "id": "db54deed-1b35-4471-aec7-ffde4c4c99f5",
   "metadata": {},
   "source": [
    "#### Distribution of University Registered"
   ]
  },
  {
   "cell_type": "code",
   "execution_count": 27,
   "id": "722ff457-bb4e-494e-b2c7-b7f48fce4a46",
   "metadata": {},
   "outputs": [
    {
     "data": {
      "text/html": [
       "<div>\n",
       "<style scoped>\n",
       "    .dataframe tbody tr th:only-of-type {\n",
       "        vertical-align: middle;\n",
       "    }\n",
       "\n",
       "    .dataframe tbody tr th {\n",
       "        vertical-align: top;\n",
       "    }\n",
       "\n",
       "    .dataframe thead th {\n",
       "        text-align: right;\n",
       "    }\n",
       "</style>\n",
       "<table border=\"1\" class=\"dataframe\">\n",
       "  <thead>\n",
       "    <tr style=\"text-align: right;\">\n",
       "      <th></th>\n",
       "      <th>University Registered</th>\n",
       "      <th>total_no</th>\n",
       "    </tr>\n",
       "  </thead>\n",
       "  <tbody>\n",
       "    <tr>\n",
       "      <th>6</th>\n",
       "      <td>Unizik</td>\n",
       "      <td>44</td>\n",
       "    </tr>\n",
       "    <tr>\n",
       "      <th>3</th>\n",
       "      <td>UNN</td>\n",
       "      <td>6</td>\n",
       "    </tr>\n",
       "    <tr>\n",
       "      <th>0</th>\n",
       "      <td>ANSU</td>\n",
       "      <td>1</td>\n",
       "    </tr>\n",
       "    <tr>\n",
       "      <th>1</th>\n",
       "      <td>Funai</td>\n",
       "      <td>1</td>\n",
       "    </tr>\n",
       "    <tr>\n",
       "      <th>2</th>\n",
       "      <td>IMSU</td>\n",
       "      <td>1</td>\n",
       "    </tr>\n",
       "    <tr>\n",
       "      <th>4</th>\n",
       "      <td>Unical</td>\n",
       "      <td>1</td>\n",
       "    </tr>\n",
       "    <tr>\n",
       "      <th>5</th>\n",
       "      <td>Uniport</td>\n",
       "      <td>1</td>\n",
       "    </tr>\n",
       "    <tr>\n",
       "      <th>7</th>\n",
       "      <td>college of nursing</td>\n",
       "      <td>1</td>\n",
       "    </tr>\n",
       "  </tbody>\n",
       "</table>\n",
       "</div>"
      ],
      "text/plain": [
       "  University Registered  total_no\n",
       "6                Unizik        44\n",
       "3                   UNN         6\n",
       "0                  ANSU         1\n",
       "1                 Funai         1\n",
       "2                  IMSU         1\n",
       "4                Unical         1\n",
       "5               Uniport         1\n",
       "7    college of nursing         1"
      ]
     },
     "execution_count": 27,
     "metadata": {},
     "output_type": "execute_result"
    }
   ],
   "source": [
    "#to get the distribution of University registered\n",
    "uni1 = df.groupby(['University Registered'], as_index=False).agg(total_no=('Student ID', 'count'))\n",
    "uni1.sort_values('total_no', ascending=False)"
   ]
  },
  {
   "cell_type": "code",
   "execution_count": 28,
   "id": "32ec025d-5b34-4593-bc95-eb5786184e79",
   "metadata": {},
   "outputs": [],
   "source": [
    "#creating a new column 'university' for aggregating\n",
    "uni_name =[]\n",
    "for x in uni1['total_no']:\n",
    "    if x == 1:\n",
    "        uni_name.append('Others')\n",
    "    elif x== 6:\n",
    "        uni_name.append('UNN')\n",
    "    elif x== 44:\n",
    "        uni_name.append('Unizik')\n",
    "\n",
    "uni1['University'] = uni_name"
   ]
  },
  {
   "cell_type": "code",
   "execution_count": 29,
   "id": "3ea4a654-305e-4c37-b99c-4ec11178d2ed",
   "metadata": {},
   "outputs": [
    {
     "data": {
      "image/png": "[encoded data removed]",
      "text/plain": [
       "<Figure size 1200x400 with 2 Axes>"
      ]
     },
     "metadata": {},
     "output_type": "display_data"
    }
   ],
   "source": [
    "#plotting a barchart and piechart of the distribution of the university registered by the student\n",
    "\n",
    "fig, ax = plt.subplots(1, 2, figsize=[12,4])\n",
    "ax[0].bar(x=df['University Registered'].value_counts().index, height=df['University Registered'].value_counts().values)\n",
    "\n",
    "#add title\n",
    "fig.suptitle('Distribution of University Registered')\n",
    "ax[0].set_xlabel('University Registered')\n",
    "ax[0].yaxis.set_visible(False)\n",
    "\n",
    "ax[0].xaxis.set_tick_params(rotation=75)\n",
    "\n",
    "ax[0].spines[['top', 'left', 'right']].set_visible(False)\n",
    "\n",
    "for index, values in enumerate(df['University Registered'].value_counts()):\n",
    "    ax[0].annotate(values, xy=(index, values+0.8), ha='center', va='center')\n",
    "\n",
    "\n",
    "#create a dataframe for the second plot\n",
    "uni2 = uni1.groupby(['University'], as_index=False).agg(total_no=('total_no', 'sum'))\n",
    "ax[1].pie(uni2['total_no'], labels=uni2['University'], startangle=90, autopct='%.0f%%')\n",
    "\n",
    "plt.show()"
   ]
  },
  {
   "cell_type": "markdown",
   "id": "42615e62-843f-41e7-ae9d-fa682866e530",
   "metadata": {},
   "source": [
    "- **Nnamdi Azikiwe University (Unizik)** is the most popular choice for students in Anambra State with about **79%** of the choice\n",
    "- **University of Nigeria Nsukka (UNN)** is the second popular choice with about **11%** of the choice"
   ]
  },
  {
   "cell_type": "markdown",
   "id": "745a4cb6-5f31-41aa-82b0-7c751ca3eb92",
   "metadata": {},
   "source": [
    "#### Timeline of student's registration at the academy"
   ]
  },
  {
   "cell_type": "code",
   "execution_count": 30,
   "id": "ed51f3f2-1206-45fe-80e5-50d7946eaed7",
   "metadata": {},
   "outputs": [
    {
     "data": {
      "text/html": [
       "<div>\n",
       "<style scoped>\n",
       "    .dataframe tbody tr th:only-of-type {\n",
       "        vertical-align: middle;\n",
       "    }\n",
       "\n",
       "    .dataframe tbody tr th {\n",
       "        vertical-align: top;\n",
       "    }\n",
       "\n",
       "    .dataframe thead th {\n",
       "        text-align: right;\n",
       "    }\n",
       "</style>\n",
       "<table border=\"1\" class=\"dataframe\">\n",
       "  <thead>\n",
       "    <tr style=\"text-align: right;\">\n",
       "      <th></th>\n",
       "      <th>Month Registered</th>\n",
       "      <th>Month Name</th>\n",
       "      <th>Week Registered</th>\n",
       "      <th>total_no</th>\n",
       "    </tr>\n",
       "  </thead>\n",
       "  <tbody>\n",
       "    <tr>\n",
       "      <th>0</th>\n",
       "      <td>1</td>\n",
       "      <td>January</td>\n",
       "      <td>01</td>\n",
       "      <td>10</td>\n",
       "    </tr>\n",
       "    <tr>\n",
       "      <th>1</th>\n",
       "      <td>1</td>\n",
       "      <td>January</td>\n",
       "      <td>02</td>\n",
       "      <td>8</td>\n",
       "    </tr>\n",
       "    <tr>\n",
       "      <th>2</th>\n",
       "      <td>1</td>\n",
       "      <td>January</td>\n",
       "      <td>03</td>\n",
       "      <td>6</td>\n",
       "    </tr>\n",
       "    <tr>\n",
       "      <th>3</th>\n",
       "      <td>1</td>\n",
       "      <td>January</td>\n",
       "      <td>04</td>\n",
       "      <td>10</td>\n",
       "    </tr>\n",
       "    <tr>\n",
       "      <th>4</th>\n",
       "      <td>2</td>\n",
       "      <td>February</td>\n",
       "      <td>04</td>\n",
       "      <td>1</td>\n",
       "    </tr>\n",
       "  </tbody>\n",
       "</table>\n",
       "</div>"
      ],
      "text/plain": [
       "   Month Registered Month Name Week Registered  total_no\n",
       "0                 1    January              01        10\n",
       "1                 1    January              02         8\n",
       "2                 1    January              03         6\n",
       "3                 1    January              04        10\n",
       "4                 2   February              04         1"
      ]
     },
     "execution_count": 30,
     "metadata": {},
     "output_type": "execute_result"
    }
   ],
   "source": [
    "#group by month and week registered\n",
    "reg = df.groupby(['Month Registered','Month Name','Week Registered'], as_index=False).agg(total_no=('Student ID', 'count'))\n",
    "reg.head()"
   ]
  },
  {
   "cell_type": "code",
   "execution_count": 31,
   "id": "82f21983-2125-4c9c-9576-bbe087821207",
   "metadata": {},
   "outputs": [],
   "source": [
    "#create a new column which merges month and week\n",
    "reg['Month-Week'] = reg['Month Name'].str[0:3]+' Wk-'+ reg['Week Registered']"
   ]
  },
  {
   "cell_type": "code",
   "execution_count": 32,
   "id": "8b3a0284-9688-4823-a2d2-cc2e4d443e92",
   "metadata": {},
   "outputs": [
    {
     "data": {
      "image/png": "[encoded data removed]",
      "text/plain": [
       "<Figure size 800x300 with 1 Axes>"
      ]
     },
     "metadata": {},
     "output_type": "display_data"
    }
   ],
   "source": [
    "#plot a linechart of the timeline\n",
    "fig, ax = plt.subplots(figsize=[8,3])\n",
    "ax.plot(reg['Month-Week'], reg['total_no'])\n",
    "\n",
    "#add title\n",
    "ax.set_title('Weekly registration trend of student')\n",
    "ax.xaxis.set_tick_params(rotation=60)\n",
    "\n",
    "\n",
    "plt.show()"
   ]
  },
  {
   "cell_type": "markdown",
   "id": "35bba5aa-a300-4ec9-897f-bec5b82c817a",
   "metadata": {},
   "source": [
    "#### Monthly registration of Student"
   ]
  },
  {
   "cell_type": "code",
   "execution_count": 33,
   "id": "e0cf7063-15ae-4442-b516-d5c041598e33",
   "metadata": {},
   "outputs": [
    {
     "data": {
      "text/html": [
       "<div>\n",
       "<style scoped>\n",
       "    .dataframe tbody tr th:only-of-type {\n",
       "        vertical-align: middle;\n",
       "    }\n",
       "\n",
       "    .dataframe tbody tr th {\n",
       "        vertical-align: top;\n",
       "    }\n",
       "\n",
       "    .dataframe thead th {\n",
       "        text-align: right;\n",
       "    }\n",
       "</style>\n",
       "<table border=\"1\" class=\"dataframe\">\n",
       "  <thead>\n",
       "    <tr style=\"text-align: right;\">\n",
       "      <th></th>\n",
       "      <th>Month Registered</th>\n",
       "      <th>Month Name</th>\n",
       "      <th>student_reg</th>\n",
       "    </tr>\n",
       "  </thead>\n",
       "  <tbody>\n",
       "    <tr>\n",
       "      <th>0</th>\n",
       "      <td>1</td>\n",
       "      <td>January</td>\n",
       "      <td>34</td>\n",
       "    </tr>\n",
       "    <tr>\n",
       "      <th>1</th>\n",
       "      <td>2</td>\n",
       "      <td>February</td>\n",
       "      <td>11</td>\n",
       "    </tr>\n",
       "    <tr>\n",
       "      <th>2</th>\n",
       "      <td>3</td>\n",
       "      <td>March</td>\n",
       "      <td>11</td>\n",
       "    </tr>\n",
       "  </tbody>\n",
       "</table>\n",
       "</div>"
      ],
      "text/plain": [
       "   Month Registered Month Name  student_reg\n",
       "0                 1    January           34\n",
       "1                 2   February           11\n",
       "2                 3      March           11"
      ]
     },
     "execution_count": 33,
     "metadata": {},
     "output_type": "execute_result"
    }
   ],
   "source": [
    "#Number of student enrolled by month\n",
    "student_reg = df.groupby(['Month Registered', 'Month Name'], as_index=False).agg(student_reg=('Student Name', 'count')).sort_values('Month Registered', \n",
    "                                                                                                                                    ascending=True)\n",
    "student_reg"
   ]
  },
  {
   "cell_type": "code",
   "execution_count": 34,
   "id": "50b4b8dc-abde-4811-8fad-087dac4b5602",
   "metadata": {},
   "outputs": [
    {
     "data": {
      "image/png": "[encoded data removed]",
      "text/plain": [
       "<Figure size 400x300 with 1 Axes>"
      ]
     },
     "metadata": {},
     "output_type": "display_data"
    }
   ],
   "source": [
    "#Plotting a line chart of monthly registration of student\n",
    "fig, ax = plt.subplots(figsize=[4,3])\n",
    "\n",
    "ax.plot(student_reg['Month Name'] ,student_reg['student_reg'])\n",
    "\n",
    "#add title and label\n",
    "ax.set_title('Number of students registered per month')\n",
    "ax.set_xlabel('Month')\n",
    "\n",
    "#remove spines\n",
    "ax.spines[['top','left','right']].set_visible(False)\n",
    "ax.yaxis.set_visible(False)\n",
    "\n",
    "#add annotation\n",
    "for index, values in enumerate(student_reg['student_reg']):\n",
    "    ax.annotate(values, xy=(index, values+1.1), ha='center', va='center')\n",
    "\n",
    "plt.show()"
   ]
  },
  {
   "cell_type": "markdown",
   "id": "bcbf202e-010c-4a6b-825c-58cf84987d32",
   "metadata": {},
   "source": [
    "#### Distribution of the Student by Work Status"
   ]
  },
  {
   "cell_type": "code",
   "execution_count": 35,
   "id": "4915f6c9-1c1e-4fd2-80d8-8aa57cabcb83",
   "metadata": {},
   "outputs": [
    {
     "data": {
      "text/plain": [
       "Work Status\n",
       "No     46\n",
       "Yes    10\n",
       "Name: count, dtype: int64"
      ]
     },
     "execution_count": 35,
     "metadata": {},
     "output_type": "execute_result"
    }
   ],
   "source": [
    "#distribution of the students by work status\n",
    "df['Work Status'].value_counts()"
   ]
  },
  {
   "cell_type": "code",
   "execution_count": 36,
   "id": "4003b9d1-944b-4919-ba58-7cee572a81f2",
   "metadata": {},
   "outputs": [
    {
     "data": {
      "image/png": "[encoded data removed]",
      "text/plain": [
       "<Figure size 800x400 with 2 Axes>"
      ]
     },
     "metadata": {},
     "output_type": "display_data"
    }
   ],
   "source": [
    "#plotting a barchart and pie-chart of the distribution of the work status of the students\n",
    "\n",
    "fig, ax = plt.subplots(1, 2, figsize=[8,4])\n",
    "ax[0].bar(x=df['Work Status'].value_counts().index, height=df['Work Status'].value_counts().values)\n",
    "\n",
    "#add title\n",
    "ax[0].set_title('Distribution of Student Work Status')\n",
    "ax[0].set_xlabel('Work Status')\n",
    "ax[0].yaxis.set_visible(False)\n",
    "\n",
    "#ax.xaxis.set_tick_params(rotation=75)\n",
    "\n",
    "ax[0].spines[['top', 'left', 'right']].set_visible(False)\n",
    "\n",
    "for index, values in enumerate(df['Work Status'].value_counts()):\n",
    "    ax[0].annotate(values, xy=(index, values+0.8), ha='center', va='center')\n",
    "\n",
    "#plot 2\n",
    "ax[1].pie(df['Work Status'].value_counts().values, labels=df['Work Status'].value_counts().index, autopct=\"%.0f%%\", startangle=90)\n",
    "\n",
    "ax[1].set_title('Percentage of student work status')\n",
    "\n",
    "plt.show()"
   ]
  },
  {
   "cell_type": "markdown",
   "id": "c046aa34-03a5-45f8-8689-ac9ffbb6b472",
   "metadata": {},
   "source": [
    "- About **18%** of the students **work** and attend lesson while **82%** do not work"
   ]
  },
  {
   "cell_type": "markdown",
   "id": "0d5db385-2f37-468b-bf69-e5bb6c23dc70",
   "metadata": {},
   "source": [
    "#### Distribution of Hours Read by the students"
   ]
  },
  {
   "cell_type": "code",
   "execution_count": 37,
   "id": "deb48a17-2d83-46ec-beef-3dc6854aded9",
   "metadata": {},
   "outputs": [
    {
     "data": {
      "text/plain": [
       "Hours Read\n",
       "2     11\n",
       "3     29\n",
       "4     11\n",
       "5      3\n",
       "7      1\n",
       "10     1\n",
       "Name: count, dtype: int64"
      ]
     },
     "execution_count": 37,
     "metadata": {},
     "output_type": "execute_result"
    }
   ],
   "source": [
    "#distribution of number of hours the student read per day\n",
    "df['Hours Read'].value_counts().sort_index(ascending=True)"
   ]
  },
  {
   "cell_type": "code",
   "execution_count": 38,
   "id": "18977676-82b4-4178-8d5d-9327e4c70874",
   "metadata": {},
   "outputs": [
    {
     "data": {
      "image/png": "[encoded data removed]",
      "text/plain": [
       "<Figure size 800x400 with 1 Axes>"
      ]
     },
     "metadata": {},
     "output_type": "display_data"
    }
   ],
   "source": [
    "#plot a bar chart of number of hours read\n",
    "\n",
    "fig, ax = plt.subplots(figsize=[8,4])\n",
    "hr_read = df.groupby(['Hours Read'], as_index=False).agg(total_hours=('Student Name', 'count'))\n",
    "\n",
    "#casting hours read as string\n",
    "hr_read['Hours Read']=hr_read['Hours Read'].astype('str')\n",
    "\n",
    "ax.bar(x=hr_read['Hours Read'], height=hr_read['total_hours'])\n",
    "\n",
    "#add title\n",
    "ax.set_title('Number of hours read by students')\n",
    "ax.set_xlabel('Hours Read')\n",
    "ax.yaxis.set_visible(False)\n",
    "\n",
    "#ax.xaxis.set_tick_params(rotation=75)\n",
    "\n",
    "ax.spines[['top', 'left', 'right']].set_visible(False)\n",
    "\n",
    "for index, values in enumerate(hr_read['total_hours']):\n",
    "    ax.annotate(values, xy=(index, values+0.8), ha='center', va='center')\n",
    "\n",
    "plt.show()"
   ]
  },
  {
   "cell_type": "markdown",
   "id": "f7c8d2f8-e7b7-41e1-9f24-d65b07394d7f",
   "metadata": {},
   "source": [
    "- Majority of the student read between 2 to 4 hours each day with about **52%** of students reading **3 hours** each day"
   ]
  },
  {
   "cell_type": "markdown",
   "id": "6265c91f-9270-4d9e-a605-6ccc6ee416d2",
   "metadata": {},
   "source": [
    "#### Distribution of Satisfaction level of Students with the tutoring"
   ]
  },
  {
   "cell_type": "code",
   "execution_count": 39,
   "id": "de594a1a-ef4e-4dcf-9269-41e6b06ed3be",
   "metadata": {},
   "outputs": [
    {
     "data": {
      "text/plain": [
       "Teaching Satisfaction\n",
       "5    38\n",
       "4    17\n",
       "3     1\n",
       "Name: count, dtype: int64"
      ]
     },
     "execution_count": 39,
     "metadata": {},
     "output_type": "execute_result"
    }
   ],
   "source": [
    "#checking the teaching satifaction level\n",
    "df['Teaching Satisfaction'].value_counts()"
   ]
  },
  {
   "cell_type": "code",
   "execution_count": 40,
   "id": "df240875-27e0-40fb-98e6-e53b50cd3b40",
   "metadata": {},
   "outputs": [],
   "source": [
    "# Creating a descriptive column for satisfaction level of student using 5:Very Satisfied, 4: Satisfied, 3: Neutral, 2: Dissatisfied, 1:Very Disatisfied\n",
    "\n",
    "sat = []\n",
    "for x in df['Teaching Satisfaction']:\n",
    "    if x == 1:\n",
    "        sat.append('Very Dissatisfied')\n",
    "    elif x == 2:\n",
    "        sat.append('Dissatisfied')\n",
    "    elif x == 3:\n",
    "        sat.append('Neutral')\n",
    "    elif x == 4:\n",
    "        sat.append('Satisfied')\n",
    "    elif x == 5:\n",
    "        sat.append('Very Satisfied')\n",
    "\n",
    "df['Satisfaction'] = sat"
   ]
  },
  {
   "cell_type": "code",
   "execution_count": 41,
   "id": "cd860f6b-c0dd-4298-a6ca-19afe3000a69",
   "metadata": {},
   "outputs": [
    {
     "data": {
      "text/plain": [
       "Satisfaction\n",
       "Very Satisfied    38\n",
       "Satisfied         17\n",
       "Neutral            1\n",
       "Name: count, dtype: int64"
      ]
     },
     "execution_count": 41,
     "metadata": {},
     "output_type": "execute_result"
    }
   ],
   "source": [
    "#confirming the satifaction column has been created\n",
    "df['Satisfaction'].value_counts()"
   ]
  },
  {
   "cell_type": "code",
   "execution_count": 42,
   "id": "4247a66b-4eda-4f0d-bcd2-70b525bb5587",
   "metadata": {},
   "outputs": [
    {
     "data": {
      "image/png": "[encoded data removed]",
      "text/plain": [
       "<Figure size 600x400 with 1 Axes>"
      ]
     },
     "metadata": {},
     "output_type": "display_data"
    }
   ],
   "source": [
    "#plot a bar chart of Student satisfaction\n",
    "\n",
    "fig, ax = plt.subplots(figsize=[6,4])\n",
    "\n",
    "ax.bar(x=df['Satisfaction'].value_counts().index, height=df['Satisfaction'].value_counts().values)\n",
    "\n",
    "#add title\n",
    "ax.set_title('Distribution of Student Satisfaction level of Teaching')\n",
    "ax.set_xlabel('Satisfaction')\n",
    "ax.yaxis.set_visible(False)\n",
    "\n",
    "#ax.xaxis.set_tick_params(rotation=75)\n",
    "\n",
    "ax.spines[['top', 'left', 'right']].set_visible(False)\n",
    "\n",
    "for index, values in enumerate(df['Satisfaction'].value_counts()):\n",
    "    ax.annotate(values, xy=(index, values+0.8), ha='center', va='center')\n",
    "\n",
    "\n",
    "plt.show()"
   ]
  },
  {
   "cell_type": "markdown",
   "id": "da905b8b-df62-4124-b575-88cf5318f1cc",
   "metadata": {},
   "source": [
    "- About **67.9%** of the students were very satisfied with the teaching that was delivered while **30.4%** were satisfied"
   ]
  },
  {
   "cell_type": "markdown",
   "id": "44ec3510-18fe-410e-b8af-c929a89f742a",
   "metadata": {},
   "source": [
    "#### Distribution of Number of times the student have written the exam"
   ]
  },
  {
   "cell_type": "code",
   "execution_count": 43,
   "id": "e4634a83-e33f-41f9-bc55-c6d294c2cc8c",
   "metadata": {},
   "outputs": [],
   "source": [
    "#create a column for students who write twice\n",
    "\n",
    "#this code create a list of the values in the score 2023 column\n",
    "pp = []\n",
    "for i, row in df.loc[:, ['Score 2023']].iterrows():\n",
    "    pp.append(row[-1])\n",
    "\n",
    "#this code loop through the list to check if the value is greater than zero, if yes, then the student wrote exam in 2023\n",
    "wrote_twice = []\n",
    "for t in pp:\n",
    "    if t > 0:\n",
    "        wrote_twice.append('Yes')\n",
    "    else: \n",
    "        wrote_twice.append('No')\n",
    "\n",
    "df['Wrote Twice'] = wrote_twice"
   ]
  },
  {
   "cell_type": "code",
   "execution_count": 44,
   "id": "be3d6a70-b51f-4905-8744-fefd0443c17e",
   "metadata": {},
   "outputs": [
    {
     "data": {
      "text/plain": [
       "Wrote Twice\n",
       "Yes    32\n",
       "No     24\n",
       "Name: count, dtype: int64"
      ]
     },
     "execution_count": 44,
     "metadata": {},
     "output_type": "execute_result"
    }
   ],
   "source": [
    "#number of students that wrote twice\n",
    "df['Wrote Twice'].value_counts()"
   ]
  },
  {
   "cell_type": "code",
   "execution_count": 45,
   "id": "cf3e01ce-66fa-4475-9467-39e73f6c1707",
   "metadata": {},
   "outputs": [
    {
     "data": {
      "image/png": "[encoded data removed]",
      "text/plain": [
       "<Figure size 500x300 with 1 Axes>"
      ]
     },
     "metadata": {},
     "output_type": "display_data"
    }
   ],
   "source": [
    "#plot a bar chart of number of times student wrote the exam\n",
    "\n",
    "fig, ax = plt.subplots(figsize=[5,3])\n",
    "\n",
    "ax.bar(x=df['Wrote Twice'].value_counts().index, height=df['Wrote Twice'].value_counts().values)\n",
    "\n",
    "#add title\n",
    "ax.set_title('Number of times student wrote the exam')\n",
    "ax.set_xlabel('Satisfaction')\n",
    "ax.yaxis.set_visible(False)\n",
    "ax.set_xticklabels(['Twice', 'Once'])\n",
    "#ax.xaxis.set_tick_params(rotation=75)\n",
    "\n",
    "ax.spines[['top', 'left', 'right']].set_visible(False)\n",
    "\n",
    "for index, values in enumerate(df['Wrote Twice'].value_counts()):\n",
    "    ax.annotate(values, xy=(index, values+0.8), ha='center', va='center')\n",
    "\n",
    "\n",
    "plt.show()"
   ]
  },
  {
   "cell_type": "markdown",
   "id": "7c1cb200-3cf2-4354-8a61-7ca80b636c6a",
   "metadata": {},
   "source": [
    "- **57%** of the students have written the exam in the previous year 2023"
   ]
  },
  {
   "cell_type": "markdown",
   "id": "745842c8-000f-49f9-b033-de7f765a86d2",
   "metadata": {},
   "source": [
    "#### Distribution of Student who **Finished on time** & whose **Computer off**"
   ]
  },
  {
   "cell_type": "code",
   "execution_count": 46,
   "id": "08d50a2b-487f-43d1-8999-1e90695812b3",
   "metadata": {},
   "outputs": [
    {
     "data": {
      "text/plain": [
       "Finished on time\n",
       "Yes    44\n",
       "No     11\n",
       "yes     1\n",
       "Name: count, dtype: int64"
      ]
     },
     "execution_count": 46,
     "metadata": {},
     "output_type": "execute_result"
    }
   ],
   "source": [
    "#checking the number who finished on time\n",
    "df['Finished on time'].value_counts()"
   ]
  },
  {
   "cell_type": "markdown",
   "id": "63a5f8fb-a0da-4d5a-8868-86a3765faef9",
   "metadata": {},
   "source": [
    "- This shows that there is inconsistency in the values"
   ]
  },
  {
   "cell_type": "code",
   "execution_count": 47,
   "id": "061648a0-84ed-4962-bdee-191b14c1899d",
   "metadata": {},
   "outputs": [],
   "source": [
    "#replacing yes with Yes\n",
    "df['Finished on time'] = df['Finished on time'].str.replace('yes', 'Yes')"
   ]
  },
  {
   "cell_type": "code",
   "execution_count": 48,
   "id": "51e651b1-5790-4278-b9bf-6043effbb5a4",
   "metadata": {},
   "outputs": [
    {
     "data": {
      "text/plain": [
       "Finished on time\n",
       "Yes    45\n",
       "No     11\n",
       "Name: count, dtype: int64"
      ]
     },
     "execution_count": 48,
     "metadata": {},
     "output_type": "execute_result"
    }
   ],
   "source": [
    "#checking if the value have been replaced\n",
    "df['Finished on time'].value_counts()"
   ]
  },
  {
   "cell_type": "markdown",
   "id": "5ff5e323-4ceb-48dc-8377-217037a70ca9",
   "metadata": {},
   "source": [
    "- **45 students** finished on time while **11** didn't finish on time"
   ]
  },
  {
   "cell_type": "code",
   "execution_count": 49,
   "id": "1b18f75d-b157-4f6f-8183-e9ed6252b67c",
   "metadata": {},
   "outputs": [
    {
     "data": {
      "text/plain": [
       "Computer Off\n",
       "No     46\n",
       "yes     8\n",
       "no      2\n",
       "Name: count, dtype: int64"
      ]
     },
     "execution_count": 49,
     "metadata": {},
     "output_type": "execute_result"
    }
   ],
   "source": [
    "#checking the distribution of students whose computer went off\n",
    "df['Computer Off'].value_counts()"
   ]
  },
  {
   "cell_type": "code",
   "execution_count": 50,
   "id": "0cf9d96f-7cf9-403a-ae7f-83d9fd009b39",
   "metadata": {},
   "outputs": [],
   "source": [
    "#inconsistency in the values, replace no with No\n",
    "df['Computer Off'] = df['Computer Off'].str.replace('no', 'No')"
   ]
  },
  {
   "cell_type": "code",
   "execution_count": 51,
   "id": "5027422b-0dd6-4ef7-a87b-18862e008e97",
   "metadata": {},
   "outputs": [
    {
     "data": {
      "text/plain": [
       "Computer Off\n",
       "No     48\n",
       "yes     8\n",
       "Name: count, dtype: int64"
      ]
     },
     "execution_count": 51,
     "metadata": {},
     "output_type": "execute_result"
    }
   ],
   "source": [
    "#checking if the values have been replaced\n",
    "df['Computer Off'].value_counts()"
   ]
  },
  {
   "cell_type": "markdown",
   "id": "0543af6a-4847-40bc-8935-e52ab17a8a27",
   "metadata": {},
   "source": [
    "- **8 students** indicated that their computer went off during the exam"
   ]
  },
  {
   "cell_type": "code",
   "execution_count": 52,
   "id": "42dc177d-ed4f-4d31-92dd-94c4fd514de1",
   "metadata": {},
   "outputs": [
    {
     "data": {
      "image/png": "[encoded data removed]",
      "text/plain": [
       "<Figure size 600x400 with 2 Axes>"
      ]
     },
     "metadata": {},
     "output_type": "display_data"
    }
   ],
   "source": [
    "#plot a bar chart of finished on time and computer off\n",
    "\n",
    "fig, ax = plt.subplots(1, 2, figsize=[6,4])\n",
    "\n",
    "ax[0].bar(x=df['Finished on time'].value_counts().index, height=df['Finished on time'].value_counts().values)\n",
    "ax[1].bar(x=df['Computer Off'].value_counts().index, height=df['Computer Off'].value_counts().values)\n",
    "\n",
    "#add title\n",
    "ax[0].set_title('Finished on time')\n",
    "ax[0].set_xlabel('Finished on time')\n",
    "ax[0].yaxis.set_visible(False)\n",
    "\n",
    "#add title\n",
    "ax[1].set_title('Computer off')\n",
    "ax[1].set_xlabel('Computer Off')\n",
    "ax[1].yaxis.set_visible(False)\n",
    "\n",
    "#ax.xaxis.set_tick_params(rotation=75)\n",
    "\n",
    "ax[0].spines[['top', 'left', 'right']].set_visible(False)\n",
    "ax[1].spines[['top', 'left', 'right']].set_visible(False)\n",
    "\n",
    "for index, values in enumerate(df['Finished on time'].value_counts()):\n",
    "    ax[0].annotate(values, xy=(index, values+0.8), ha='center', va='center')\n",
    "for index, values in enumerate(df['Computer Off'].value_counts()):\n",
    "    ax[1].annotate(values, xy=(index, values+0.8), ha='center', va='center')\n",
    "\n",
    "\n",
    "plt.show()"
   ]
  },
  {
   "cell_type": "markdown",
   "id": "4cced28b-ebf6-450a-8d9a-7b41c73e0086",
   "metadata": {},
   "source": [
    "- **45 students** finished on time while **11** student didn't\n",
    "- **8 students** indicated that their computer went off during the exam"
   ]
  },
  {
   "cell_type": "markdown",
   "id": "608859fa-22c7-4002-ae65-759f05158e47",
   "metadata": {},
   "source": [
    "#### Distribution of Student who payed for the lesson by themselves"
   ]
  },
  {
   "cell_type": "code",
   "execution_count": 53,
   "id": "8d18362e-8812-4c5c-bec2-cbaaa561d901",
   "metadata": {},
   "outputs": [
    {
     "data": {
      "text/plain": [
       "Pay Yourself\n",
       "no     39\n",
       "Yes    16\n",
       "yes     1\n",
       "Name: count, dtype: int64"
      ]
     },
     "execution_count": 53,
     "metadata": {},
     "output_type": "execute_result"
    }
   ],
   "source": [
    "#student who payed themselves\n",
    "df['Pay Yourself'].value_counts()"
   ]
  },
  {
   "cell_type": "code",
   "execution_count": 54,
   "id": "49b7a93f-72da-4574-8550-03c85e91ee16",
   "metadata": {},
   "outputs": [],
   "source": [
    "#replace yes with Yes\n",
    "df['Pay Yourself'] = df['Pay Yourself'].str.replace('yes', 'Yes')"
   ]
  },
  {
   "cell_type": "code",
   "execution_count": 55,
   "id": "7da90e2f-f7f4-4097-be05-09e922127284",
   "metadata": {},
   "outputs": [
    {
     "data": {
      "text/plain": [
       "Pay Yourself\n",
       "no     39\n",
       "Yes    17\n",
       "Name: count, dtype: int64"
      ]
     },
     "execution_count": 55,
     "metadata": {},
     "output_type": "execute_result"
    }
   ],
   "source": [
    "df['Pay Yourself'].value_counts()"
   ]
  },
  {
   "cell_type": "code",
   "execution_count": 56,
   "id": "7f5c46e7-ddad-4e77-a042-71fe1f1d4396",
   "metadata": {},
   "outputs": [
    {
     "data": {
      "text/plain": [
       "Close Proximity to center\n",
       "yes    33\n",
       "No     23\n",
       "Name: count, dtype: int64"
      ]
     },
     "execution_count": 56,
     "metadata": {},
     "output_type": "execute_result"
    }
   ],
   "source": [
    "#student who lived close or far\n",
    "df['Close Proximity to center'].value_counts()"
   ]
  },
  {
   "cell_type": "code",
   "execution_count": 57,
   "id": "8284d3c5-2c69-4f5c-88e1-d78829be74ab",
   "metadata": {},
   "outputs": [
    {
     "data": {
      "image/png": "[encoded data removed]",
      "text/plain": [
       "<Figure size 700x400 with 2 Axes>"
      ]
     },
     "metadata": {},
     "output_type": "display_data"
    }
   ],
   "source": [
    "#plot a pie-chart\n",
    "fig, ax = plt.subplots(1, 2, figsize=[7,4])\n",
    "ax[0].pie(df['Pay Yourself'].value_counts().values, labels=df['Pay Yourself'].value_counts().index, autopct=\"%.0f%%\", startangle=90)\n",
    "ax[1].pie(df['Close Proximity to center'].value_counts().values, labels=['Near', 'Far'], \n",
    "          autopct=\"%.0f%%\", startangle=90)\n",
    "\n",
    "#add title\n",
    "ax[0].set_title('Pay Yourself')\n",
    "ax[1].set_title('Close Proximity to center')\n",
    "\n",
    "plt.show()"
   ]
  },
  {
   "cell_type": "markdown",
   "id": "8f1c4c41-f3cb-4aaa-826d-8ba0baede514",
   "metadata": {},
   "source": [
    "- **30%** of the student payed for the lesson by themselves\n",
    "- **41%** of the students lived far from the center and takes a transport to come for lesson"
   ]
  },
  {
   "cell_type": "markdown",
   "id": "357dc788-6729-4840-afd9-4264a9143d39",
   "metadata": {},
   "source": [
    "### Distribution of the 2024 score"
   ]
  },
  {
   "cell_type": "code",
   "execution_count": 59,
   "id": "7fb6cbf9-162f-45e0-a8ec-19031b45f638",
   "metadata": {},
   "outputs": [
    {
     "data": {
      "image/png": "[encoded data removed]",
      "text/plain": [
       "<Figure size 1000x400 with 2 Axes>"
      ]
     },
     "metadata": {},
     "output_type": "display_data"
    }
   ],
   "source": [
    "#plot a box plot of the scores\n",
    "fig, ax = plt.subplots(1, 2, figsize=[10,4])\n",
    "\n",
    "sns.histplot(data=df, x='Score 2024', ax=ax[0], kde=True)\n",
    "sns.boxplot(data=df, y='Score 2024', showmeans=True,\n",
    "            meanprops={\"marker\": \"+\",\n",
    "                       \"markeredgecolor\": \"black\",\n",
    "                       \"markersize\": \"10\"}, ax=ax[1])\n",
    "\n",
    "fig.suptitle('Distribution of the 2024 JAMB score')\n",
    "\n",
    "plt.show()"
   ]
  },
  {
   "cell_type": "markdown",
   "id": "5e675d5d-a98b-43cd-a8df-5fc4052cc38a",
   "metadata": {},
   "source": [
    "- The histogram shows that JAMB score in 2024 is normally distributed with mean and median at 213. This implies the 50% of the students scored above 213\n",
    "- The boxplot also showed that the top 25% scored above 230 in the exam"
   ]
  },
  {
   "cell_type": "markdown",
   "id": "a7f33e2b-cda2-4402-80c8-6cd4605f75fe",
   "metadata": {},
   "source": [
    "## Data Analysis"
   ]
  },
  {
   "cell_type": "markdown",
   "id": "5d6a11d6-085c-4fd6-8e09-c81767d26e26",
   "metadata": {},
   "source": [
    "### Question 1: What is the highest and lowest score in 2024 JAMB"
   ]
  },
  {
   "cell_type": "code",
   "execution_count": 60,
   "id": "c1348310-b479-4db6-8fe2-a993cdc665eb",
   "metadata": {},
   "outputs": [
    {
     "data": {
      "text/plain": [
       "290"
      ]
     },
     "execution_count": 60,
     "metadata": {},
     "output_type": "execute_result"
    }
   ],
   "source": [
    "#Find the highest score\n",
    "highest_score = df['Score 2024'].max()\n",
    "highest_score"
   ]
  },
  {
   "cell_type": "code",
   "execution_count": 61,
   "id": "7fb34f72-0ea1-4420-a072-72695e4fbd86",
   "metadata": {},
   "outputs": [
    {
     "data": {
      "text/plain": [
       "148"
      ]
     },
     "execution_count": 61,
     "metadata": {},
     "output_type": "execute_result"
    }
   ],
   "source": [
    "#Find the lowest score\n",
    "lowest_score = df['Score 2024'].min()\n",
    "lowest_score"
   ]
  },
  {
   "cell_type": "markdown",
   "id": "20895c39-3d84-46f5-a8a6-64aa31a82fab",
   "metadata": {},
   "source": [
    "### Question 2: What are the top five scores and least five scores"
   ]
  },
  {
   "cell_type": "markdown",
   "id": "0e4076e4-ad24-4f55-a655-88ae24f8eaea",
   "metadata": {},
   "source": [
    "#### Top 5 Scores"
   ]
  },
  {
   "cell_type": "code",
   "execution_count": 62,
   "id": "87b617ef-7021-4cfc-a347-eb1eedf5fc6f",
   "metadata": {},
   "outputs": [
    {
     "data": {
      "text/html": [
       "<div>\n",
       "<style scoped>\n",
       "    .dataframe tbody tr th:only-of-type {\n",
       "        vertical-align: middle;\n",
       "    }\n",
       "\n",
       "    .dataframe tbody tr th {\n",
       "        vertical-align: top;\n",
       "    }\n",
       "\n",
       "    .dataframe thead th {\n",
       "        text-align: right;\n",
       "    }\n",
       "</style>\n",
       "<table border=\"1\" class=\"dataframe\">\n",
       "  <thead>\n",
       "    <tr style=\"text-align: right;\">\n",
       "      <th></th>\n",
       "      <th>Student ID</th>\n",
       "      <th>Score 2024</th>\n",
       "    </tr>\n",
       "  </thead>\n",
       "  <tbody>\n",
       "    <tr>\n",
       "      <th>8</th>\n",
       "      <td>UB2024009</td>\n",
       "      <td>290</td>\n",
       "    </tr>\n",
       "    <tr>\n",
       "      <th>15</th>\n",
       "      <td>UB2024016</td>\n",
       "      <td>278</td>\n",
       "    </tr>\n",
       "    <tr>\n",
       "      <th>25</th>\n",
       "      <td>UB2024026</td>\n",
       "      <td>269</td>\n",
       "    </tr>\n",
       "    <tr>\n",
       "      <th>38</th>\n",
       "      <td>UB2024039</td>\n",
       "      <td>264</td>\n",
       "    </tr>\n",
       "    <tr>\n",
       "      <th>36</th>\n",
       "      <td>UB2024037</td>\n",
       "      <td>263</td>\n",
       "    </tr>\n",
       "  </tbody>\n",
       "</table>\n",
       "</div>"
      ],
      "text/plain": [
       "   Student ID  Score 2024\n",
       "8   UB2024009         290\n",
       "15  UB2024016         278\n",
       "25  UB2024026         269\n",
       "38  UB2024039         264\n",
       "36  UB2024037         263"
      ]
     },
     "execution_count": 62,
     "metadata": {},
     "output_type": "execute_result"
    }
   ],
   "source": [
    "#top five scores\n",
    "top_5_score = df[['Student ID' ,'Score 2024']].sort_values('Score 2024', ascending=False).head(5)\n",
    "top_5_score"
   ]
  },
  {
   "cell_type": "code",
   "execution_count": 63,
   "id": "e7bb1ef0-199e-4900-aeaf-5e79c437810a",
   "metadata": {},
   "outputs": [
    {
     "data": {
      "image/png": "[encoded data removed]",
      "text/plain": [
       "<Figure size 600x300 with 1 Axes>"
      ]
     },
     "metadata": {},
     "output_type": "display_data"
    }
   ],
   "source": [
    "#plot a bar chart of the top 5 scores\n",
    "fig, ax = plt.subplots(figsize=[6,3])\n",
    "\n",
    "ax.bar(x=top_5_score['Student ID'], height=top_5_score['Score 2024'])\n",
    "\n",
    "#add title and labels\n",
    "ax.set_title('Top 5 Scores')\n",
    "ax.set_xlabel('Scores')\n",
    "\n",
    "#remove spines\n",
    "ax.spines[['top', 'left', 'right']].set_visible(False)\n",
    "ax.yaxis.set_visible(False)\n",
    "\n",
    "#add annotation\n",
    "for index, values in enumerate(top_5_score['Score 2024']):\n",
    "    ax.annotate(values, xy=(index, values+8), ha='center', va='center')\n",
    "plt.show()"
   ]
  },
  {
   "cell_type": "markdown",
   "id": "d4545de4-c1e2-487c-aa96-c3d41b96234d",
   "metadata": {},
   "source": [
    "#### Least 5 Scores"
   ]
  },
  {
   "cell_type": "code",
   "execution_count": 64,
   "id": "f9dcb03f-52d0-4357-8539-45247991db73",
   "metadata": {},
   "outputs": [
    {
     "data": {
      "text/html": [
       "<div>\n",
       "<style scoped>\n",
       "    .dataframe tbody tr th:only-of-type {\n",
       "        vertical-align: middle;\n",
       "    }\n",
       "\n",
       "    .dataframe tbody tr th {\n",
       "        vertical-align: top;\n",
       "    }\n",
       "\n",
       "    .dataframe thead th {\n",
       "        text-align: right;\n",
       "    }\n",
       "</style>\n",
       "<table border=\"1\" class=\"dataframe\">\n",
       "  <thead>\n",
       "    <tr style=\"text-align: right;\">\n",
       "      <th></th>\n",
       "      <th>Student ID</th>\n",
       "      <th>Score 2024</th>\n",
       "    </tr>\n",
       "  </thead>\n",
       "  <tbody>\n",
       "    <tr>\n",
       "      <th>19</th>\n",
       "      <td>UB2024020</td>\n",
       "      <td>168</td>\n",
       "    </tr>\n",
       "    <tr>\n",
       "      <th>35</th>\n",
       "      <td>UB2024036</td>\n",
       "      <td>162</td>\n",
       "    </tr>\n",
       "    <tr>\n",
       "      <th>30</th>\n",
       "      <td>UB2024031</td>\n",
       "      <td>161</td>\n",
       "    </tr>\n",
       "    <tr>\n",
       "      <th>41</th>\n",
       "      <td>UB2024042</td>\n",
       "      <td>159</td>\n",
       "    </tr>\n",
       "    <tr>\n",
       "      <th>45</th>\n",
       "      <td>UB2024046</td>\n",
       "      <td>148</td>\n",
       "    </tr>\n",
       "  </tbody>\n",
       "</table>\n",
       "</div>"
      ],
      "text/plain": [
       "   Student ID  Score 2024\n",
       "19  UB2024020         168\n",
       "35  UB2024036         162\n",
       "30  UB2024031         161\n",
       "41  UB2024042         159\n",
       "45  UB2024046         148"
      ]
     },
     "execution_count": 64,
     "metadata": {},
     "output_type": "execute_result"
    }
   ],
   "source": [
    "#least 5 scores\n",
    "least_5_scores = df[['Student ID', 'Score 2024']].sort_values('Score 2024', ascending=False).tail(5)\n",
    "least_5_scores"
   ]
  },
  {
   "cell_type": "code",
   "execution_count": 65,
   "id": "12ca5e76-3d10-4278-aaab-48db3d7a9be5",
   "metadata": {},
   "outputs": [
    {
     "data": {
      "image/png": "[encoded data removed]",
      "text/plain": [
       "<Figure size 600x300 with 1 Axes>"
      ]
     },
     "metadata": {},
     "output_type": "display_data"
    }
   ],
   "source": [
    "#plot a bar chart of the least 5 scores\n",
    "fig, ax = plt.subplots(figsize=[6,3])\n",
    "\n",
    "ax.bar(x=least_5_scores['Student ID'], height=least_5_scores['Score 2024'])\n",
    "\n",
    "#add title and labels\n",
    "ax.set_title('Least 5 Scores')\n",
    "ax.set_xlabel('Scores')\n",
    "\n",
    "#remove spines\n",
    "ax.spines[['top', 'left', 'right']].set_visible(False)\n",
    "ax.yaxis.set_visible(False)\n",
    "\n",
    "#add annotation\n",
    "for index, values in enumerate(least_5_scores['Score 2024']):\n",
    "    ax.annotate(values, xy=(index, values+5), ha='center', va='center')\n",
    "plt.show()"
   ]
  },
  {
   "cell_type": "markdown",
   "id": "c058995a-26b1-4643-ae1f-b80a22e46733",
   "metadata": {},
   "source": [
    "### Question 3: What percentage scored below 200, 200-249 and 250-299"
   ]
  },
  {
   "cell_type": "markdown",
   "id": "a9299478-968c-4e2b-9362-4770c5dc599b",
   "metadata": {},
   "source": [
    "##### Create a range for below 200, 200-249, 250-299, 300 above"
   ]
  },
  {
   "cell_type": "code",
   "execution_count": 66,
   "id": "7e736a20-88f1-4f10-be36-e768ad6c9aeb",
   "metadata": {},
   "outputs": [],
   "source": [
    "#create a list of score range\n",
    "score_range = []\n",
    "for x in df['Score 2024']:\n",
    "    if x < 200:\n",
    "        score_range.append('Below 200')\n",
    "    elif x < 250:\n",
    "        score_range.append('200 - 249')\n",
    "    elif x < 300:\n",
    "        score_range.append('250 - 299')\n",
    "    elif x > 300:\n",
    "        score_range.append('Above 300')\n",
    "\n",
    "#create a column score range\n",
    "df['Score Range'] = score_range"
   ]
  },
  {
   "cell_type": "code",
   "execution_count": 67,
   "id": "476c2c5f-44ec-4a90-902c-53aea3fddb4f",
   "metadata": {},
   "outputs": [
    {
     "data": {
      "text/html": [
       "<div>\n",
       "<style scoped>\n",
       "    .dataframe tbody tr th:only-of-type {\n",
       "        vertical-align: middle;\n",
       "    }\n",
       "\n",
       "    .dataframe tbody tr th {\n",
       "        vertical-align: top;\n",
       "    }\n",
       "\n",
       "    .dataframe thead th {\n",
       "        text-align: right;\n",
       "    }\n",
       "</style>\n",
       "<table border=\"1\" class=\"dataframe\">\n",
       "  <thead>\n",
       "    <tr style=\"text-align: right;\">\n",
       "      <th></th>\n",
       "      <th>Score Range</th>\n",
       "      <th>total_no</th>\n",
       "    </tr>\n",
       "  </thead>\n",
       "  <tbody>\n",
       "    <tr>\n",
       "      <th>0</th>\n",
       "      <td>200 - 249</td>\n",
       "      <td>31</td>\n",
       "    </tr>\n",
       "    <tr>\n",
       "      <th>1</th>\n",
       "      <td>250 - 299</td>\n",
       "      <td>8</td>\n",
       "    </tr>\n",
       "    <tr>\n",
       "      <th>2</th>\n",
       "      <td>Below 200</td>\n",
       "      <td>17</td>\n",
       "    </tr>\n",
       "  </tbody>\n",
       "</table>\n",
       "</div>"
      ],
      "text/plain": [
       "  Score Range  total_no\n",
       "0   200 - 249        31\n",
       "1   250 - 299         8\n",
       "2   Below 200        17"
      ]
     },
     "execution_count": 67,
     "metadata": {},
     "output_type": "execute_result"
    }
   ],
   "source": [
    "#group by score range\n",
    "score_category = df.groupby(['Score Range'], as_index=False).agg(total_no = ('Student Name', 'count'))\n",
    "score_category"
   ]
  },
  {
   "cell_type": "code",
   "execution_count": 68,
   "id": "dcdecd5f-c94f-4cd9-bef4-a83053727026",
   "metadata": {},
   "outputs": [
    {
     "data": {
      "text/html": [
       "<div>\n",
       "<style scoped>\n",
       "    .dataframe tbody tr th:only-of-type {\n",
       "        vertical-align: middle;\n",
       "    }\n",
       "\n",
       "    .dataframe tbody tr th {\n",
       "        vertical-align: top;\n",
       "    }\n",
       "\n",
       "    .dataframe thead th {\n",
       "        text-align: right;\n",
       "    }\n",
       "</style>\n",
       "<table border=\"1\" class=\"dataframe\">\n",
       "  <thead>\n",
       "    <tr style=\"text-align: right;\">\n",
       "      <th></th>\n",
       "      <th>Score Range</th>\n",
       "      <th>total_no</th>\n",
       "      <th>perc</th>\n",
       "    </tr>\n",
       "  </thead>\n",
       "  <tbody>\n",
       "    <tr>\n",
       "      <th>0</th>\n",
       "      <td>200 - 249</td>\n",
       "      <td>31</td>\n",
       "      <td>55.0</td>\n",
       "    </tr>\n",
       "    <tr>\n",
       "      <th>1</th>\n",
       "      <td>250 - 299</td>\n",
       "      <td>8</td>\n",
       "      <td>14.0</td>\n",
       "    </tr>\n",
       "    <tr>\n",
       "      <th>2</th>\n",
       "      <td>Below 200</td>\n",
       "      <td>17</td>\n",
       "      <td>30.0</td>\n",
       "    </tr>\n",
       "  </tbody>\n",
       "</table>\n",
       "</div>"
      ],
      "text/plain": [
       "  Score Range  total_no  perc\n",
       "0   200 - 249        31  55.0\n",
       "1   250 - 299         8  14.0\n",
       "2   Below 200        17  30.0"
      ]
     },
     "execution_count": 68,
     "metadata": {},
     "output_type": "execute_result"
    }
   ],
   "source": [
    "#create the percentage of score category\n",
    "score_category['perc'] = ((score_category['total_no']/score_category['total_no'].sum())*100).round(0)\n",
    "score_category"
   ]
  },
  {
   "cell_type": "code",
   "execution_count": 69,
   "id": "ab9e0110-681c-42bc-8a8b-953c9792e2dc",
   "metadata": {},
   "outputs": [
    {
     "data": {
      "text/html": [
       "<div>\n",
       "<style scoped>\n",
       "    .dataframe tbody tr th:only-of-type {\n",
       "        vertical-align: middle;\n",
       "    }\n",
       "\n",
       "    .dataframe tbody tr th {\n",
       "        vertical-align: top;\n",
       "    }\n",
       "\n",
       "    .dataframe thead th {\n",
       "        text-align: right;\n",
       "    }\n",
       "</style>\n",
       "<table border=\"1\" class=\"dataframe\">\n",
       "  <thead>\n",
       "    <tr style=\"text-align: right;\">\n",
       "      <th></th>\n",
       "      <th>Score Range</th>\n",
       "      <th>total_no</th>\n",
       "      <th>perc</th>\n",
       "      <th>index</th>\n",
       "    </tr>\n",
       "  </thead>\n",
       "  <tbody>\n",
       "    <tr>\n",
       "      <th>0</th>\n",
       "      <td>200 - 249</td>\n",
       "      <td>31</td>\n",
       "      <td>55.0</td>\n",
       "      <td>2</td>\n",
       "    </tr>\n",
       "    <tr>\n",
       "      <th>1</th>\n",
       "      <td>250 - 299</td>\n",
       "      <td>8</td>\n",
       "      <td>14.0</td>\n",
       "      <td>3</td>\n",
       "    </tr>\n",
       "    <tr>\n",
       "      <th>2</th>\n",
       "      <td>Below 200</td>\n",
       "      <td>17</td>\n",
       "      <td>30.0</td>\n",
       "      <td>1</td>\n",
       "    </tr>\n",
       "  </tbody>\n",
       "</table>\n",
       "</div>"
      ],
      "text/plain": [
       "  Score Range  total_no  perc  index\n",
       "0   200 - 249        31  55.0      2\n",
       "1   250 - 299         8  14.0      3\n",
       "2   Below 200        17  30.0      1"
      ]
     },
     "execution_count": 69,
     "metadata": {},
     "output_type": "execute_result"
    }
   ],
   "source": [
    "#indexing the category\n",
    "cat_index = []\n",
    "for x in score_category['Score Range']:\n",
    "    if x == 'Below 200':\n",
    "        cat_index.append(1)\n",
    "    elif x == '200 - 249':\n",
    "        cat_index.append(2)\n",
    "    elif x == '250 - 299':\n",
    "        cat_index.append(3)\n",
    "score_category['index'] = cat_index\n",
    "score_category"
   ]
  },
  {
   "cell_type": "code",
   "execution_count": 70,
   "id": "32513730-56c6-4025-9451-2ecbfce28fac",
   "metadata": {},
   "outputs": [
    {
     "data": {
      "image/png": "[encoded data removed]",
      "text/plain": [
       "<Figure size 800x300 with 2 Axes>"
      ]
     },
     "metadata": {},
     "output_type": "display_data"
    }
   ],
   "source": [
    "#plot a bar chart of the least 5 scores\n",
    "fig, ax = plt.subplots(1, 2, figsize=[8,3])\n",
    "\n",
    "#sort the dataframe\n",
    "score_category_sorted = score_category.sort_values('index', ascending=True)\n",
    "ax[0].bar(x=score_category_sorted['Score Range'], height=score_category_sorted['total_no'])\n",
    "\n",
    "#add title and labels\n",
    "fig.suptitle('Number & Percentage(%) of Students by Score category')\n",
    "ax[0].set_xlabel('Score category')\n",
    "\n",
    "#remove spines\n",
    "ax[0].spines[['top', 'left', 'right']].set_visible(False)\n",
    "ax[0].yaxis.set_visible(False)\n",
    "\n",
    "#add annotation\n",
    "for index, values in enumerate(score_category_sorted['total_no']):\n",
    "    ax[0].annotate(values, xy=(index, values+1), ha='center', va='center')\n",
    "\n",
    "#second plot\n",
    "ax[1].pie(score_category_sorted['total_no'], labels=score_category_sorted['Score Range'], autopct=\"%.0f%%\", startangle=90)\n",
    "plt.show()"
   ]
  },
  {
   "cell_type": "markdown",
   "id": "1c3b7230-da91-4ab5-a606-8db6d54fa32c",
   "metadata": {},
   "source": [
    "- The chart shows that **14%** of the students score between **250-299**\n",
    "- **55%** scored between **200-249** and **30%** scored below 200"
   ]
  },
  {
   "cell_type": "markdown",
   "id": "0ca01d57-1320-44d8-9f2d-db26c1962a45",
   "metadata": {},
   "source": [
    "### Question 4: What is the total revenue generated by month?"
   ]
  },
  {
   "cell_type": "markdown",
   "id": "e7d926ea-6cc9-4a9a-b7d1-df797d00e533",
   "metadata": {},
   "source": [
    "#### Total Revenue"
   ]
  },
  {
   "cell_type": "code",
   "execution_count": 71,
   "id": "a93843b6-e333-4e38-bf09-953802866569",
   "metadata": {},
   "outputs": [
    {
     "data": {
      "text/plain": [
       "1699000"
      ]
     },
     "execution_count": 71,
     "metadata": {},
     "output_type": "execute_result"
    }
   ],
   "source": [
    "#determine the total revenue generated\n",
    "total_revenue = df['Total Lesson Fee'].sum()\n",
    "total_revenue"
   ]
  },
  {
   "cell_type": "markdown",
   "id": "13da29b4-bb60-4d6a-a815-506d483dec41",
   "metadata": {},
   "source": [
    "#### Total Revenue in January"
   ]
  },
  {
   "cell_type": "code",
   "execution_count": 72,
   "id": "d56368f5-8b95-4972-91e0-425abfc16900",
   "metadata": {},
   "outputs": [],
   "source": [
    "#filter student who registered in January\n",
    "jan_reg = df[df['Date Registered']<= '2024-01-31']"
   ]
  },
  {
   "cell_type": "code",
   "execution_count": 73,
   "id": "fa869113-df58-482d-a815-e91ad29676d7",
   "metadata": {},
   "outputs": [
    {
     "data": {
      "text/html": [
       "<div>\n",
       "<style scoped>\n",
       "    .dataframe tbody tr th:only-of-type {\n",
       "        vertical-align: middle;\n",
       "    }\n",
       "\n",
       "    .dataframe tbody tr th {\n",
       "        vertical-align: top;\n",
       "    }\n",
       "\n",
       "    .dataframe thead th {\n",
       "        text-align: right;\n",
       "    }\n",
       "</style>\n",
       "<table border=\"1\" class=\"dataframe\">\n",
       "  <thead>\n",
       "    <tr style=\"text-align: right;\">\n",
       "      <th></th>\n",
       "      <th>Month Name</th>\n",
       "      <th>Student_Reg</th>\n",
       "      <th>Total_Revenue</th>\n",
       "    </tr>\n",
       "  </thead>\n",
       "  <tbody>\n",
       "    <tr>\n",
       "      <th>0</th>\n",
       "      <td>January</td>\n",
       "      <td>34</td>\n",
       "      <td>444000</td>\n",
       "    </tr>\n",
       "  </tbody>\n",
       "</table>\n",
       "</div>"
      ],
      "text/plain": [
       "  Month Name  Student_Reg  Total_Revenue\n",
       "0    January           34         444000"
      ]
     },
     "execution_count": 73,
     "metadata": {},
     "output_type": "execute_result"
    }
   ],
   "source": [
    "r_jan = jan_reg.groupby(['Month Name'], as_index=False).agg(Student_Reg=('Student Name', 'count'), Total_Revenue=('Lesson Fee', 'sum'))\n",
    "r_jan"
   ]
  },
  {
   "cell_type": "markdown",
   "id": "d3d8f7c9-55f7-406e-938a-f800e4ff2166",
   "metadata": {},
   "source": [
    "#### Total Revenue in February"
   ]
  },
  {
   "cell_type": "code",
   "execution_count": 74,
   "id": "8cf7af9e-64ef-494b-9cb3-d7ead4f32dd4",
   "metadata": {},
   "outputs": [],
   "source": [
    "#filter student who registered between january and feb\n",
    "feb_reg = df[df['Date Registered']<= '2024-02-29']"
   ]
  },
  {
   "cell_type": "code",
   "execution_count": 75,
   "id": "a5b1837e-42fd-415e-a4e2-d1755e34ef51",
   "metadata": {},
   "outputs": [],
   "source": [
    "#create a column with the same month name 'February\n",
    "list1 = []\n",
    "for x in feb_reg['Student Name']:\n",
    "    list1.append('February')\n",
    "feb_reg['Month_name'] = list1"
   ]
  },
  {
   "cell_type": "code",
   "execution_count": 76,
   "id": "2ba4667b-5e0a-4eb8-912b-8da49ce68efc",
   "metadata": {},
   "outputs": [
    {
     "data": {
      "text/html": [
       "<div>\n",
       "<style scoped>\n",
       "    .dataframe tbody tr th:only-of-type {\n",
       "        vertical-align: middle;\n",
       "    }\n",
       "\n",
       "    .dataframe tbody tr th {\n",
       "        vertical-align: top;\n",
       "    }\n",
       "\n",
       "    .dataframe thead th {\n",
       "        text-align: right;\n",
       "    }\n",
       "</style>\n",
       "<table border=\"1\" class=\"dataframe\">\n",
       "  <thead>\n",
       "    <tr style=\"text-align: right;\">\n",
       "      <th></th>\n",
       "      <th>Month_name</th>\n",
       "      <th>Student_Reg</th>\n",
       "      <th>Total_Revenue</th>\n",
       "    </tr>\n",
       "  </thead>\n",
       "  <tbody>\n",
       "    <tr>\n",
       "      <th>0</th>\n",
       "      <td>February</td>\n",
       "      <td>45</td>\n",
       "      <td>567000</td>\n",
       "    </tr>\n",
       "  </tbody>\n",
       "</table>\n",
       "</div>"
      ],
      "text/plain": [
       "  Month_name  Student_Reg  Total_Revenue\n",
       "0   February           45         567000"
      ]
     },
     "execution_count": 76,
     "metadata": {},
     "output_type": "execute_result"
    }
   ],
   "source": [
    "#group by the month\n",
    "r_feb = feb_reg.groupby(['Month_name'], as_index=False).agg(Student_Reg=('Student Name', 'count'), Total_Revenue=('Lesson Fee', 'sum'))\n",
    "r_feb"
   ]
  },
  {
   "cell_type": "markdown",
   "id": "2fbdc624-90ef-4680-8a8b-d0fea86d949a",
   "metadata": {},
   "source": [
    "#### Total Revenue in March"
   ]
  },
  {
   "cell_type": "code",
   "execution_count": 77,
   "id": "f98ab072-539d-4627-8960-efc03b292e9d",
   "metadata": {},
   "outputs": [],
   "source": [
    "#filter student who registered between january and march\n",
    "mar_reg = df[df['Date Registered']<= '2024-03-31']"
   ]
  },
  {
   "cell_type": "code",
   "execution_count": 78,
   "id": "75d19cda-bc65-4604-b413-8fcaaba814f2",
   "metadata": {},
   "outputs": [],
   "source": [
    "#create a column with the same month name 'February\n",
    "list2 = []\n",
    "for x in mar_reg['Student Name']:\n",
    "    list2.append('March')\n",
    "mar_reg['Month_name'] = list2"
   ]
  },
  {
   "cell_type": "code",
   "execution_count": 79,
   "id": "8e89e835-9b61-41c1-a378-39d90a9cadb5",
   "metadata": {},
   "outputs": [
    {
     "data": {
      "text/html": [
       "<div>\n",
       "<style scoped>\n",
       "    .dataframe tbody tr th:only-of-type {\n",
       "        vertical-align: middle;\n",
       "    }\n",
       "\n",
       "    .dataframe tbody tr th {\n",
       "        vertical-align: top;\n",
       "    }\n",
       "\n",
       "    .dataframe thead th {\n",
       "        text-align: right;\n",
       "    }\n",
       "</style>\n",
       "<table border=\"1\" class=\"dataframe\">\n",
       "  <thead>\n",
       "    <tr style=\"text-align: right;\">\n",
       "      <th></th>\n",
       "      <th>Month_name</th>\n",
       "      <th>Student_Reg</th>\n",
       "      <th>Total_Revenue</th>\n",
       "    </tr>\n",
       "  </thead>\n",
       "  <tbody>\n",
       "    <tr>\n",
       "      <th>0</th>\n",
       "      <td>March</td>\n",
       "      <td>56</td>\n",
       "      <td>688000</td>\n",
       "    </tr>\n",
       "  </tbody>\n",
       "</table>\n",
       "</div>"
      ],
      "text/plain": [
       "  Month_name  Student_Reg  Total_Revenue\n",
       "0      March           56         688000"
      ]
     },
     "execution_count": 79,
     "metadata": {},
     "output_type": "execute_result"
    }
   ],
   "source": [
    "#group by month\n",
    "r_mar = mar_reg.groupby(['Month_name'], as_index=False).agg(Student_Reg=('Student Name', 'count'), Total_Revenue=('Lesson Fee', 'sum'))\n",
    "r_mar"
   ]
  },
  {
   "cell_type": "code",
   "execution_count": 80,
   "id": "df8ebfad-ac2b-432f-8c31-53ef6093cacf",
   "metadata": {},
   "outputs": [],
   "source": [
    "#rename columns to match those in january reg\n",
    "r_feb.rename(columns={\n",
    "    'Month_name': 'Month Name'\n",
    "}, inplace=True\n",
    "            )\n",
    "\n",
    "r_mar.rename(columns={\n",
    "    'Month_name': 'Month Name'\n",
    "}, inplace=True\n",
    "            )"
   ]
  },
  {
   "cell_type": "code",
   "execution_count": 81,
   "id": "e1ae297b-f50b-4ddf-950d-be83b22e039b",
   "metadata": {},
   "outputs": [
    {
     "data": {
      "text/html": [
       "<div>\n",
       "<style scoped>\n",
       "    .dataframe tbody tr th:only-of-type {\n",
       "        vertical-align: middle;\n",
       "    }\n",
       "\n",
       "    .dataframe tbody tr th {\n",
       "        vertical-align: top;\n",
       "    }\n",
       "\n",
       "    .dataframe thead th {\n",
       "        text-align: right;\n",
       "    }\n",
       "</style>\n",
       "<table border=\"1\" class=\"dataframe\">\n",
       "  <thead>\n",
       "    <tr style=\"text-align: right;\">\n",
       "      <th></th>\n",
       "      <th>Month Name</th>\n",
       "      <th>Student_Reg</th>\n",
       "      <th>Total_Revenue</th>\n",
       "    </tr>\n",
       "  </thead>\n",
       "  <tbody>\n",
       "    <tr>\n",
       "      <th>0</th>\n",
       "      <td>January</td>\n",
       "      <td>34</td>\n",
       "      <td>444000</td>\n",
       "    </tr>\n",
       "    <tr>\n",
       "      <th>0</th>\n",
       "      <td>February</td>\n",
       "      <td>45</td>\n",
       "      <td>567000</td>\n",
       "    </tr>\n",
       "    <tr>\n",
       "      <th>0</th>\n",
       "      <td>March</td>\n",
       "      <td>56</td>\n",
       "      <td>688000</td>\n",
       "    </tr>\n",
       "  </tbody>\n",
       "</table>\n",
       "</div>"
      ],
      "text/plain": [
       "  Month Name  Student_Reg  Total_Revenue\n",
       "0    January           34         444000\n",
       "0   February           45         567000\n",
       "0      March           56         688000"
      ]
     },
     "execution_count": 81,
     "metadata": {},
     "output_type": "execute_result"
    }
   ],
   "source": [
    "#concact the three dataframe\n",
    "rev_concact = pd.concat([r_jan, r_feb, r_mar])\n",
    "rev_concact"
   ]
  },
  {
   "cell_type": "code",
   "execution_count": 82,
   "id": "f1f45018-fb4e-44b1-b1fd-e5102835ad62",
   "metadata": {},
   "outputs": [],
   "source": [
    "#reset index and drop the index column\n",
    "rev_concact.reset_index().drop('index', axis=1, inplace=True)"
   ]
  },
  {
   "cell_type": "code",
   "execution_count": 83,
   "id": "91b3dc8c-c8b0-4648-ad89-2946ff55b897",
   "metadata": {},
   "outputs": [
    {
     "data": {
      "image/png": "[encoded data removed]",
      "text/plain": [
       "<Figure size 500x300 with 1 Axes>"
      ]
     },
     "metadata": {},
     "output_type": "display_data"
    }
   ],
   "source": [
    "#plot a line chart of the revenue trend\n",
    "\n",
    "fig, ax = plt.subplots(figsize=[5,3])\n",
    "ax.plot(rev_concact['Month Name'], rev_concact['Total_Revenue'])\n",
    "\n",
    "#add title\n",
    "ax.set_title('Revenue trend by month')\n",
    "ax.set_xlabel('Month')\n",
    "\n",
    "ax.spines[['top', 'right', 'left']].set_visible(False)\n",
    "ax.yaxis.set_visible(False)\n",
    "\n",
    "for index, values in enumerate(rev_concact['Total_Revenue']):\n",
    "    ax.annotate('N'+ str(values), xy=(index, values), ha='center', va='center')\n",
    "plt.show()"
   ]
  },
  {
   "cell_type": "markdown",
   "id": "f14bd3a9-4bba-42c7-aa58-74d301f4df26",
   "metadata": {},
   "source": [
    "### Question 5: What is the performance of student in 2024 compared to 2023?"
   ]
  },
  {
   "cell_type": "markdown",
   "id": "89bb52bd-afb7-49aa-9cb2-68ee6b99ae2e",
   "metadata": {},
   "source": [
    "#### Determining the number of students who had written both in 2023 and 2024"
   ]
  },
  {
   "cell_type": "code",
   "execution_count": 84,
   "id": "29439c4a-a3c5-48bb-ad9b-b33d5dbc1c53",
   "metadata": {},
   "outputs": [
    {
     "data": {
      "text/plain": [
       "Wrote Twice\n",
       "Yes    32\n",
       "No     24\n",
       "Name: count, dtype: int64"
      ]
     },
     "execution_count": 84,
     "metadata": {},
     "output_type": "execute_result"
    }
   ],
   "source": [
    "df['Wrote Twice'].value_counts()"
   ]
  },
  {
   "cell_type": "markdown",
   "id": "1b0c31fe-ae55-478e-8837-f5212b9cabd7",
   "metadata": {},
   "source": [
    "- Out of 56 registered students, 34 students had written the exam previously in 2023 and also written in 2024"
   ]
  },
  {
   "cell_type": "code",
   "execution_count": 85,
   "id": "e65fac7b-d6a4-4d00-9c37-4df0d7492de4",
   "metadata": {},
   "outputs": [],
   "source": [
    "#create a dataframe of students who took exam in 2023 and 2024\n",
    "\n",
    "wrote_twice = df[df['Score 2023'].notnull()]"
   ]
  },
  {
   "cell_type": "code",
   "execution_count": 87,
   "id": "6a581948-e5cd-4047-8652-161e8b59da93",
   "metadata": {},
   "outputs": [
    {
     "data": {
      "image/png": "[encoded data removed]",
      "text/plain": [
       "<Figure size 900x500 with 2 Axes>"
      ]
     },
     "metadata": {},
     "output_type": "display_data"
    }
   ],
   "source": [
    "#plot a box plot of the scores in 2023 and 2024\n",
    "fig, ax = plt.subplots(1, 2, figsize=[9,5])\n",
    "\n",
    "sns.boxplot(data=wrote_twice, y='Score 2023', ax=ax[0], \n",
    "            showmeans=True,\n",
    "            meanprops={\"marker\": \"+\",\n",
    "                       \"markeredgecolor\": \"black\",\n",
    "                       \"markersize\": \"10\"})\n",
    "sns.boxplot(data=wrote_twice, y='Score 2024', ax=ax[1],\n",
    "           showmeans=True,\n",
    "            meanprops={\"marker\": \"+\",\n",
    "                       \"markeredgecolor\": \"black\",\n",
    "                       \"markersize\": \"10\"})\n",
    "\n",
    "fig.suptitle('Score 2023 vs. Score 2024')\n",
    "\n",
    "plt.show()"
   ]
  },
  {
   "cell_type": "markdown",
   "id": "b7421f74-c32b-49ce-9701-6e80c688de2c",
   "metadata": {},
   "source": [
    "- The mean score in 2023 is at **205** whereas in 2024 is at **221**\n",
    "- More than **80%** of the student scored above 200 mark compared to 2023 where less than **50%** scored above 200"
   ]
  },
  {
   "cell_type": "markdown",
   "id": "c987b38d-98d5-46d6-ba97-ba8b32d94c9f",
   "metadata": {},
   "source": [
    "### Question 6: Did the student performance in 2024 better than 2023 performance?"
   ]
  },
  {
   "cell_type": "code",
   "execution_count": 88,
   "id": "33831749-14c0-4857-a7e5-cf998e7f5f9a",
   "metadata": {},
   "outputs": [],
   "source": [
    "#import the statistics\n",
    "from scipy import stats"
   ]
  },
  {
   "cell_type": "code",
   "execution_count": 89,
   "id": "e8f17ffe-e5c6-4a27-ab4a-328a5c01a77b",
   "metadata": {},
   "outputs": [],
   "source": [
    "#create the pre score and post score variables\n",
    "score_2023 = wrote_twice['Score 2023']\n",
    "score_2024 = wrote_twice['Score 2024']"
   ]
  },
  {
   "cell_type": "markdown",
   "id": "ad3d2bdf-ea54-4eed-a85a-fd1fe5e827d0",
   "metadata": {},
   "source": [
    "#### State the Null and Alternative Hypothesis \n",
    "- H0: There is no difference between the mean score of 2023 and 2024 JAMB exam\n",
    "- H1: There is statistically significant difference between the mean scores of 2023 and 2024 JAMB exam"
   ]
  },
  {
   "cell_type": "code",
   "execution_count": 90,
   "id": "620ba35b-7595-494b-bd32-366cf3e879cf",
   "metadata": {},
   "outputs": [],
   "source": [
    "#getting the difference between the scores\n",
    "score_difference = score_2024 - score_2023"
   ]
  },
  {
   "cell_type": "code",
   "execution_count": 91,
   "id": "bd531ae6-19c1-47c9-8b53-b601555bb63a",
   "metadata": {},
   "outputs": [
    {
     "data": {
      "text/plain": [
       "15.84375"
      ]
     },
     "execution_count": 91,
     "metadata": {},
     "output_type": "execute_result"
    }
   ],
   "source": [
    "#finding the mean of the score difference\n",
    "score_difference.mean()"
   ]
  },
  {
   "cell_type": "markdown",
   "id": "231bef4a-2bbd-4fe4-8e52-23ff09f60199",
   "metadata": {},
   "source": [
    "- The mean of the score difference is **15.84375**, which is far away from zero(0)"
   ]
  },
  {
   "cell_type": "markdown",
   "id": "06070d91-2ec0-4415-926d-f04b9a59714c",
   "metadata": {},
   "source": [
    "#### Performing a paired sample t-test with two-tailed"
   ]
  },
  {
   "cell_type": "code",
   "execution_count": 92,
   "id": "ab2947bb-567d-4247-831f-77bfaa053061",
   "metadata": {},
   "outputs": [
    {
     "data": {
      "text/plain": [
       "TtestResult(statistic=-3.400866592047638, pvalue=0.0018669106101036385, df=31)"
      ]
     },
     "execution_count": 92,
     "metadata": {},
     "output_type": "execute_result"
    }
   ],
   "source": [
    "#performing the paired sample t-test with two-tailed\n",
    "stats.ttest_rel(score_2023, score_2024)"
   ]
  },
  {
   "cell_type": "markdown",
   "id": "5910d022-67b9-4edd-8c68-7afaea2ffcc8",
   "metadata": {},
   "source": [
    "- The **p value(0.00187)** is less than the alpha **(0.05)** significance level; we reject the null hypothesis.\n",
    "- Therefore, at **5%** significance level, the data provide strong evidence to conclude that there is **statisfically significance difference** between the mean of 2023 and 2024"
   ]
  },
  {
   "cell_type": "markdown",
   "id": "98ceec12-e4fb-4f63-a03b-6b47ccd4c673",
   "metadata": {},
   "source": [
    "#### Performing a paired sample t-test with left-tailed"
   ]
  },
  {
   "cell_type": "code",
   "execution_count": 93,
   "id": "4ee3ef91-9a6a-499d-9810-f91d0f6835b1",
   "metadata": {},
   "outputs": [
    {
     "data": {
      "text/plain": [
       "TtestResult(statistic=-3.400866592047638, pvalue=0.0009334553050518192, df=31)"
      ]
     },
     "execution_count": 93,
     "metadata": {},
     "output_type": "execute_result"
    }
   ],
   "source": [
    "#performing the paired sample t-test in one direction\n",
    "stats.ttest_rel(score_2023, score_2024, alternative='less')"
   ]
  },
  {
   "cell_type": "markdown",
   "id": "e51ab0d7-ebf5-492e-aae7-3cd692433ba2",
   "metadata": {},
   "source": [
    "- The **p value (0.00093)** is less than alpha **0.05** significance level. This implies that there is strong evidence in the data that the 2024 mean is statistically greater than 2023 mean.\n",
    "- Therefore, at 5% significance level, the data provide strong evidence to conclude that the students JAMB score improved after months of tutoring and 2024 performance is better than 2023."
   ]
  },
  {
   "cell_type": "markdown",
   "id": "a3297669-c048-4a13-9857-36c854636cfb",
   "metadata": {},
   "source": [
    "### Question 7: Did the Female students perform better than Male in 2024 JAMB?"
   ]
  },
  {
   "cell_type": "code",
   "execution_count": 94,
   "id": "6e35c998-04ef-4622-86a6-9e65e53c46ac",
   "metadata": {},
   "outputs": [
    {
     "data": {
      "image/png": "[encoded data removed]",
      "text/plain": [
       "<Figure size 700x400 with 1 Axes>"
      ]
     },
     "metadata": {},
     "output_type": "display_data"
    }
   ],
   "source": [
    "# plotting a barplot and boxplot of the 2024 JAMB score of the male and female\n",
    "\n",
    "fig, ax = plt.subplots(figsize=[7,4])\n",
    "\n",
    "sns.boxplot(data=df, x='Gender', y='Score 2024', showmeans=True,\n",
    "            meanprops={\"marker\": \"+\",\n",
    "                       \"markeredgecolor\": \"black\",\n",
    "                       \"markersize\": \"10\"})\n",
    "\n",
    "#add title\n",
    "ax.set_title('Female vs. Male Score in 2024 JAMB exam')\n",
    "ax.spines[['top','right']].set_visible(False)\n",
    "\n",
    "plt.show()"
   ]
  },
  {
   "cell_type": "code",
   "execution_count": 95,
   "id": "3adbe3de-3c65-4b3d-9798-a0b7d80359b7",
   "metadata": {},
   "outputs": [
    {
     "data": {
      "text/html": [
       "<div>\n",
       "<style scoped>\n",
       "    .dataframe tbody tr th:only-of-type {\n",
       "        vertical-align: middle;\n",
       "    }\n",
       "\n",
       "    .dataframe tbody tr th {\n",
       "        vertical-align: top;\n",
       "    }\n",
       "\n",
       "    .dataframe thead th {\n",
       "        text-align: right;\n",
       "    }\n",
       "</style>\n",
       "<table border=\"1\" class=\"dataframe\">\n",
       "  <thead>\n",
       "    <tr style=\"text-align: right;\">\n",
       "      <th></th>\n",
       "      <th>median</th>\n",
       "      <th>mean</th>\n",
       "      <th>std</th>\n",
       "    </tr>\n",
       "    <tr>\n",
       "      <th>Gender</th>\n",
       "      <th></th>\n",
       "      <th></th>\n",
       "      <th></th>\n",
       "    </tr>\n",
       "  </thead>\n",
       "  <tbody>\n",
       "    <tr>\n",
       "      <th>F</th>\n",
       "      <td>211.5</td>\n",
       "      <td>212.1000</td>\n",
       "      <td>28.444097</td>\n",
       "    </tr>\n",
       "    <tr>\n",
       "      <th>M</th>\n",
       "      <td>216.0</td>\n",
       "      <td>216.3125</td>\n",
       "      <td>39.850920</td>\n",
       "    </tr>\n",
       "  </tbody>\n",
       "</table>\n",
       "</div>"
      ],
      "text/plain": [
       "        median      mean        std\n",
       "Gender                             \n",
       "F        211.5  212.1000  28.444097\n",
       "M        216.0  216.3125  39.850920"
      ]
     },
     "execution_count": 95,
     "metadata": {},
     "output_type": "execute_result"
    }
   ],
   "source": [
    "#grouping by gender and calculating the mean score and standard deviation\n",
    "df.groupby(['Gender']).agg(median=('Score 2024', 'median'), mean=('Score 2024', 'mean'), std=('Score 2024', 'std'), )"
   ]
  },
  {
   "cell_type": "code",
   "execution_count": 96,
   "id": "8c5a747d-23a6-47e3-b79b-b4fb64f22021",
   "metadata": {},
   "outputs": [
    {
     "data": {
      "text/plain": [
       "35.75"
      ]
     },
     "execution_count": 96,
     "metadata": {},
     "output_type": "execute_result"
    }
   ],
   "source": [
    "#getting the inter-quartile range for the female score\n",
    "stats.iqr(df[df['Gender']=='F']['Score 2024'])"
   ]
  },
  {
   "cell_type": "code",
   "execution_count": 97,
   "id": "21ea0f3b-609d-42de-8e99-dcd7a78f2386",
   "metadata": {},
   "outputs": [
    {
     "data": {
      "text/plain": [
       "64.5"
      ]
     },
     "execution_count": 97,
     "metadata": {},
     "output_type": "execute_result"
    }
   ],
   "source": [
    "#getting the inter-quartile range for the male score\n",
    "stats.iqr(df[df['Gender']=='M']['Score 2024'])"
   ]
  },
  {
   "cell_type": "markdown",
   "id": "0bf59161-7c1d-405d-a591-14ed43806fa7",
   "metadata": {},
   "source": [
    "- The Female have a **mean score** of **212.1** and a standard deviation of **28.44** while the male have a mean score of **216.3** which is higher by 4 and a high standard deviation of **39.85**\n",
    "- The difference in the mean score is a small but in terms of standard deviation, the standard deviation of the male scores show that their scores are spread out from the mean and that the mean scoreof male students maybe influenced by outliers\n",
    "- The Inter-quartile range **(IQR)** of the female is **35.75** while that of the male is **64.5** showing that the middle 50% of the male score are spread out widely apart\n",
    "- Therefore, the female students perform better in the JAMB than the male students"
   ]
  },
  {
   "cell_type": "markdown",
   "id": "4e112d6f-2007-4bed-998f-ee3501b289c1",
   "metadata": {},
   "source": [
    "### Question 8: Did the student living CLOSE perform better than those living FAR?"
   ]
  },
  {
   "cell_type": "code",
   "execution_count": 98,
   "id": "e0de87fe-8a3c-4ed9-bc82-9932d4d4a7b9",
   "metadata": {},
   "outputs": [
    {
     "data": {
      "image/png": "[encoded data removed]",
      "text/plain": [
       "<Figure size 700x400 with 1 Axes>"
      ]
     },
     "metadata": {},
     "output_type": "display_data"
    }
   ],
   "source": [
    "# plotting a barplot of the 2024 JAMB score of student who live close and Far\n",
    "\n",
    "fig, ax = plt.subplots(figsize=[7,4])\n",
    "\n",
    "sns.boxplot(data=df, x='Close Proximity to center', y='Score 2024', showmeans=True,\n",
    "            meanprops={\"marker\": \"+\",\n",
    "                       \"markeredgecolor\": \"black\",\n",
    "                       \"markersize\": \"10\"})\n",
    "\n",
    "#add title\n",
    "ax.set_title('Performance based on Proximity to center')\n",
    "ax.spines[['top','right']].set_visible(False)\n",
    "\n",
    "plt.show()"
   ]
  },
  {
   "cell_type": "code",
   "execution_count": 99,
   "id": "eeb58f39-4618-4f03-ad56-f5bda21db125",
   "metadata": {},
   "outputs": [
    {
     "data": {
      "text/html": [
       "<div>\n",
       "<style scoped>\n",
       "    .dataframe tbody tr th:only-of-type {\n",
       "        vertical-align: middle;\n",
       "    }\n",
       "\n",
       "    .dataframe tbody tr th {\n",
       "        vertical-align: top;\n",
       "    }\n",
       "\n",
       "    .dataframe thead th {\n",
       "        text-align: right;\n",
       "    }\n",
       "</style>\n",
       "<table border=\"1\" class=\"dataframe\">\n",
       "  <thead>\n",
       "    <tr style=\"text-align: right;\">\n",
       "      <th></th>\n",
       "      <th>median</th>\n",
       "      <th>mean</th>\n",
       "      <th>std</th>\n",
       "    </tr>\n",
       "    <tr>\n",
       "      <th>Close Proximity to center</th>\n",
       "      <th></th>\n",
       "      <th></th>\n",
       "      <th></th>\n",
       "    </tr>\n",
       "  </thead>\n",
       "  <tbody>\n",
       "    <tr>\n",
       "      <th>No</th>\n",
       "      <td>213.0</td>\n",
       "      <td>210.956522</td>\n",
       "      <td>33.188824</td>\n",
       "    </tr>\n",
       "    <tr>\n",
       "      <th>yes</th>\n",
       "      <td>215.0</td>\n",
       "      <td>214.939394</td>\n",
       "      <td>31.189882</td>\n",
       "    </tr>\n",
       "  </tbody>\n",
       "</table>\n",
       "</div>"
      ],
      "text/plain": [
       "                           median        mean        std\n",
       "Close Proximity to center                               \n",
       "No                          213.0  210.956522  33.188824\n",
       "yes                         215.0  214.939394  31.189882"
      ]
     },
     "execution_count": 99,
     "metadata": {},
     "output_type": "execute_result"
    }
   ],
   "source": [
    "#getting the median, mean and standard deviation of the students based on proximity\n",
    "df.groupby(['Close Proximity to center']).agg(median=('Score 2024', 'median'), mean=('Score 2024', 'mean'), std=('Score 2024', 'std'))"
   ]
  },
  {
   "cell_type": "code",
   "execution_count": 100,
   "id": "69b7457a-8003-4a21-8def-ad7daca3f2d8",
   "metadata": {},
   "outputs": [
    {
     "data": {
      "text/plain": [
       "35.0"
      ]
     },
     "execution_count": 100,
     "metadata": {},
     "output_type": "execute_result"
    }
   ],
   "source": [
    "#getting the inter-quartile range for students living close\n",
    "stats.iqr(df[df['Close Proximity to center']=='yes']['Score 2024'])"
   ]
  },
  {
   "cell_type": "code",
   "execution_count": 101,
   "id": "37123c9f-aca5-49ac-b8a0-3d17adea97e6",
   "metadata": {},
   "outputs": [
    {
     "data": {
      "text/plain": [
       "51.0"
      ]
     },
     "execution_count": 101,
     "metadata": {},
     "output_type": "execute_result"
    }
   ],
   "source": [
    "#getting the inter-quartile range for students living close\n",
    "stats.iqr(df[df['Close Proximity to center']=='No']['Score 2024'])"
   ]
  },
  {
   "cell_type": "markdown",
   "id": "5ccbe4b2-b77c-434a-a941-9ec2897c36f4",
   "metadata": {},
   "source": [
    "- Those who live closer to the center had higher mean score and low standard deviation, and the **IQR** of **35** suggest less variability in the middle 50%\n",
    "- This implies that students that live closer perform better in the Exam"
   ]
  },
  {
   "cell_type": "markdown",
   "id": "40b2763b-b9d6-424c-a4c0-8bca785522b8",
   "metadata": {},
   "source": [
    "### Question 9: What is the performance of Student based on their WORK STATUS?"
   ]
  },
  {
   "cell_type": "code",
   "execution_count": 102,
   "id": "2c3d6aea-a7d4-4bb6-abd5-0412ae878875",
   "metadata": {},
   "outputs": [
    {
     "data": {
      "image/png": "[encoded data removed]",
      "text/plain": [
       "<Figure size 600x400 with 1 Axes>"
      ]
     },
     "metadata": {},
     "output_type": "display_data"
    }
   ],
   "source": [
    "# plotting a barplot of the 2024 JAMB score of student who live close and Far\n",
    "\n",
    "fig, ax = plt.subplots(figsize=[6,4])\n",
    "\n",
    "sns.boxplot(data=df, x='Work Status', y='Score 2024', showmeans=True,\n",
    "            meanprops={\"marker\": \"+\",\n",
    "                       \"markeredgecolor\": \"black\",\n",
    "                       \"markersize\": \"10\"})\n",
    "\n",
    "#add title\n",
    "ax.set_title('Performance based on work status')\n",
    "ax.spines[['top','right']].set_visible(False)\n",
    "\n",
    "plt.show()"
   ]
  },
  {
   "cell_type": "code",
   "execution_count": 103,
   "id": "b9a1228d-7e53-450a-a77d-c543bb862a82",
   "metadata": {},
   "outputs": [
    {
     "data": {
      "text/html": [
       "<div>\n",
       "<style scoped>\n",
       "    .dataframe tbody tr th:only-of-type {\n",
       "        vertical-align: middle;\n",
       "    }\n",
       "\n",
       "    .dataframe tbody tr th {\n",
       "        vertical-align: top;\n",
       "    }\n",
       "\n",
       "    .dataframe thead th {\n",
       "        text-align: right;\n",
       "    }\n",
       "</style>\n",
       "<table border=\"1\" class=\"dataframe\">\n",
       "  <thead>\n",
       "    <tr style=\"text-align: right;\">\n",
       "      <th></th>\n",
       "      <th>median</th>\n",
       "      <th>mean</th>\n",
       "      <th>std</th>\n",
       "    </tr>\n",
       "    <tr>\n",
       "      <th>Work Status</th>\n",
       "      <th></th>\n",
       "      <th></th>\n",
       "      <th></th>\n",
       "    </tr>\n",
       "  </thead>\n",
       "  <tbody>\n",
       "    <tr>\n",
       "      <th>No</th>\n",
       "      <td>214.5</td>\n",
       "      <td>212.086957</td>\n",
       "      <td>28.225147</td>\n",
       "    </tr>\n",
       "    <tr>\n",
       "      <th>Yes</th>\n",
       "      <td>207.0</td>\n",
       "      <td>218.900000</td>\n",
       "      <td>46.364378</td>\n",
       "    </tr>\n",
       "  </tbody>\n",
       "</table>\n",
       "</div>"
      ],
      "text/plain": [
       "             median        mean        std\n",
       "Work Status                               \n",
       "No            214.5  212.086957  28.225147\n",
       "Yes           207.0  218.900000  46.364378"
      ]
     },
     "execution_count": 103,
     "metadata": {},
     "output_type": "execute_result"
    }
   ],
   "source": [
    "#getting the median, mean and standard deviation of the students based on work status\n",
    "df.groupby(['Work Status']).agg(median=('Score 2024', 'median'), mean=('Score 2024', 'mean'), std=('Score 2024', 'std'))"
   ]
  },
  {
   "cell_type": "code",
   "execution_count": 104,
   "id": "1e7fc5f4-12c2-49d7-b6b0-6f201d0094fc",
   "metadata": {},
   "outputs": [
    {
     "data": {
      "text/plain": [
       "36.5"
      ]
     },
     "execution_count": 104,
     "metadata": {},
     "output_type": "execute_result"
    }
   ],
   "source": [
    "#getting the inter-quartile range for students based on work status\n",
    "stats.iqr(df[df['Work Status']=='No']['Score 2024'])"
   ]
  },
  {
   "cell_type": "code",
   "execution_count": 105,
   "id": "6c61ee25-775a-4083-a24a-fd9e4abf95cd",
   "metadata": {},
   "outputs": [
    {
     "data": {
      "text/plain": [
       "78.25"
      ]
     },
     "execution_count": 105,
     "metadata": {},
     "output_type": "execute_result"
    }
   ],
   "source": [
    "#getting the inter-quartile range for students based on work status\n",
    "stats.iqr(df[df['Work Status']=='Yes']['Score 2024'])"
   ]
  },
  {
   "cell_type": "markdown",
   "id": "a1f15ad6-c8ee-4151-a852-b9d4282f18cd",
   "metadata": {},
   "source": [
    "- On Average, student that work had a better score but the standard deviation is higher which implies the scores are spread out from the mean\n",
    "- The students that did not work had a mean score that is 6 less but had a lower standard deviation, implying that the scores are less spread out from the mean\n",
    "- The IQR of students that do not work is 36.5 compared to 78.25 for those that work, which implies a higher variability in the middle 50% of the students who work.\n",
    "- This shows that the students who did not work performed better in the JAMB Exam"
   ]
  },
  {
   "cell_type": "markdown",
   "id": "e45faf59-e044-4276-a8a4-699b561a4d39",
   "metadata": {},
   "source": [
    "### Question 10: What is the performance of the students based on duration of tutoring?"
   ]
  },
  {
   "cell_type": "code",
   "execution_count": 106,
   "id": "fcce7ea6-8615-48a6-87bf-b6152a95ff68",
   "metadata": {},
   "outputs": [
    {
     "data": {
      "image/png": "[encoded data removed]",
      "text/plain": [
       "<Figure size 700x400 with 1 Axes>"
      ]
     },
     "metadata": {},
     "output_type": "display_data"
    }
   ],
   "source": [
    "# plotting a barplot of the 2024 JAMB score of student who live close and Far\n",
    "\n",
    "fig, ax = plt.subplots(figsize=[7,4])\n",
    "les_dur=df['Lesson Duration (Months)'].astype('str')\n",
    "sns.boxplot(data=df, x='Lesson Duration (Months)',y='Score 2024', showmeans=True,\n",
    "            meanprops={\"marker\": \"+\",\n",
    "                       \"markeredgecolor\": \"black\",\n",
    "                       \"markersize\": \"10\"})\n",
    "\n",
    "#add title\n",
    "ax.set_title('Performance based on Lesson Duration (Months)')\n",
    "#ax.spines[['top','right']].set_visible(False)\n",
    "\n",
    "plt.show()"
   ]
  },
  {
   "cell_type": "code",
   "execution_count": 107,
   "id": "0461f1c7-9ba5-41e5-9515-9bd79eef8656",
   "metadata": {},
   "outputs": [
    {
     "data": {
      "text/html": [
       "<div>\n",
       "<style scoped>\n",
       "    .dataframe tbody tr th:only-of-type {\n",
       "        vertical-align: middle;\n",
       "    }\n",
       "\n",
       "    .dataframe tbody tr th {\n",
       "        vertical-align: top;\n",
       "    }\n",
       "\n",
       "    .dataframe thead th {\n",
       "        text-align: right;\n",
       "    }\n",
       "</style>\n",
       "<table border=\"1\" class=\"dataframe\">\n",
       "  <thead>\n",
       "    <tr style=\"text-align: right;\">\n",
       "      <th></th>\n",
       "      <th>median</th>\n",
       "      <th>mean</th>\n",
       "      <th>std</th>\n",
       "    </tr>\n",
       "    <tr>\n",
       "      <th>Lesson Duration (Months)</th>\n",
       "      <th></th>\n",
       "      <th></th>\n",
       "      <th></th>\n",
       "    </tr>\n",
       "  </thead>\n",
       "  <tbody>\n",
       "    <tr>\n",
       "      <th>1</th>\n",
       "      <td>201.0</td>\n",
       "      <td>203.636364</td>\n",
       "      <td>27.641537</td>\n",
       "    </tr>\n",
       "    <tr>\n",
       "      <th>2</th>\n",
       "      <td>194.0</td>\n",
       "      <td>201.090909</td>\n",
       "      <td>30.513782</td>\n",
       "    </tr>\n",
       "    <tr>\n",
       "      <th>3</th>\n",
       "      <td>216.5</td>\n",
       "      <td>220.382353</td>\n",
       "      <td>32.218021</td>\n",
       "    </tr>\n",
       "  </tbody>\n",
       "</table>\n",
       "</div>"
      ],
      "text/plain": [
       "                          median        mean        std\n",
       "Lesson Duration (Months)                               \n",
       "1                          201.0  203.636364  27.641537\n",
       "2                          194.0  201.090909  30.513782\n",
       "3                          216.5  220.382353  32.218021"
      ]
     },
     "execution_count": 107,
     "metadata": {},
     "output_type": "execute_result"
    }
   ],
   "source": [
    "#getting the median, mean and standard deviation of the students based on Lesson duratio\n",
    "df.groupby(['Lesson Duration (Months)']).agg(median=('Score 2024', 'median'), mean=('Score 2024', 'mean'), std=('Score 2024', 'std'))"
   ]
  },
  {
   "cell_type": "code",
   "execution_count": 108,
   "id": "069ad2de-aac9-4be2-867b-0875c2987c44",
   "metadata": {},
   "outputs": [
    {
     "data": {
      "text/plain": [
       "36.0"
      ]
     },
     "execution_count": 108,
     "metadata": {},
     "output_type": "execute_result"
    }
   ],
   "source": [
    "#getting the inter-quartile range for students based on Lesson duration\n",
    "stats.iqr(df[df['Lesson Duration (Months)']==1]['Score 2024'])"
   ]
  },
  {
   "cell_type": "code",
   "execution_count": 109,
   "id": "a1016ce2-91b1-45b0-a747-c5bb4fce601e",
   "metadata": {},
   "outputs": [
    {
     "data": {
      "text/plain": [
       "29.0"
      ]
     },
     "execution_count": 109,
     "metadata": {},
     "output_type": "execute_result"
    }
   ],
   "source": [
    "#getting the inter-quartile range for students based on Lesson duration\n",
    "stats.iqr(df[df['Lesson Duration (Months)']==2]['Score 2024'])"
   ]
  },
  {
   "cell_type": "code",
   "execution_count": 110,
   "id": "8aba385a-96b8-48c7-8448-660f850bda28",
   "metadata": {},
   "outputs": [
    {
     "data": {
      "text/plain": [
       "29.75"
      ]
     },
     "execution_count": 110,
     "metadata": {},
     "output_type": "execute_result"
    }
   ],
   "source": [
    "#getting the inter-quartile range for students based on Lesson duration\n",
    "stats.iqr(df[df['Lesson Duration (Months)']==3]['Score 2024'])"
   ]
  },
  {
   "cell_type": "markdown",
   "id": "788482d7-8e67-45ff-b03b-fd7ab7de81db",
   "metadata": {},
   "source": [
    "- The median score and mean score of students who had 3 months of tutoring are high compared to those that 2 months and 1 month of training\n",
    "- The **IQR** of the the students who had 3 months of training is almost equal to those who had two(2) of tutoring\n",
    "- This statistics shows that the student who had three months of training perform better that two months and these two months had better performance than one month"
   ]
  },
  {
   "cell_type": "markdown",
   "id": "c8e06359-8122-445d-b4a8-babcec7c3016",
   "metadata": {},
   "source": [
    "### Question 11: What is the performance of the students based on Hours Read?"
   ]
  },
  {
   "cell_type": "code",
   "execution_count": 111,
   "id": "97871d9a-2940-4abe-a806-31b049774f08",
   "metadata": {},
   "outputs": [],
   "source": [
    "#create hour read group 2hr, 3hr, 4hr, >=5hrs\n",
    "range_hr = []\n",
    "for x in df['Hours Read']:\n",
    "    if x == 2:\n",
    "        range_hr.append('2 hrs')\n",
    "    elif x == 3:\n",
    "        range_hr.append('3 hrs')\n",
    "    elif x == 4:\n",
    "        range_hr.append('4 hrs')\n",
    "    elif x >= 5:\n",
    "        range_hr.append('5 hrs & above')\n",
    "df['Hours Read Range'] = range_hr"
   ]
  },
  {
   "cell_type": "code",
   "execution_count": 112,
   "id": "c7482bb6-c39f-4d24-a919-e8c6ccf2ba07",
   "metadata": {},
   "outputs": [
    {
     "data": {
      "image/png": "[encoded data removed]",
      "text/plain": [
       "<Figure size 700x400 with 1 Axes>"
      ]
     },
     "metadata": {},
     "output_type": "display_data"
    }
   ],
   "source": [
    "# plotting a boxplot of the 2024 JAMB score of student based on hours read\n",
    "\n",
    "fig, ax = plt.subplots(figsize=[7,4])\n",
    "\n",
    "sns.boxplot(data=df, x='Hours Read Range', y='Score 2024', showmeans=True,\n",
    "            meanprops={\"marker\": \"+\",\n",
    "                       \"markeredgecolor\": \"black\",\n",
    "                       \"markersize\": \"10\"})\n",
    "\n",
    "#add title\n",
    "ax.set_title('Performance based on Hours Read')\n",
    "#ax.spines[['top','right']].set_visible(False)\n",
    "\n",
    "plt.show()"
   ]
  },
  {
   "cell_type": "code",
   "execution_count": 113,
   "id": "828bd5e3-eda8-4b73-96f3-210b59936ba0",
   "metadata": {},
   "outputs": [
    {
     "data": {
      "text/html": [
       "<div>\n",
       "<style scoped>\n",
       "    .dataframe tbody tr th:only-of-type {\n",
       "        vertical-align: middle;\n",
       "    }\n",
       "\n",
       "    .dataframe tbody tr th {\n",
       "        vertical-align: top;\n",
       "    }\n",
       "\n",
       "    .dataframe thead th {\n",
       "        text-align: right;\n",
       "    }\n",
       "</style>\n",
       "<table border=\"1\" class=\"dataframe\">\n",
       "  <thead>\n",
       "    <tr style=\"text-align: right;\">\n",
       "      <th></th>\n",
       "      <th>median</th>\n",
       "      <th>mean</th>\n",
       "      <th>std</th>\n",
       "    </tr>\n",
       "    <tr>\n",
       "      <th>Hours Read Range</th>\n",
       "      <th></th>\n",
       "      <th></th>\n",
       "      <th></th>\n",
       "    </tr>\n",
       "  </thead>\n",
       "  <tbody>\n",
       "    <tr>\n",
       "      <th>2 hrs</th>\n",
       "      <td>204.0</td>\n",
       "      <td>206.272727</td>\n",
       "      <td>36.005808</td>\n",
       "    </tr>\n",
       "    <tr>\n",
       "      <th>3 hrs</th>\n",
       "      <td>213.0</td>\n",
       "      <td>212.344828</td>\n",
       "      <td>26.529331</td>\n",
       "    </tr>\n",
       "    <tr>\n",
       "      <th>4 hrs</th>\n",
       "      <td>206.0</td>\n",
       "      <td>211.636364</td>\n",
       "      <td>39.522836</td>\n",
       "    </tr>\n",
       "    <tr>\n",
       "      <th>5 hrs &amp; above</th>\n",
       "      <td>217.0</td>\n",
       "      <td>238.000000</td>\n",
       "      <td>30.149627</td>\n",
       "    </tr>\n",
       "  </tbody>\n",
       "</table>\n",
       "</div>"
      ],
      "text/plain": [
       "                  median        mean        std\n",
       "Hours Read Range                               \n",
       "2 hrs              204.0  206.272727  36.005808\n",
       "3 hrs              213.0  212.344828  26.529331\n",
       "4 hrs              206.0  211.636364  39.522836\n",
       "5 hrs & above      217.0  238.000000  30.149627"
      ]
     },
     "execution_count": 113,
     "metadata": {},
     "output_type": "execute_result"
    }
   ],
   "source": [
    "#getting the median, mean and standard deviation of the students based on Lesson duratio\n",
    "df.groupby(['Hours Read Range']).agg(median=('Score 2024', 'median'), mean=('Score 2024', 'mean'), std=('Score 2024', 'std'))"
   ]
  },
  {
   "cell_type": "code",
   "execution_count": 114,
   "id": "e50016c9-7884-4c45-b511-059daafe380d",
   "metadata": {},
   "outputs": [],
   "source": [
    "#getting the inter-quartile range for students based on hours reads\n",
    "iqr_2hrs = stats.iqr(df[df['Hours Read Range']=='2 hrs']['Score 2024'])\n",
    "iqr_3hrs = stats.iqr(df[df['Hours Read Range']=='3 hrs']['Score 2024'])\n",
    "iqr_4hrs = stats.iqr(df[df['Hours Read Range']=='4 hrs']['Score 2024'])\n",
    "iqr_5hrs = stats.iqr(df[df['Hours Read Range']=='5 hrs & above']['Score 2024'])"
   ]
  },
  {
   "cell_type": "code",
   "execution_count": 115,
   "id": "64cecb5b-ffa2-4619-a97a-514d20add01e",
   "metadata": {},
   "outputs": [
    {
     "name": "stdout",
     "output_type": "stream",
     "text": [
      "iqr 2_hrs = 57.5\n",
      "iqr 3_hrs = 32.0\n",
      "iqr 4_hrs = 47.5\n",
      "iqr 5_hrs & above = 46.0\n"
     ]
    }
   ],
   "source": [
    "print('iqr 2_hrs =', iqr_2hrs)\n",
    "print('iqr 3_hrs =', iqr_3hrs)\n",
    "print('iqr 4_hrs =', iqr_4hrs)\n",
    "print('iqr 5_hrs & above =', iqr_5hrs)"
   ]
  },
  {
   "cell_type": "markdown",
   "id": "6d036dd5-d0b2-41de-9d32-7d4fa2907eeb",
   "metadata": {},
   "source": [
    "- Analysis of the amount of time, the student spent reading each day revealed that students who invested three hours reading every day in preparation for the exam did better, with a mean score of 212.34, a low standard deviation of 26.52.\n",
    "- An IQR of 32 indicated a reduced variability in the middle 50% of the data."
   ]
  },
  {
   "cell_type": "markdown",
   "id": "ae35f5ff-1af2-414c-9972-e69530bd7c4e",
   "metadata": {},
   "source": [
    "## Summary"
   ]
  },
  {
   "cell_type": "markdown",
   "id": "6036aded-5f8b-4b16-8dcb-fc8e9dd69e45",
   "metadata": {},
   "source": [
    "### Demographic Insight\n",
    "The analysis of the performance of students of Ultra-Brain Science Academy in the 2024 exam revealed the following insights\n",
    "- The Academy had 56 students in total\n",
    "- **71%** are females whereas **29%** are males\n",
    "- The Age distribution of the student is skewed to the left with large number of the student age lies between 17 - 20 years.18 years being the most common\n",
    "- A total of **32(57%) students** had previously sat the exam in the year 2023.\n",
    "- **52%** of the students applied for Nursing out of which **86%** of them are female\n",
    "- **79%** of them choose Nnamdi Azikiwe University (Unizik) as their first choice\n",
    "- **18%** of the students worked and attended classes\n",
    "- **41%** resided far away from the academy.\n",
    "- About **68%** of the students were **very satisfied** with the teaching that was delivered while **30%** were **satisfied**\n",
    "- Majority of the student read between 2 to 4 hours each day with about **52%** of students reading **3** hours per day\n",
    "- **80%** of the students finished on time\n",
    "- **14%** of the students indicated that their computer went of during the exam"
   ]
  },
  {
   "cell_type": "markdown",
   "id": "7b504982-6bb2-43d5-aa5b-3ef5ed7b0dd8",
   "metadata": {},
   "source": [
    "### Analysis Insight\n",
    "- The 2024 students' JAMB scores had the same mean and median of 213 with a standard deviation of 31.79.\n",
    "- The highest and lowest scores are 290 and 146, respectively.\n",
    "- Analysis showed that 14% of the students scored above 250, 55% scored between 200 and 249, and 30% scored less than 200.\n",
    "\n",
    "- Comparison analysis of 2023 scores and 2024 scores showed that more over 80% of students scored above 200 in 2024 JAMB, whereas in the previous year 2023, less than 50% passed the 200 mark.\n",
    "\n",
    "- A paired sample t-test analysis on students' performance gave a p-value (0.00093) less than the 0.05 significance level, thus, we reject the null hypothesis that the mean in 2023 and 2024 are the same. Therefore, at the 5% significance level, the data provide strong evidence to suggest that the students' JAMB score increased after months of tutoring and that the students performed better in 2024.\n",
    "\n",
    "- The performance of male students compared to that of female students gave the mean score (216.3 vs. 212.1) which showed that male had a higher mean score, but the standard deviation (39.85 vs. 28.44) showed male scores were more spread out from the mean. The interquartile range value (64.5 vs. 35.75) confirms the variability in male scores. This demonstrated that female students did better than male students on the exam.\n",
    "\n",
    "- An examination of the impact of tutoring time on performance revealed that students who received three months of tutoring had a mean score of 220.38 and a standard deviation of 32.21, which is higher than those who had two months (201.09) or one month (203.38). This suggests that the longer the tutoring period, the better the students’ exam results.\n",
    "\n",
    "- Analysis of the amount of time, the student spent reading each day revealed that students who invested three hours reading every day in preparation for the exam did better, with a mean score of 212.34, a low standard deviation of 26.52, and an IQR of 32 that indicated reduced variability in the middle 50% of the data\n"
   ]
  },
  {
   "cell_type": "markdown",
   "id": "fd6e788d-9545-4a8a-a9db-22ac56735e61",
   "metadata": {},
   "source": [
    "### Limitation and Recommendation"
   ]
  },
  {
   "cell_type": "markdown",
   "id": "d5eff73d-4c84-4333-8bea-8d45715a731d",
   "metadata": {},
   "source": [
    "Analysis of features that may have impacted the performance of the students is required but the sample size is small and machine learning algorithm requires a large sample size to learn and predict the students performance. \n",
    "\n",
    "Therefore, further analysis is recommended with large dataset."
   ]
  },
  {
   "cell_type": "code",
   "execution_count": null,
   "id": "35aef98f-2bc3-491c-a105-7da972c1ebf8",
   "metadata": {},
   "outputs": [],
   "source": []
  }
 ],
 "metadata": {
  "kernelspec": {
   "display_name": "Python 3 (ipykernel)",
   "language": "python",
   "name": "python3"
  },
  "language_info": {
   "codemirror_mode": {
    "name": "ipython",
    "version": 3
   },
   "file_extension": ".py",
   "mimetype": "text/x-python",
   "name": "python",
   "nbconvert_exporter": "python",
   "pygments_lexer": "ipython3",
   "version": "3.11.7"
  }
 },
 "nbformat": 4,
 "nbformat_minor": 5
}
