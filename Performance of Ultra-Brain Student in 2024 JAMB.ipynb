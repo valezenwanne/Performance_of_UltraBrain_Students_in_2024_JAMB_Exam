{
 "cells": [
  {
   "cell_type": "markdown",
   "id": "c1e6ea46-d96c-4300-a1da-09841eb77e2b",
   "metadata": {},
   "source": [
    "# Performance of Ultra-Brain Science Student in JAMB 2024"
   ]
  },
  {
   "cell_type": "markdown",
   "id": "5e3bd2ae-fc16-4668-80e4-cf4d3d3be354",
   "metadata": {},
   "source": [
    "## Objective"
   ]
  },
  {
   "cell_type": "markdown",
   "id": "53066043-e6d7-4cac-924d-5f6ac817c281",
   "metadata": {},
   "source": [
    "- To analyze the performance of Ultra-Brain Students in the JAMB 2024 exam\n",
    "- To evaluate factors that contributed to their performance\n",
    "- To create a dashboard that summarizes the performance of student"
   ]
  },
  {
   "cell_type": "markdown",
   "id": "2f6c956b-0621-44d7-a321-3f86b90e33e8",
   "metadata": {},
   "source": [
    "### Load the Libraries"
   ]
  },
  {
   "cell_type": "code",
   "execution_count": 1,
   "id": "cecae9e0-9499-4b03-9a6b-16b7079dc9ed",
   "metadata": {},
   "outputs": [],
   "source": [
    "#import the libraries\n",
    "import pandas as pd\n",
    "import numpy as np\n",
    "import seaborn as sns\n",
    "import matplotlib.pyplot as plt\n",
    "%matplotlib inline\n",
    "pd.set_option('display.max_columns', None)"
   ]
  },
  {
   "cell_type": "markdown",
   "id": "3aa18fd2-25e4-4ead-b388-be375f436208",
   "metadata": {},
   "source": [
    "### Import the data"
   ]
  },
  {
   "cell_type": "code",
   "execution_count": 2,
   "id": "b238aa92-8ae7-446a-9d1e-8026ff91f998",
   "metadata": {},
   "outputs": [],
   "source": [
    "#load the data\n",
    "data = pd.read_excel('Jamb Score for UltraBrain Students.xlsx')"
   ]
  },
  {
   "cell_type": "code",
   "execution_count": 3,
   "id": "09084fb1-2c0c-4c3c-994d-4ae8b2f09089",
   "metadata": {},
   "outputs": [
    {
     "data": {
      "text/html": [
       "<div>\n",
       "<style scoped>\n",
       "    .dataframe tbody tr th:only-of-type {\n",
       "        vertical-align: middle;\n",
       "    }\n",
       "\n",
       "    .dataframe tbody tr th {\n",
       "        vertical-align: top;\n",
       "    }\n",
       "\n",
       "    .dataframe thead th {\n",
       "        text-align: right;\n",
       "    }\n",
       "</style>\n",
       "<table border=\"1\" class=\"dataframe\">\n",
       "  <thead>\n",
       "    <tr style=\"text-align: right;\">\n",
       "      <th></th>\n",
       "      <th>S/N</th>\n",
       "      <th>Student Name</th>\n",
       "      <th>Martial Status</th>\n",
       "      <th>Gender</th>\n",
       "      <th>Year 2023</th>\n",
       "      <th>Year 2024</th>\n",
       "      <th>English</th>\n",
       "      <th>Chemistry</th>\n",
       "      <th>Physics</th>\n",
       "      <th>Biology</th>\n",
       "      <th>Total</th>\n",
       "      <th>Date of Birth</th>\n",
       "      <th>Course registered</th>\n",
       "      <th>School registered</th>\n",
       "      <th>Date Registered</th>\n",
       "      <th>Date Stopped</th>\n",
       "      <th>Lesson Fee</th>\n",
       "      <th>Work Status</th>\n",
       "      <th>Hours  read</th>\n",
       "      <th>Read Past Questions</th>\n",
       "      <th>Teaching Satisfaction</th>\n",
       "      <th>Finished on time</th>\n",
       "      <th>System off</th>\n",
       "      <th>Questions different</th>\n",
       "      <th>Pay yourself</th>\n",
       "      <th>Close Proximity to center</th>\n",
       "    </tr>\n",
       "  </thead>\n",
       "  <tbody>\n",
       "    <tr>\n",
       "      <th>0</th>\n",
       "      <td>1</td>\n",
       "      <td>Chinelo Nneto</td>\n",
       "      <td>Single</td>\n",
       "      <td>F</td>\n",
       "      <td>171.0</td>\n",
       "      <td>217</td>\n",
       "      <td>49</td>\n",
       "      <td>67</td>\n",
       "      <td>53</td>\n",
       "      <td>48</td>\n",
       "      <td>217</td>\n",
       "      <td>2006-01-14</td>\n",
       "      <td>Pharmacy</td>\n",
       "      <td>Unizik</td>\n",
       "      <td>2024-01-09</td>\n",
       "      <td>2024-04-19</td>\n",
       "      <td>13000</td>\n",
       "      <td>No</td>\n",
       "      <td>5</td>\n",
       "      <td>Yes</td>\n",
       "      <td>5</td>\n",
       "      <td>No</td>\n",
       "      <td>No</td>\n",
       "      <td>No</td>\n",
       "      <td>no</td>\n",
       "      <td>yes</td>\n",
       "    </tr>\n",
       "    <tr>\n",
       "      <th>1</th>\n",
       "      <td>2</td>\n",
       "      <td>Mmesoma Ofodile</td>\n",
       "      <td>Single</td>\n",
       "      <td>F</td>\n",
       "      <td>192.0</td>\n",
       "      <td>230</td>\n",
       "      <td>54</td>\n",
       "      <td>59</td>\n",
       "      <td>60</td>\n",
       "      <td>57</td>\n",
       "      <td>230</td>\n",
       "      <td>2007-08-12</td>\n",
       "      <td>Nursing</td>\n",
       "      <td>UNN</td>\n",
       "      <td>2024-01-10</td>\n",
       "      <td>2024-04-19</td>\n",
       "      <td>15000</td>\n",
       "      <td>No</td>\n",
       "      <td>4</td>\n",
       "      <td>Yes</td>\n",
       "      <td>5</td>\n",
       "      <td>Yes</td>\n",
       "      <td>No</td>\n",
       "      <td>No</td>\n",
       "      <td>no</td>\n",
       "      <td>yes</td>\n",
       "    </tr>\n",
       "  </tbody>\n",
       "</table>\n",
       "</div>"
      ],
      "text/plain": [
       "   S/N     Student Name Martial Status Gender  Year 2023  Year 2024  English  \\\n",
       "0    1    Chinelo Nneto         Single      F      171.0        217       49   \n",
       "1    2  Mmesoma Ofodile         Single      F      192.0        230       54   \n",
       "\n",
       "   Chemistry  Physics  Biology  Total Date of Birth Course registered  \\\n",
       "0         67       53       48    217    2006-01-14          Pharmacy   \n",
       "1         59       60       57    230    2007-08-12           Nursing   \n",
       "\n",
       "  School registered Date Registered Date Stopped  Lesson Fee Work Status  \\\n",
       "0            Unizik      2024-01-09   2024-04-19       13000          No   \n",
       "1               UNN      2024-01-10   2024-04-19       15000          No   \n",
       "\n",
       "   Hours  read Read Past Questions  Teaching Satisfaction Finished on time  \\\n",
       "0            5                 Yes                      5               No   \n",
       "1            4                 Yes                      5              Yes   \n",
       "\n",
       "  System off Questions different Pay yourself Close Proximity to center  \n",
       "0         No                  No           no                       yes  \n",
       "1         No                  No           no                       yes  "
      ]
     },
     "execution_count": 3,
     "metadata": {},
     "output_type": "execute_result"
    }
   ],
   "source": [
    "#display few lines of the data\n",
    "data.head(2)"
   ]
  },
  {
   "cell_type": "code",
   "execution_count": 4,
   "id": "eac1c655-7a49-4140-a437-c60e28cfed0c",
   "metadata": {},
   "outputs": [
    {
     "data": {
      "text/plain": [
       "(52, 26)"
      ]
     },
     "execution_count": 4,
     "metadata": {},
     "output_type": "execute_result"
    }
   ],
   "source": [
    "#checking the shape \n",
    "data.shape"
   ]
  },
  {
   "cell_type": "markdown",
   "id": "a8d495e0-b607-4c3c-8137-1b7c97d8f168",
   "metadata": {},
   "source": [
    "- Data contain 52 student records and 26 column"
   ]
  },
  {
   "cell_type": "code",
   "execution_count": 5,
   "id": "d11cbc33-ecaa-477a-8406-36958b906344",
   "metadata": {},
   "outputs": [
    {
     "data": {
      "text/plain": [
       "S/N                           0\n",
       "Student Name                  0\n",
       "Martial Status                0\n",
       "Gender                        0\n",
       "Year 2023                    22\n",
       "Year 2024                     0\n",
       "English                       0\n",
       "Chemistry                     0\n",
       "Physics                       0\n",
       "Biology                       0\n",
       "Total                         0\n",
       "Date of Birth                 0\n",
       "Course registered             0\n",
       "School registered             0\n",
       "Date Registered               0\n",
       "Date Stopped                  0\n",
       "Lesson Fee                    0\n",
       "Work Status                   0\n",
       "Hours  read                   0\n",
       "Read Past Questions           0\n",
       "Teaching Satisfaction         0\n",
       "Finished on time              0\n",
       "System off                    0\n",
       "Questions different           0\n",
       "Pay yourself                  0\n",
       "Close Proximity to center     0\n",
       "dtype: int64"
      ]
     },
     "execution_count": 5,
     "metadata": {},
     "output_type": "execute_result"
    }
   ],
   "source": [
    "#checking for missing values\n",
    "data.isna().sum()"
   ]
  },
  {
   "cell_type": "markdown",
   "id": "ac65a964-b4a4-44d6-8421-43938910ba0f",
   "metadata": {},
   "source": [
    "- There are 22 missing values in 2023 score"
   ]
  },
  {
   "cell_type": "code",
   "execution_count": 6,
   "id": "bce1fe24-fc28-41eb-bf69-79e621ca6850",
   "metadata": {},
   "outputs": [
    {
     "data": {
      "text/plain": [
       "0"
      ]
     },
     "execution_count": 6,
     "metadata": {},
     "output_type": "execute_result"
    }
   ],
   "source": [
    "#checking for duplicates\n",
    "data.duplicated().sum()"
   ]
  },
  {
   "cell_type": "markdown",
   "id": "a6e890f4-a0b4-4829-9a8c-2cd78471b345",
   "metadata": {},
   "source": [
    "- There are no duplicates"
   ]
  },
  {
   "cell_type": "code",
   "execution_count": 7,
   "id": "3d79af6b-f84f-4177-8819-64e88a8d2bee",
   "metadata": {},
   "outputs": [
    {
     "data": {
      "text/plain": [
       "S/N                                   int64\n",
       "Student Name                         object\n",
       "Martial Status                       object\n",
       "Gender                               object\n",
       "Year 2023                           float64\n",
       "Year 2024                             int64\n",
       "English                               int64\n",
       "Chemistry                             int64\n",
       "Physics                               int64\n",
       "Biology                               int64\n",
       "Total                                 int64\n",
       "Date of Birth                datetime64[ns]\n",
       "Course registered                    object\n",
       "School registered                    object\n",
       "Date Registered              datetime64[ns]\n",
       "Date Stopped                 datetime64[ns]\n",
       "Lesson Fee                            int64\n",
       "Work Status                          object\n",
       "Hours  read                           int64\n",
       "Read Past Questions                  object\n",
       "Teaching Satisfaction                 int64\n",
       "Finished on time                     object\n",
       "System off                           object\n",
       "Questions different                  object\n",
       "Pay yourself                         object\n",
       "Close Proximity to center            object\n",
       "dtype: object"
      ]
     },
     "execution_count": 7,
     "metadata": {},
     "output_type": "execute_result"
    }
   ],
   "source": [
    "#checking for datatypes\n",
    "data.dtypes"
   ]
  },
  {
   "cell_type": "markdown",
   "id": "4f41bd6e-63ff-454f-8d13-a25513ed4e56",
   "metadata": {},
   "source": [
    "## Data Wrangling"
   ]
  },
  {
   "cell_type": "code",
   "execution_count": 8,
   "id": "403e227f-e92c-4400-b294-186f12fdde19",
   "metadata": {},
   "outputs": [],
   "source": [
    "#create a copy of the dataframe\n",
    "df = data.copy()"
   ]
  },
  {
   "cell_type": "code",
   "execution_count": 9,
   "id": "16841b04-9a37-4a24-a40b-e15e3c41573f",
   "metadata": {},
   "outputs": [
    {
     "data": {
      "text/plain": [
       "Index(['S/N', 'Student Name', 'Martial Status', 'Gender', 'Year 2023',\n",
       "       'Year 2024', 'English', 'Chemistry', 'Physics', 'Biology', 'Total',\n",
       "       'Date of Birth', 'Course registered', 'School registered',\n",
       "       'Date Registered', 'Date Stopped', 'Lesson Fee', 'Work Status',\n",
       "       'Hours  read', 'Read Past Questions', 'Teaching Satisfaction',\n",
       "       'Finished on time', 'System off', 'Questions different', 'Pay yourself',\n",
       "       'Close Proximity to center'],\n",
       "      dtype='object')"
      ]
     },
     "execution_count": 9,
     "metadata": {},
     "output_type": "execute_result"
    }
   ],
   "source": [
    "#checking column names\n",
    "df.columns"
   ]
  },
  {
   "cell_type": "code",
   "execution_count": 10,
   "id": "4b9f929b-b94a-42df-a056-506946b99ad2",
   "metadata": {},
   "outputs": [],
   "source": [
    "#changing Column names\n",
    "df.rename(columns={\n",
    "    'Martial Status': \"Marital Status\",\n",
    "    \"Course registered\" : \"Course Registered\",\n",
    "    \"School registered\" : \"University Registered\",\n",
    "    \"Hours  read\" : \"Hours Read\",\n",
    "    'System off': 'Computer Off',\n",
    "    'Questions different': 'Questions Different',\n",
    "    'Pay yourself': 'Pay Yourself',\n",
    "    'Year 2023' : 'Score 2023',\n",
    "    'Year 2024' : 'Score 2024'\n",
    "}, inplace=True\n",
    "         )"
   ]
  },
  {
   "cell_type": "code",
   "execution_count": 11,
   "id": "1b678a01-96c0-4c47-96cc-8d21145ff7b2",
   "metadata": {},
   "outputs": [
    {
     "data": {
      "text/plain": [
       "Index(['S/N', 'Student Name', 'Marital Status', 'Gender', 'Year 2023',\n",
       "       'Year 2024', 'English', 'Chemistry', 'Physics', 'Biology', 'Total',\n",
       "       'Date of Birth', 'Course Registered', 'University Registered',\n",
       "       'Date Registered', 'Date Stopped', 'Lesson Fee', 'Work Status',\n",
       "       'Hours Read', 'Read Past Questions', 'Teaching Satisfaction',\n",
       "       'Finished on time', 'Computer Off', 'Questions Different',\n",
       "       'Pay Yourself', 'Close Proximity to center'],\n",
       "      dtype='object')"
      ]
     },
     "execution_count": 11,
     "metadata": {},
     "output_type": "execute_result"
    }
   ],
   "source": [
    "#confirming the column name has been changed\n",
    "df.columns"
   ]
  },
  {
   "cell_type": "code",
   "execution_count": 12,
   "id": "1d782ba3-66ea-42fb-bfe2-37c810c0a4ca",
   "metadata": {},
   "outputs": [
    {
     "data": {
      "text/plain": [
       "S/N                                   int64\n",
       "Student Name                         object\n",
       "Marital Status                       object\n",
       "Gender                               object\n",
       "Year 2023                           float64\n",
       "Year 2024                             int64\n",
       "English                               int64\n",
       "Chemistry                             int64\n",
       "Physics                               int64\n",
       "Biology                               int64\n",
       "Total                                 int64\n",
       "Date of Birth                datetime64[ns]\n",
       "Course Registered                    object\n",
       "University Registered                object\n",
       "Date Registered              datetime64[ns]\n",
       "Date Stopped                 datetime64[ns]\n",
       "Lesson Fee                            int64\n",
       "Work Status                          object\n",
       "Hours Read                            int64\n",
       "Read Past Questions                  object\n",
       "Teaching Satisfaction                 int64\n",
       "Finished on time                     object\n",
       "Computer Off                         object\n",
       "Questions Different                  object\n",
       "Pay Yourself                         object\n",
       "Close Proximity to center            object\n",
       "dtype: object"
      ]
     },
     "execution_count": 12,
     "metadata": {},
     "output_type": "execute_result"
    }
   ],
   "source": [
    "#checking datatypes\n",
    "df.dtypes"
   ]
  },
  {
   "cell_type": "code",
   "execution_count": 13,
   "id": "26630d72-7e56-4a5c-a423-b808d952bce1",
   "metadata": {},
   "outputs": [],
   "source": [
    "#deleting unnecessary column 'S/N'\n",
    "df.drop('S/N', axis=1, inplace=True)"
   ]
  },
  {
   "cell_type": "markdown",
   "id": "22b448c5-7bf6-4c70-bfda-6388d729486a",
   "metadata": {},
   "source": [
    "### Feature Engineering"
   ]
  },
  {
   "cell_type": "code",
   "execution_count": 18,
   "id": "f1ae5e06-22a7-4a3f-a5a8-11d3bd28f839",
   "metadata": {},
   "outputs": [],
   "source": [
    "#creating the student Age column\n",
    "df['Student Age'] = df['Date Registered'].dt.year - df['Date of Birth'].dt.year"
   ]
  },
  {
   "cell_type": "code",
   "execution_count": 19,
   "id": "e9748897-5218-4bf1-9267-837d446f76ce",
   "metadata": {},
   "outputs": [
    {
     "data": {
      "text/html": [
       "<div>\n",
       "<style scoped>\n",
       "    .dataframe tbody tr th:only-of-type {\n",
       "        vertical-align: middle;\n",
       "    }\n",
       "\n",
       "    .dataframe tbody tr th {\n",
       "        vertical-align: top;\n",
       "    }\n",
       "\n",
       "    .dataframe thead th {\n",
       "        text-align: right;\n",
       "    }\n",
       "</style>\n",
       "<table border=\"1\" class=\"dataframe\">\n",
       "  <thead>\n",
       "    <tr style=\"text-align: right;\">\n",
       "      <th></th>\n",
       "      <th>Student Name</th>\n",
       "      <th>Marital Status</th>\n",
       "      <th>Gender</th>\n",
       "      <th>Year 2023</th>\n",
       "      <th>Year 2024</th>\n",
       "      <th>English</th>\n",
       "      <th>Chemistry</th>\n",
       "      <th>Physics</th>\n",
       "      <th>Biology</th>\n",
       "      <th>Total</th>\n",
       "      <th>Date of Birth</th>\n",
       "      <th>Course Registered</th>\n",
       "      <th>University Registered</th>\n",
       "      <th>Date Registered</th>\n",
       "      <th>Date Stopped</th>\n",
       "      <th>Lesson Fee</th>\n",
       "      <th>Work Status</th>\n",
       "      <th>Hours Read</th>\n",
       "      <th>Read Past Questions</th>\n",
       "      <th>Teaching Satisfaction</th>\n",
       "      <th>Finished on time</th>\n",
       "      <th>Computer Off</th>\n",
       "      <th>Questions Different</th>\n",
       "      <th>Pay Yourself</th>\n",
       "      <th>Close Proximity to center</th>\n",
       "      <th>Student Age</th>\n",
       "    </tr>\n",
       "  </thead>\n",
       "  <tbody>\n",
       "    <tr>\n",
       "      <th>0</th>\n",
       "      <td>Chinelo Nneto</td>\n",
       "      <td>Single</td>\n",
       "      <td>F</td>\n",
       "      <td>171.0</td>\n",
       "      <td>217</td>\n",
       "      <td>49</td>\n",
       "      <td>67</td>\n",
       "      <td>53</td>\n",
       "      <td>48</td>\n",
       "      <td>217</td>\n",
       "      <td>2006-01-14</td>\n",
       "      <td>Pharmacy</td>\n",
       "      <td>Unizik</td>\n",
       "      <td>2024-01-09</td>\n",
       "      <td>2024-04-19</td>\n",
       "      <td>13000</td>\n",
       "      <td>No</td>\n",
       "      <td>5</td>\n",
       "      <td>Yes</td>\n",
       "      <td>5</td>\n",
       "      <td>No</td>\n",
       "      <td>No</td>\n",
       "      <td>No</td>\n",
       "      <td>no</td>\n",
       "      <td>yes</td>\n",
       "      <td>18</td>\n",
       "    </tr>\n",
       "    <tr>\n",
       "      <th>1</th>\n",
       "      <td>Mmesoma Ofodile</td>\n",
       "      <td>Single</td>\n",
       "      <td>F</td>\n",
       "      <td>192.0</td>\n",
       "      <td>230</td>\n",
       "      <td>54</td>\n",
       "      <td>59</td>\n",
       "      <td>60</td>\n",
       "      <td>57</td>\n",
       "      <td>230</td>\n",
       "      <td>2007-08-12</td>\n",
       "      <td>Nursing</td>\n",
       "      <td>UNN</td>\n",
       "      <td>2024-01-10</td>\n",
       "      <td>2024-04-19</td>\n",
       "      <td>15000</td>\n",
       "      <td>No</td>\n",
       "      <td>4</td>\n",
       "      <td>Yes</td>\n",
       "      <td>5</td>\n",
       "      <td>Yes</td>\n",
       "      <td>No</td>\n",
       "      <td>No</td>\n",
       "      <td>no</td>\n",
       "      <td>yes</td>\n",
       "      <td>17</td>\n",
       "    </tr>\n",
       "    <tr>\n",
       "      <th>2</th>\n",
       "      <td>Delight Igboanugo</td>\n",
       "      <td>Single</td>\n",
       "      <td>F</td>\n",
       "      <td>NaN</td>\n",
       "      <td>231</td>\n",
       "      <td>64</td>\n",
       "      <td>61</td>\n",
       "      <td>51</td>\n",
       "      <td>55</td>\n",
       "      <td>231</td>\n",
       "      <td>2005-07-03</td>\n",
       "      <td>Pharmacy</td>\n",
       "      <td>Unizik</td>\n",
       "      <td>2024-01-11</td>\n",
       "      <td>2024-04-19</td>\n",
       "      <td>10000</td>\n",
       "      <td>No</td>\n",
       "      <td>4</td>\n",
       "      <td>Yes</td>\n",
       "      <td>4</td>\n",
       "      <td>Yes</td>\n",
       "      <td>No</td>\n",
       "      <td>No</td>\n",
       "      <td>Yes</td>\n",
       "      <td>No</td>\n",
       "      <td>19</td>\n",
       "    </tr>\n",
       "    <tr>\n",
       "      <th>3</th>\n",
       "      <td>Divine Ifedimma</td>\n",
       "      <td>Single</td>\n",
       "      <td>M</td>\n",
       "      <td>207.0</td>\n",
       "      <td>206</td>\n",
       "      <td>51</td>\n",
       "      <td>41</td>\n",
       "      <td>51</td>\n",
       "      <td>61</td>\n",
       "      <td>204</td>\n",
       "      <td>2004-12-27</td>\n",
       "      <td>Nursing</td>\n",
       "      <td>Unizik</td>\n",
       "      <td>2024-01-08</td>\n",
       "      <td>2024-04-19</td>\n",
       "      <td>13000</td>\n",
       "      <td>No</td>\n",
       "      <td>3</td>\n",
       "      <td>Yes</td>\n",
       "      <td>4</td>\n",
       "      <td>Yes</td>\n",
       "      <td>No</td>\n",
       "      <td>No</td>\n",
       "      <td>no</td>\n",
       "      <td>yes</td>\n",
       "      <td>20</td>\n",
       "    </tr>\n",
       "    <tr>\n",
       "      <th>4</th>\n",
       "      <td>Oluomachi Nwabuikwu</td>\n",
       "      <td>Single</td>\n",
       "      <td>F</td>\n",
       "      <td>175.0</td>\n",
       "      <td>179</td>\n",
       "      <td>49</td>\n",
       "      <td>47</td>\n",
       "      <td>44</td>\n",
       "      <td>39</td>\n",
       "      <td>179</td>\n",
       "      <td>2005-12-03</td>\n",
       "      <td>Nursing</td>\n",
       "      <td>Unizik</td>\n",
       "      <td>2024-01-10</td>\n",
       "      <td>2024-04-19</td>\n",
       "      <td>10000</td>\n",
       "      <td>No</td>\n",
       "      <td>4</td>\n",
       "      <td>Yes</td>\n",
       "      <td>5</td>\n",
       "      <td>Yes</td>\n",
       "      <td>No</td>\n",
       "      <td>No</td>\n",
       "      <td>no</td>\n",
       "      <td>yes</td>\n",
       "      <td>19</td>\n",
       "    </tr>\n",
       "  </tbody>\n",
       "</table>\n",
       "</div>"
      ],
      "text/plain": [
       "          Student Name Marital Status Gender  Year 2023  Year 2024  English  \\\n",
       "0        Chinelo Nneto         Single      F      171.0        217       49   \n",
       "1      Mmesoma Ofodile         Single      F      192.0        230       54   \n",
       "2    Delight Igboanugo         Single      F        NaN        231       64   \n",
       "3      Divine Ifedimma         Single      M      207.0        206       51   \n",
       "4  Oluomachi Nwabuikwu         Single      F      175.0        179       49   \n",
       "\n",
       "   Chemistry  Physics  Biology  Total Date of Birth Course Registered  \\\n",
       "0         67       53       48    217    2006-01-14          Pharmacy   \n",
       "1         59       60       57    230    2007-08-12           Nursing   \n",
       "2         61       51       55    231    2005-07-03          Pharmacy   \n",
       "3         41       51       61    204    2004-12-27           Nursing   \n",
       "4         47       44       39    179    2005-12-03           Nursing   \n",
       "\n",
       "  University Registered Date Registered Date Stopped  Lesson Fee Work Status  \\\n",
       "0                Unizik      2024-01-09   2024-04-19       13000          No   \n",
       "1                   UNN      2024-01-10   2024-04-19       15000          No   \n",
       "2                Unizik      2024-01-11   2024-04-19       10000          No   \n",
       "3                Unizik      2024-01-08   2024-04-19       13000          No   \n",
       "4                Unizik      2024-01-10   2024-04-19       10000          No   \n",
       "\n",
       "   Hours Read Read Past Questions  Teaching Satisfaction Finished on time  \\\n",
       "0           5                 Yes                      5               No   \n",
       "1           4                 Yes                      5              Yes   \n",
       "2           4                 Yes                      4              Yes   \n",
       "3           3                 Yes                      4              Yes   \n",
       "4           4                 Yes                      5              Yes   \n",
       "\n",
       "  Computer Off Questions Different Pay Yourself Close Proximity to center  \\\n",
       "0           No                  No           no                       yes   \n",
       "1           No                  No           no                       yes   \n",
       "2           No                  No          Yes                        No   \n",
       "3           No                  No           no                       yes   \n",
       "4           No                  No           no                       yes   \n",
       "\n",
       "   Student Age  \n",
       "0           18  \n",
       "1           17  \n",
       "2           19  \n",
       "3           20  \n",
       "4           19  "
      ]
     },
     "execution_count": 19,
     "metadata": {},
     "output_type": "execute_result"
    }
   ],
   "source": [
    "#confirming the Student Age is created\n",
    "df.head()"
   ]
  },
  {
   "cell_type": "code",
   "execution_count": 23,
   "id": "9fca6973-3675-4adc-8c90-bb570be37651",
   "metadata": {},
   "outputs": [],
   "source": [
    "#creating the month registered\n",
    "df['Month Registered'] = df['Date Registered'].dt.month\n",
    "df['Month Name'] = df['Date Registered'].dt.month_name()\n",
    "df['Month Stopped'] = df['Date Stopped'].dt.month"
   ]
  },
  {
   "cell_type": "code",
   "execution_count": 24,
   "id": "e02d7f87-44b2-4998-b969-3668b472d40c",
   "metadata": {},
   "outputs": [
    {
     "data": {
      "text/html": [
       "<div>\n",
       "<style scoped>\n",
       "    .dataframe tbody tr th:only-of-type {\n",
       "        vertical-align: middle;\n",
       "    }\n",
       "\n",
       "    .dataframe tbody tr th {\n",
       "        vertical-align: top;\n",
       "    }\n",
       "\n",
       "    .dataframe thead th {\n",
       "        text-align: right;\n",
       "    }\n",
       "</style>\n",
       "<table border=\"1\" class=\"dataframe\">\n",
       "  <thead>\n",
       "    <tr style=\"text-align: right;\">\n",
       "      <th></th>\n",
       "      <th>Student Name</th>\n",
       "      <th>Marital Status</th>\n",
       "      <th>Gender</th>\n",
       "      <th>Year 2023</th>\n",
       "      <th>Year 2024</th>\n",
       "      <th>English</th>\n",
       "      <th>Chemistry</th>\n",
       "      <th>Physics</th>\n",
       "      <th>Biology</th>\n",
       "      <th>Total</th>\n",
       "      <th>Date of Birth</th>\n",
       "      <th>Course Registered</th>\n",
       "      <th>University Registered</th>\n",
       "      <th>Date Registered</th>\n",
       "      <th>Date Stopped</th>\n",
       "      <th>Lesson Fee</th>\n",
       "      <th>Work Status</th>\n",
       "      <th>Hours Read</th>\n",
       "      <th>Read Past Questions</th>\n",
       "      <th>Teaching Satisfaction</th>\n",
       "      <th>Finished on time</th>\n",
       "      <th>Computer Off</th>\n",
       "      <th>Questions Different</th>\n",
       "      <th>Pay Yourself</th>\n",
       "      <th>Close Proximity to center</th>\n",
       "      <th>Student Age</th>\n",
       "      <th>Month Registered</th>\n",
       "      <th>Month Name</th>\n",
       "      <th>Month Stopped</th>\n",
       "    </tr>\n",
       "  </thead>\n",
       "  <tbody>\n",
       "    <tr>\n",
       "      <th>0</th>\n",
       "      <td>Chinelo Nneto</td>\n",
       "      <td>Single</td>\n",
       "      <td>F</td>\n",
       "      <td>171.0</td>\n",
       "      <td>217</td>\n",
       "      <td>49</td>\n",
       "      <td>67</td>\n",
       "      <td>53</td>\n",
       "      <td>48</td>\n",
       "      <td>217</td>\n",
       "      <td>2006-01-14</td>\n",
       "      <td>Pharmacy</td>\n",
       "      <td>Unizik</td>\n",
       "      <td>2024-01-09</td>\n",
       "      <td>2024-04-19</td>\n",
       "      <td>13000</td>\n",
       "      <td>No</td>\n",
       "      <td>5</td>\n",
       "      <td>Yes</td>\n",
       "      <td>5</td>\n",
       "      <td>No</td>\n",
       "      <td>No</td>\n",
       "      <td>No</td>\n",
       "      <td>no</td>\n",
       "      <td>yes</td>\n",
       "      <td>18</td>\n",
       "      <td>1</td>\n",
       "      <td>January</td>\n",
       "      <td>4</td>\n",
       "    </tr>\n",
       "    <tr>\n",
       "      <th>1</th>\n",
       "      <td>Mmesoma Ofodile</td>\n",
       "      <td>Single</td>\n",
       "      <td>F</td>\n",
       "      <td>192.0</td>\n",
       "      <td>230</td>\n",
       "      <td>54</td>\n",
       "      <td>59</td>\n",
       "      <td>60</td>\n",
       "      <td>57</td>\n",
       "      <td>230</td>\n",
       "      <td>2007-08-12</td>\n",
       "      <td>Nursing</td>\n",
       "      <td>UNN</td>\n",
       "      <td>2024-01-10</td>\n",
       "      <td>2024-04-19</td>\n",
       "      <td>15000</td>\n",
       "      <td>No</td>\n",
       "      <td>4</td>\n",
       "      <td>Yes</td>\n",
       "      <td>5</td>\n",
       "      <td>Yes</td>\n",
       "      <td>No</td>\n",
       "      <td>No</td>\n",
       "      <td>no</td>\n",
       "      <td>yes</td>\n",
       "      <td>17</td>\n",
       "      <td>1</td>\n",
       "      <td>January</td>\n",
       "      <td>4</td>\n",
       "    </tr>\n",
       "    <tr>\n",
       "      <th>2</th>\n",
       "      <td>Delight Igboanugo</td>\n",
       "      <td>Single</td>\n",
       "      <td>F</td>\n",
       "      <td>NaN</td>\n",
       "      <td>231</td>\n",
       "      <td>64</td>\n",
       "      <td>61</td>\n",
       "      <td>51</td>\n",
       "      <td>55</td>\n",
       "      <td>231</td>\n",
       "      <td>2005-07-03</td>\n",
       "      <td>Pharmacy</td>\n",
       "      <td>Unizik</td>\n",
       "      <td>2024-01-11</td>\n",
       "      <td>2024-04-19</td>\n",
       "      <td>10000</td>\n",
       "      <td>No</td>\n",
       "      <td>4</td>\n",
       "      <td>Yes</td>\n",
       "      <td>4</td>\n",
       "      <td>Yes</td>\n",
       "      <td>No</td>\n",
       "      <td>No</td>\n",
       "      <td>Yes</td>\n",
       "      <td>No</td>\n",
       "      <td>19</td>\n",
       "      <td>1</td>\n",
       "      <td>January</td>\n",
       "      <td>4</td>\n",
       "    </tr>\n",
       "    <tr>\n",
       "      <th>3</th>\n",
       "      <td>Divine Ifedimma</td>\n",
       "      <td>Single</td>\n",
       "      <td>M</td>\n",
       "      <td>207.0</td>\n",
       "      <td>206</td>\n",
       "      <td>51</td>\n",
       "      <td>41</td>\n",
       "      <td>51</td>\n",
       "      <td>61</td>\n",
       "      <td>204</td>\n",
       "      <td>2004-12-27</td>\n",
       "      <td>Nursing</td>\n",
       "      <td>Unizik</td>\n",
       "      <td>2024-01-08</td>\n",
       "      <td>2024-04-19</td>\n",
       "      <td>13000</td>\n",
       "      <td>No</td>\n",
       "      <td>3</td>\n",
       "      <td>Yes</td>\n",
       "      <td>4</td>\n",
       "      <td>Yes</td>\n",
       "      <td>No</td>\n",
       "      <td>No</td>\n",
       "      <td>no</td>\n",
       "      <td>yes</td>\n",
       "      <td>20</td>\n",
       "      <td>1</td>\n",
       "      <td>January</td>\n",
       "      <td>4</td>\n",
       "    </tr>\n",
       "    <tr>\n",
       "      <th>4</th>\n",
       "      <td>Oluomachi Nwabuikwu</td>\n",
       "      <td>Single</td>\n",
       "      <td>F</td>\n",
       "      <td>175.0</td>\n",
       "      <td>179</td>\n",
       "      <td>49</td>\n",
       "      <td>47</td>\n",
       "      <td>44</td>\n",
       "      <td>39</td>\n",
       "      <td>179</td>\n",
       "      <td>2005-12-03</td>\n",
       "      <td>Nursing</td>\n",
       "      <td>Unizik</td>\n",
       "      <td>2024-01-10</td>\n",
       "      <td>2024-04-19</td>\n",
       "      <td>10000</td>\n",
       "      <td>No</td>\n",
       "      <td>4</td>\n",
       "      <td>Yes</td>\n",
       "      <td>5</td>\n",
       "      <td>Yes</td>\n",
       "      <td>No</td>\n",
       "      <td>No</td>\n",
       "      <td>no</td>\n",
       "      <td>yes</td>\n",
       "      <td>19</td>\n",
       "      <td>1</td>\n",
       "      <td>January</td>\n",
       "      <td>4</td>\n",
       "    </tr>\n",
       "    <tr>\n",
       "      <th>5</th>\n",
       "      <td>Ilozor Chidimma</td>\n",
       "      <td>Single</td>\n",
       "      <td>F</td>\n",
       "      <td>NaN</td>\n",
       "      <td>228</td>\n",
       "      <td>56</td>\n",
       "      <td>55</td>\n",
       "      <td>61</td>\n",
       "      <td>56</td>\n",
       "      <td>228</td>\n",
       "      <td>2006-11-16</td>\n",
       "      <td>Pharmacy</td>\n",
       "      <td>Unizik</td>\n",
       "      <td>2024-01-15</td>\n",
       "      <td>2024-04-19</td>\n",
       "      <td>10000</td>\n",
       "      <td>No</td>\n",
       "      <td>3</td>\n",
       "      <td>Yes</td>\n",
       "      <td>5</td>\n",
       "      <td>Yes</td>\n",
       "      <td>yes</td>\n",
       "      <td>No</td>\n",
       "      <td>no</td>\n",
       "      <td>yes</td>\n",
       "      <td>18</td>\n",
       "      <td>1</td>\n",
       "      <td>January</td>\n",
       "      <td>4</td>\n",
       "    </tr>\n",
       "    <tr>\n",
       "      <th>6</th>\n",
       "      <td>Nwogbo Chioma</td>\n",
       "      <td>Single</td>\n",
       "      <td>F</td>\n",
       "      <td>180.0</td>\n",
       "      <td>205</td>\n",
       "      <td>57</td>\n",
       "      <td>48</td>\n",
       "      <td>47</td>\n",
       "      <td>53</td>\n",
       "      <td>205</td>\n",
       "      <td>2006-04-05</td>\n",
       "      <td>Nursing</td>\n",
       "      <td>Unizik</td>\n",
       "      <td>2024-01-15</td>\n",
       "      <td>2024-04-19</td>\n",
       "      <td>15000</td>\n",
       "      <td>No</td>\n",
       "      <td>3</td>\n",
       "      <td>Yes</td>\n",
       "      <td>5</td>\n",
       "      <td>Yes</td>\n",
       "      <td>No</td>\n",
       "      <td>No</td>\n",
       "      <td>no</td>\n",
       "      <td>yes</td>\n",
       "      <td>18</td>\n",
       "      <td>1</td>\n",
       "      <td>January</td>\n",
       "      <td>4</td>\n",
       "    </tr>\n",
       "  </tbody>\n",
       "</table>\n",
       "</div>"
      ],
      "text/plain": [
       "          Student Name Marital Status Gender  Year 2023  Year 2024  English  \\\n",
       "0        Chinelo Nneto         Single      F      171.0        217       49   \n",
       "1      Mmesoma Ofodile         Single      F      192.0        230       54   \n",
       "2    Delight Igboanugo         Single      F        NaN        231       64   \n",
       "3      Divine Ifedimma         Single      M      207.0        206       51   \n",
       "4  Oluomachi Nwabuikwu         Single      F      175.0        179       49   \n",
       "5      Ilozor Chidimma         Single      F        NaN        228       56   \n",
       "6        Nwogbo Chioma         Single      F      180.0        205       57   \n",
       "\n",
       "   Chemistry  Physics  Biology  Total Date of Birth Course Registered  \\\n",
       "0         67       53       48    217    2006-01-14          Pharmacy   \n",
       "1         59       60       57    230    2007-08-12           Nursing   \n",
       "2         61       51       55    231    2005-07-03          Pharmacy   \n",
       "3         41       51       61    204    2004-12-27           Nursing   \n",
       "4         47       44       39    179    2005-12-03           Nursing   \n",
       "5         55       61       56    228    2006-11-16          Pharmacy   \n",
       "6         48       47       53    205    2006-04-05           Nursing   \n",
       "\n",
       "  University Registered Date Registered Date Stopped  Lesson Fee Work Status  \\\n",
       "0                Unizik      2024-01-09   2024-04-19       13000          No   \n",
       "1                   UNN      2024-01-10   2024-04-19       15000          No   \n",
       "2                Unizik      2024-01-11   2024-04-19       10000          No   \n",
       "3                Unizik      2024-01-08   2024-04-19       13000          No   \n",
       "4                Unizik      2024-01-10   2024-04-19       10000          No   \n",
       "5                Unizik      2024-01-15   2024-04-19       10000          No   \n",
       "6                Unizik      2024-01-15   2024-04-19       15000          No   \n",
       "\n",
       "   Hours Read Read Past Questions  Teaching Satisfaction Finished on time  \\\n",
       "0           5                 Yes                      5               No   \n",
       "1           4                 Yes                      5              Yes   \n",
       "2           4                 Yes                      4              Yes   \n",
       "3           3                 Yes                      4              Yes   \n",
       "4           4                 Yes                      5              Yes   \n",
       "5           3                 Yes                      5              Yes   \n",
       "6           3                 Yes                      5              Yes   \n",
       "\n",
       "  Computer Off Questions Different Pay Yourself Close Proximity to center  \\\n",
       "0           No                  No           no                       yes   \n",
       "1           No                  No           no                       yes   \n",
       "2           No                  No          Yes                        No   \n",
       "3           No                  No           no                       yes   \n",
       "4           No                  No           no                       yes   \n",
       "5          yes                  No           no                       yes   \n",
       "6           No                  No           no                       yes   \n",
       "\n",
       "   Student Age  Month Registered Month Name  Month Stopped  \n",
       "0           18                 1    January              4  \n",
       "1           17                 1    January              4  \n",
       "2           19                 1    January              4  \n",
       "3           20                 1    January              4  \n",
       "4           19                 1    January              4  \n",
       "5           18                 1    January              4  \n",
       "6           18                 1    January              4  "
      ]
     },
     "execution_count": 24,
     "metadata": {},
     "output_type": "execute_result"
    }
   ],
   "source": [
    "df.head(7)"
   ]
  },
  {
   "cell_type": "code",
   "execution_count": 25,
   "id": "29acf949-f678-4c0e-8c38-3dbd04f2bbc7",
   "metadata": {},
   "outputs": [],
   "source": [
    "#Number of months did lesson\n",
    "df['Lesson Duration (Months)'] = df['Month Stopped']-df['Month Registered']"
   ]
  },
  {
   "cell_type": "code",
   "execution_count": 27,
   "id": "85ee7c93-e64b-4cf4-9016-9140ffba7af5",
   "metadata": {},
   "outputs": [],
   "source": [
    "#Create total lesson fee payed by each student for the lesson duration\n",
    "df['Total Lesson Fee'] = df['Lesson Fee']*df['Lesson Duration (Months)']"
   ]
  },
  {
   "cell_type": "code",
   "execution_count": null,
   "id": "6d63242f-51e7-459d-9c32-63f0b4418c07",
   "metadata": {},
   "outputs": [],
   "source": [
    "#create week registered\n",
    "df['Week Registered'] = df['Date Registered'].dt.week"
   ]
  },
  {
   "cell_type": "code",
   "execution_count": null,
   "id": "69ff6b4c-334c-469b-b259-5d9fa3962ef9",
   "metadata": {},
   "outputs": [],
   "source": []
  },
  {
   "cell_type": "markdown",
   "id": "1336248c-9182-445e-825a-4e940c5d8b6f",
   "metadata": {},
   "source": [
    "## Data Exploration"
   ]
  },
  {
   "cell_type": "code",
   "execution_count": 36,
   "id": "7fee415b-841d-46a8-b844-58695daaf9c5",
   "metadata": {},
   "outputs": [
    {
     "data": {
      "text/plain": [
       "Index(['Student Name', 'Marital Status', 'Gender', 'Score 2023', 'Score 2024',\n",
       "       'English', 'Chemistry', 'Physics', 'Biology', 'Total', 'Date of Birth',\n",
       "       'Course Registered', 'University Registered', 'Date Registered',\n",
       "       'Date Stopped', 'Lesson Fee', 'Work Status', 'Hours Read',\n",
       "       'Read Past Questions', 'Teaching Satisfaction', 'Finished on time',\n",
       "       'Computer Off', 'Questions Different', 'Pay Yourself',\n",
       "       'Close Proximity to center', 'Student Age', 'Month Registered',\n",
       "       'Month Name', 'Month Stopped', 'Lesson Duration (Months)',\n",
       "       'Total Lesson Fee'],\n",
       "      dtype='object')"
      ]
     },
     "execution_count": 36,
     "metadata": {},
     "output_type": "execute_result"
    }
   ],
   "source": [
    "#display column names\n",
    "df.columns"
   ]
  },
  {
   "cell_type": "markdown",
   "id": "5d688881-1b08-4506-a3c8-94d9f3afe0e8",
   "metadata": {},
   "source": [
    "#### Gender Distribution"
   ]
  },
  {
   "cell_type": "code",
   "execution_count": 38,
   "id": "77ba2a16-b9c1-4662-90cb-df04a32dc6f9",
   "metadata": {},
   "outputs": [
    {
     "data": {
      "text/plain": [
       "Gender\n",
       "F    37\n",
       "M    15\n",
       "Name: count, dtype: int64"
      ]
     },
     "execution_count": 38,
     "metadata": {},
     "output_type": "execute_result"
    }
   ],
   "source": [
    "#To determine the gender distribution of the students\n",
    "df['Gender'].value_counts()"
   ]
  },
  {
   "cell_type": "markdown",
   "id": "59e277a1-0778-461d-a1a8-1bbd1c05ec27",
   "metadata": {},
   "source": [
    "- There are 37 female students and 15 male students"
   ]
  },
  {
   "cell_type": "markdown",
   "id": "125d49e2-4d55-435f-8282-07443b18b633",
   "metadata": {},
   "source": [
    "#### Marital Status Distribution"
   ]
  },
  {
   "cell_type": "code",
   "execution_count": 39,
   "id": "27972d3b-d9ac-4ede-af0a-0fe10a2c88da",
   "metadata": {},
   "outputs": [
    {
     "data": {
      "text/plain": [
       "Marital Status\n",
       "Single     50\n",
       "Married     2\n",
       "Name: count, dtype: int64"
      ]
     },
     "execution_count": 39,
     "metadata": {},
     "output_type": "execute_result"
    }
   ],
   "source": [
    "#check the marital status distribution\n",
    "df['Marital Status'].value_counts()"
   ]
  },
  {
   "cell_type": "markdown",
   "id": "3133f576-c72e-4ef5-bb0d-40b0df7b3ea9",
   "metadata": {},
   "source": [
    "- Fifty (50) students were single whereas only two are married"
   ]
  },
  {
   "cell_type": "code",
   "execution_count": 163,
   "id": "424377af-9651-47e6-8fb1-da501ef2174f",
   "metadata": {},
   "outputs": [
    {
     "data": {
      "image/png": "[encoded data removed]",
      "text/plain": [
       "<Figure size 800x400 with 2 Axes>"
      ]
     },
     "metadata": {},
     "output_type": "display_data"
    }
   ],
   "source": [
    "#plot a bar chart and pie chart of the Gender and Marital Status respectively\n",
    "fig, ax = plt.subplots(1,2, figsize=[8,4])\n",
    "\n",
    "ax[0].bar(x=df['Gender'].value_counts().index, height=df['Gender'].value_counts().values)\n",
    "ax[1].pie(df['Marital Status'].value_counts().values, labels=df['Marital Status'].value_counts().index, startangle=90, \n",
    "          autopct=\"%.0f%%\", pctdistance=0.85)\n",
    "\n",
    "donut_hole = plt.Circle((0,0), 0.70, fc=\"white\")\n",
    "fig = plt.gcf()\n",
    "fig.gca().add_artist(donut_hole)\n",
    "\n",
    "#add title\n",
    "ax[0].set_title('Gender Distribution')\n",
    "ax[1].set_title('Marital Status Distribution')\n",
    "\n",
    "#remove spines\n",
    "ax[0].spines[['top', 'left', 'right']].set_visible(False)\n",
    "\n",
    "#remove y-axis\n",
    "ax[0].yaxis.set_visible(False)\n",
    "\n",
    "#add annotation\n",
    "for index, values in enumerate(df['Gender'].value_counts()):\n",
    "    ax[0].annotate(values, xy=(index, values+0.7), ha='center', va='center')\n",
    "\n",
    "\n",
    "plt.show()\n",
    "          "
   ]
  },
  {
   "cell_type": "markdown",
   "id": "87edf3cc-fce3-49b2-9981-10f8b1cdd003",
   "metadata": {},
   "source": [
    "#### Student Age Distribution"
   ]
  },
  {
   "cell_type": "code",
   "execution_count": 60,
   "id": "9a2051be-fad9-4c62-b39d-c29ad2063e41",
   "metadata": {},
   "outputs": [
    {
     "data": {
      "text/plain": [
       "Student Age\n",
       "17     7\n",
       "18    23\n",
       "19     9\n",
       "20     7\n",
       "21     1\n",
       "22     1\n",
       "23     1\n",
       "24     1\n",
       "25     2\n",
       "Name: count, dtype: int64"
      ]
     },
     "execution_count": 60,
     "metadata": {},
     "output_type": "execute_result"
    }
   ],
   "source": [
    "#Age distribution of the students\n",
    "df['Student Age'].value_counts().sort_index(ascending=True)"
   ]
  },
  {
   "cell_type": "code",
   "execution_count": 81,
   "id": "0a3e66b9-5564-4476-b823-a96851f0e0f5",
   "metadata": {},
   "outputs": [
    {
     "data": {
      "image/png": "[encoded data removed]",
      "text/plain": [
       "<Figure size 800x400 with 1 Axes>"
      ]
     },
     "metadata": {},
     "output_type": "display_data"
    }
   ],
   "source": [
    "#plot a bar chart of the student age\n",
    "\n",
    "#create a dataframe of the student age\n",
    "age = df.groupby(['Student Age'], as_index=False).agg(total_no = ('Student Name', 'count'))\n",
    "\n",
    "#cast the student age as string\n",
    "age['Student Age'] = age['Student Age'].astype('str')\n",
    "\n",
    "#create a percentage\n",
    "age['perc'] = ((age['total_no']/age['total_no'].sum())*100).round(0)\n",
    "\n",
    "fig, ax = plt.subplots(figsize=[8,4])\n",
    "ax.bar(x=age['Student Age'], height=age['total_no'])\n",
    "\n",
    "#add title\n",
    "ax.set_title('Student Age Distribution')\n",
    "ax.set_xlabel('Student Age')\n",
    "\n",
    "#remove spines\n",
    "ax.spines[['top', 'left', 'right']].set_visible(False)\n",
    "\n",
    "#remove y-axis\n",
    "ax.yaxis.set_visible(False)\n",
    "\n",
    "#add annotation\n",
    "for index, values in enumerate(age['total_no']):\n",
    "    ax.annotate(values, xy=(index, values+0.7), ha='center', va='center')\n",
    "\n",
    "#this code is for adding both the count and percentage as data labels\n",
    "# for i, (v,p) in enumerate(zip(age['total_no'], age['perc'])):\n",
    "#     ax.text(i, v, f\"{v}({p:.1f}%)\", ha=\"center\")\n",
    "    \n",
    "plt.show()"
   ]
  },
  {
   "cell_type": "markdown",
   "id": "7d1e3649-345f-4c6c-89e4-91a9e98cf89b",
   "metadata": {},
   "source": [
    "- 7 students are 17 years old, the rest are above 18 years with about 44% at 18 years"
   ]
  },
  {
   "cell_type": "markdown",
   "id": "7396d27a-02de-4779-bbba-7f2e5211a248",
   "metadata": {},
   "source": [
    "#### Distriution of courses registered"
   ]
  },
  {
   "cell_type": "code",
   "execution_count": 85,
   "id": "56c1d57f-75aa-44e7-bfae-bd787a62d0d8",
   "metadata": {},
   "outputs": [
    {
     "data": {
      "text/plain": [
       "Course Registered\n",
       "Nursing                   26\n",
       "Medicine                   6\n",
       "Pharmacy                   4\n",
       "Computer Science           4\n",
       "Med Lab                    4\n",
       "Radiography                2\n",
       "Cyber Security             1\n",
       "Med Rehabilitation         1\n",
       "Industrial Chemistry       1\n",
       "Civil Engineer             1\n",
       "Mechanical Eng             1\n",
       "Electrical Engineering     1\n",
       "Name: count, dtype: int64"
      ]
     },
     "execution_count": 85,
     "metadata": {},
     "output_type": "execute_result"
    }
   ],
   "source": [
    "#to get the distriution of courses registered\n",
    "df['Course Registered'].value_counts()"
   ]
  },
  {
   "cell_type": "code",
   "execution_count": 94,
   "id": "c1259bf3-b427-4724-842c-7f7686214ac4",
   "metadata": {},
   "outputs": [
    {
     "data": {
      "image/png": "[encoded data removed]",
      "text/plain": [
       "<Figure size 800x400 with 1 Axes>"
      ]
     },
     "metadata": {},
     "output_type": "display_data"
    }
   ],
   "source": [
    "fig, ax = plt.subplots(figsize=[8,4])\n",
    "ax.bar(x=df['Course Registered'].value_counts().index, height=df['Course Registered'].value_counts().values)\n",
    "\n",
    "#add title\n",
    "ax.set_title('Distribution of Courses Registered')\n",
    "ax.set_xlabel('Courses Registered')\n",
    "ax.yaxis.set_visible(False)\n",
    "\n",
    "ax.xaxis.set_tick_params(rotation=75)\n",
    "\n",
    "ax.spines[['top', 'left', 'right']].set_visible(False)\n",
    "\n",
    "for index, values in enumerate(df['Course Registered'].value_counts()):\n",
    "    ax.annotate(values, xy=(index, values+0.8), ha='center', va='center')\n",
    "\n",
    "plt.show()"
   ]
  },
  {
   "cell_type": "markdown",
   "id": "081fe4a4-e204-4247-854f-f9fe0ef3373b",
   "metadata": {},
   "source": [
    "- With the demand for professional nurses both within the country and outside about 26 students which is 50% of the students applied to study Nursing"
   ]
  },
  {
   "cell_type": "code",
   "execution_count": 100,
   "id": "e889e16d-8834-420c-b5e3-0fdb64c095d8",
   "metadata": {},
   "outputs": [
    {
     "data": {
      "text/html": [
       "<div>\n",
       "<style scoped>\n",
       "    .dataframe tbody tr th:only-of-type {\n",
       "        vertical-align: middle;\n",
       "    }\n",
       "\n",
       "    .dataframe tbody tr th {\n",
       "        vertical-align: top;\n",
       "    }\n",
       "\n",
       "    .dataframe thead th {\n",
       "        text-align: right;\n",
       "    }\n",
       "</style>\n",
       "<table border=\"1\" class=\"dataframe\">\n",
       "  <thead>\n",
       "    <tr style=\"text-align: right;\">\n",
       "      <th></th>\n",
       "      <th>Gender</th>\n",
       "      <th>total_no</th>\n",
       "    </tr>\n",
       "  </thead>\n",
       "  <tbody>\n",
       "    <tr>\n",
       "      <th>0</th>\n",
       "      <td>F</td>\n",
       "      <td>22</td>\n",
       "    </tr>\n",
       "    <tr>\n",
       "      <th>1</th>\n",
       "      <td>M</td>\n",
       "      <td>4</td>\n",
       "    </tr>\n",
       "  </tbody>\n",
       "</table>\n",
       "</div>"
      ],
      "text/plain": [
       "  Gender  total_no\n",
       "0      F        22\n",
       "1      M         4"
      ]
     },
     "execution_count": 100,
     "metadata": {},
     "output_type": "execute_result"
    }
   ],
   "source": [
    "#distribution of Nursing and Gender\n",
    "nursing = df[df['Course Registered']==\"Nursing\"].groupby(['Gender'], as_index=False).agg(total_no=('Student Name', 'count'))\n",
    "nursing"
   ]
  },
  {
   "cell_type": "code",
   "execution_count": 104,
   "id": "9a6b263b-187e-469a-8133-75b9c96b01e0",
   "metadata": {},
   "outputs": [
    {
     "data": {
      "image/png": "[encoded data removed]",
      "text/plain": [
       "<Figure size 500x400 with 1 Axes>"
      ]
     },
     "metadata": {},
     "output_type": "display_data"
    }
   ],
   "source": [
    "fig, ax = plt.subplots(figsize=[5,4])\n",
    "\n",
    "ax.pie(nursing['total_no'], labels=nursing['Gender'], autopct=\"%.0f%%\", startangle=90)\n",
    "\n",
    "ax.set_title('Gender distribution of Nursing Course')\n",
    "\n",
    "plt.show()"
   ]
  },
  {
   "cell_type": "markdown",
   "id": "10ca12c3-7f5e-4030-b8a0-09b239b988d2",
   "metadata": {},
   "source": [
    "- 85% of the student that applied for nursing courses are female, while 15% are male"
   ]
  },
  {
   "cell_type": "code",
   "execution_count": 105,
   "id": "2486d4b6-3c2a-48aa-869e-0a49c2e35882",
   "metadata": {},
   "outputs": [
    {
     "data": {
      "text/plain": [
       "University Registered\n",
       "Unizik                42\n",
       "UNN                    5\n",
       "IMSU                   1\n",
       "college of nursing     1\n",
       "Funai                  1\n",
       "Uniport                1\n",
       "ANSU                   1\n",
       "Name: count, dtype: int64"
      ]
     },
     "execution_count": 105,
     "metadata": {},
     "output_type": "execute_result"
    }
   ],
   "source": [
    "#to get the distriution of University registered\n",
    "df['University Registered'].value_counts()"
   ]
  },
  {
   "cell_type": "code",
   "execution_count": 107,
   "id": "3ea4a654-305e-4c37-b99c-4ec11178d2ed",
   "metadata": {},
   "outputs": [
    {
     "data": {
      "image/png": "[encoded data removed]",
      "text/plain": [
       "<Figure size 800x400 with 1 Axes>"
      ]
     },
     "metadata": {},
     "output_type": "display_data"
    }
   ],
   "source": [
    "fig, ax = plt.subplots(figsize=[8,4])\n",
    "ax.bar(x=df['University Registered'].value_counts().index, height=df['University Registered'].value_counts().values)\n",
    "\n",
    "#add title\n",
    "ax.set_title('Distribution of University Registered')\n",
    "ax.set_xlabel('University Registered')\n",
    "ax.yaxis.set_visible(False)\n",
    "\n",
    "#ax.xaxis.set_tick_params(rotation=75)\n",
    "\n",
    "ax.spines[['top', 'left', 'right']].set_visible(False)\n",
    "\n",
    "for index, values in enumerate(df['University Registered'].value_counts()):\n",
    "    ax.annotate(values, xy=(index, values+0.8), ha='center', va='center')\n",
    "\n",
    "plt.show()"
   ]
  },
  {
   "cell_type": "markdown",
   "id": "42615e62-843f-41e7-ae9d-fa682866e530",
   "metadata": {},
   "source": [
    "- Nnamdi Azikiwe University (Unizik) is the most popular choice for students with about 80% of the choice"
   ]
  },
  {
   "cell_type": "markdown",
   "id": "745a4cb6-5f31-41aa-82b0-7c751ca3eb92",
   "metadata": {},
   "source": [
    "#### Timeline of student registration at the center"
   ]
  },
  {
   "cell_type": "code",
   "execution_count": 110,
   "id": "ed51f3f2-1206-45fe-80e5-50d7946eaed7",
   "metadata": {},
   "outputs": [
    {
     "data": {
      "text/html": [
       "<div>\n",
       "<style scoped>\n",
       "    .dataframe tbody tr th:only-of-type {\n",
       "        vertical-align: middle;\n",
       "    }\n",
       "\n",
       "    .dataframe tbody tr th {\n",
       "        vertical-align: top;\n",
       "    }\n",
       "\n",
       "    .dataframe thead th {\n",
       "        text-align: right;\n",
       "    }\n",
       "</style>\n",
       "<table border=\"1\" class=\"dataframe\">\n",
       "  <thead>\n",
       "    <tr style=\"text-align: right;\">\n",
       "      <th></th>\n",
       "      <th>Date Registered</th>\n",
       "      <th>total_no</th>\n",
       "    </tr>\n",
       "  </thead>\n",
       "  <tbody>\n",
       "    <tr>\n",
       "      <th>0</th>\n",
       "      <td>2024-01-08</td>\n",
       "      <td>1</td>\n",
       "    </tr>\n",
       "    <tr>\n",
       "      <th>1</th>\n",
       "      <td>2024-01-09</td>\n",
       "      <td>1</td>\n",
       "    </tr>\n",
       "    <tr>\n",
       "      <th>2</th>\n",
       "      <td>2024-01-10</td>\n",
       "      <td>4</td>\n",
       "    </tr>\n",
       "    <tr>\n",
       "      <th>3</th>\n",
       "      <td>2024-01-11</td>\n",
       "      <td>4</td>\n",
       "    </tr>\n",
       "    <tr>\n",
       "      <th>4</th>\n",
       "      <td>2024-01-15</td>\n",
       "      <td>3</td>\n",
       "    </tr>\n",
       "  </tbody>\n",
       "</table>\n",
       "</div>"
      ],
      "text/plain": [
       "  Date Registered  total_no\n",
       "0      2024-01-08         1\n",
       "1      2024-01-09         1\n",
       "2      2024-01-10         4\n",
       "3      2024-01-11         4\n",
       "4      2024-01-15         3"
      ]
     },
     "execution_count": 110,
     "metadata": {},
     "output_type": "execute_result"
    }
   ],
   "source": [
    "reg = df.groupby(['Date Registered'], as_index=False).agg(total_no=('Student Name', 'count'))\n",
    "reg.head()"
   ]
  },
  {
   "cell_type": "code",
   "execution_count": 115,
   "id": "8b3a0284-9688-4823-a2d2-cc2e4d443e92",
   "metadata": {},
   "outputs": [
    {
     "data": {
      "image/png": "[encoded data removed]",
      "text/plain": [
       "<Figure size 1600x300 with 1 Axes>"
      ]
     },
     "metadata": {},
     "output_type": "display_data"
    }
   ],
   "source": [
    "#plot a linechart of the timeline\n",
    "fig, ax = plt.subplots(figsize=[16,3])\n",
    "ax.plot(reg['Date Registered'], reg['total_no'])\n",
    "\n",
    "plt.show()"
   ]
  },
  {
   "cell_type": "markdown",
   "id": "bcbf202e-010c-4a6b-825c-58cf84987d32",
   "metadata": {},
   "source": [
    "#### Distribution of the Work Status"
   ]
  },
  {
   "cell_type": "code",
   "execution_count": 116,
   "id": "4915f6c9-1c1e-4fd2-80d8-8aa57cabcb83",
   "metadata": {},
   "outputs": [
    {
     "data": {
      "text/plain": [
       "Work Status\n",
       "No     42\n",
       "Yes    10\n",
       "Name: count, dtype: int64"
      ]
     },
     "execution_count": 116,
     "metadata": {},
     "output_type": "execute_result"
    }
   ],
   "source": [
    "#distribution of the work status\n",
    "df['Work Status'].value_counts()"
   ]
  },
  {
   "cell_type": "code",
   "execution_count": 122,
   "id": "4003b9d1-944b-4919-ba58-7cee572a81f2",
   "metadata": {},
   "outputs": [
    {
     "data": {
      "image/png": "[encoded data removed]",
      "text/plain": [
       "<Figure size 800x400 with 2 Axes>"
      ]
     },
     "metadata": {},
     "output_type": "display_data"
    }
   ],
   "source": [
    "fig, ax = plt.subplots(1, 2, figsize=[8,4])\n",
    "ax[0].bar(x=df['Work Status'].value_counts().index, height=df['Work Status'].value_counts().values)\n",
    "\n",
    "#add title\n",
    "ax[0].set_title('Distribution of Student Work Status')\n",
    "ax[0].set_xlabel('Work Status')\n",
    "ax[0].yaxis.set_visible(False)\n",
    "\n",
    "#ax.xaxis.set_tick_params(rotation=75)\n",
    "\n",
    "ax[0].spines[['top', 'left', 'right']].set_visible(False)\n",
    "\n",
    "for index, values in enumerate(df['Work Status'].value_counts()):\n",
    "    ax[0].annotate(values, xy=(index, values+0.8), ha='center', va='center')\n",
    "\n",
    "#plot 2\n",
    "ax[1].pie(df['Work Status'].value_counts().values, labels=df['Work Status'].value_counts().index, autopct=\"%.0f%%\", startangle=90)\n",
    "\n",
    "ax[1].set_title('Proportion of student work status')\n",
    "\n",
    "plt.show()"
   ]
  },
  {
   "cell_type": "markdown",
   "id": "c046aa34-03a5-45f8-8689-ac9ffbb6b472",
   "metadata": {},
   "source": [
    "- About 19% of the students work and attend lesson while 81% do not work"
   ]
  },
  {
   "cell_type": "markdown",
   "id": "0d5db385-2f37-468b-bf69-e5bb6c23dc70",
   "metadata": {},
   "source": [
    "#### Distribution of hours read"
   ]
  },
  {
   "cell_type": "code",
   "execution_count": 124,
   "id": "deb48a17-2d83-46ec-beef-3dc6854aded9",
   "metadata": {},
   "outputs": [
    {
     "data": {
      "text/plain": [
       "Hours Read\n",
       "2     11\n",
       "3     25\n",
       "4     11\n",
       "5      3\n",
       "7      1\n",
       "10     1\n",
       "Name: count, dtype: int64"
      ]
     },
     "execution_count": 124,
     "metadata": {},
     "output_type": "execute_result"
    }
   ],
   "source": [
    "#distribution of number of hours the student read per day\n",
    "df['Hours Read'].value_counts().sort_index(ascending=True)"
   ]
  },
  {
   "cell_type": "code",
   "execution_count": 130,
   "id": "18977676-82b4-4178-8d5d-9327e4c70874",
   "metadata": {},
   "outputs": [
    {
     "data": {
      "image/png": "[encoded data removed]",
      "text/plain": [
       "<Figure size 800x400 with 1 Axes>"
      ]
     },
     "metadata": {},
     "output_type": "display_data"
    }
   ],
   "source": [
    "#plot a bar chart of number of hours read\n",
    "\n",
    "fig, ax = plt.subplots(figsize=[8,4])\n",
    "hr_read = df.groupby(['Hours Read'], as_index=False).agg(total_hours=('Student Name', 'count'))\n",
    "\n",
    "#casting hours read as string\n",
    "hr_read['Hours Read']=hr_read['Hours Read'].astype('str')\n",
    "\n",
    "ax.bar(x=hr_read['Hours Read'], height=hr_read['total_hours'])\n",
    "\n",
    "#add title\n",
    "ax.set_title('Distribution of number of hours read')\n",
    "ax.set_xlabel('Hours Read')\n",
    "ax.yaxis.set_visible(False)\n",
    "\n",
    "#ax.xaxis.set_tick_params(rotation=75)\n",
    "\n",
    "ax.spines[['top', 'left', 'right']].set_visible(False)\n",
    "\n",
    "for index, values in enumerate(hr_read['total_hours']):\n",
    "    ax.annotate(values, xy=(index, values+0.8), ha='center', va='center')\n",
    "\n",
    "plt.show()"
   ]
  },
  {
   "cell_type": "markdown",
   "id": "f7c8d2f8-e7b7-41e1-9f24-d65b07394d7f",
   "metadata": {},
   "source": [
    "- Majority of the student read between 2 to 4 hours each day with about 25 students reading 3 hours each day"
   ]
  },
  {
   "cell_type": "code",
   "execution_count": 132,
   "id": "de594a1a-ef4e-4dcf-9269-41e6b06ed3be",
   "metadata": {},
   "outputs": [
    {
     "data": {
      "text/plain": [
       "Teaching Satisfaction\n",
       "5    35\n",
       "4    16\n",
       "3     1\n",
       "Name: count, dtype: int64"
      ]
     },
     "execution_count": 132,
     "metadata": {},
     "output_type": "execute_result"
    }
   ],
   "source": [
    "df['Teaching Satisfaction'].value_counts()"
   ]
  },
  {
   "cell_type": "code",
   "execution_count": 134,
   "id": "89aceaa1-8b92-4b11-a46c-e017b3c2ef74",
   "metadata": {},
   "outputs": [
    {
     "data": {
      "text/plain": [
       "4.653846153846154"
      ]
     },
     "execution_count": 134,
     "metadata": {},
     "output_type": "execute_result"
    }
   ],
   "source": [
    "#Avg Satisfaction\n",
    "df['Teaching Satisfaction'].sum()/len(df)"
   ]
  },
  {
   "cell_type": "code",
   "execution_count": null,
   "id": "3e3991ec-e991-425e-b5b6-6bba844a5a66",
   "metadata": {},
   "outputs": [],
   "source": [
    "# Very Satisfied, Satisfied, Neutral, Dissatisfied, Very Disatisfied"
   ]
  },
  {
   "cell_type": "code",
   "execution_count": 135,
   "id": "df240875-27e0-40fb-98e6-e53b50cd3b40",
   "metadata": {},
   "outputs": [],
   "source": [
    "#creating a list of satisfaction \n",
    "sat = []\n",
    "for x in df['Teaching Satisfaction']:\n",
    "    if x == 1:\n",
    "        sat.append('Very Dissatisfied')\n",
    "    elif x == 2:\n",
    "        sat.append('Dissatisfied')\n",
    "    elif x == 3:\n",
    "        sat.append('Neutral')\n",
    "    elif x == 4:\n",
    "        sat.append('Satisfied')\n",
    "    elif x == 5:\n",
    "        sat.append('Very Satisfied')"
   ]
  },
  {
   "cell_type": "code",
   "execution_count": 137,
   "id": "3752f21d-fa4f-4a7b-9d10-ec210fdd3a57",
   "metadata": {},
   "outputs": [],
   "source": [
    "#create a satisfaction column in the dataframe\n",
    "df['Satisfaction'] = sat"
   ]
  },
  {
   "cell_type": "code",
   "execution_count": 139,
   "id": "cd860f6b-c0dd-4298-a6ca-19afe3000a69",
   "metadata": {},
   "outputs": [
    {
     "data": {
      "text/plain": [
       "Satisfaction\n",
       "Very Satisfied    35\n",
       "Satisfied         16\n",
       "Neutral            1\n",
       "Name: count, dtype: int64"
      ]
     },
     "execution_count": 139,
     "metadata": {},
     "output_type": "execute_result"
    }
   ],
   "source": [
    "#checking the distribution of Satisfaction\n",
    "df['Satisfaction'].value_counts()"
   ]
  },
  {
   "cell_type": "code",
   "execution_count": 141,
   "id": "4247a66b-4eda-4f0d-bcd2-70b525bb5587",
   "metadata": {},
   "outputs": [
    {
     "data": {
      "image/png": "[encoded data removed]",
      "text/plain": [
       "<Figure size 600x400 with 1 Axes>"
      ]
     },
     "metadata": {},
     "output_type": "display_data"
    }
   ],
   "source": [
    "#plot a bar chart of Student satisfaction\n",
    "\n",
    "fig, ax = plt.subplots(figsize=[6,4])\n",
    "\n",
    "ax.bar(x=df['Satisfaction'].value_counts().index, height=df['Satisfaction'].value_counts().values)\n",
    "\n",
    "#add title\n",
    "ax.set_title('Distribution of Student Satisfaction of Teaching')\n",
    "ax.set_xlabel('Satisfaction')\n",
    "ax.yaxis.set_visible(False)\n",
    "\n",
    "#ax.xaxis.set_tick_params(rotation=75)\n",
    "\n",
    "ax.spines[['top', 'left', 'right']].set_visible(False)\n",
    "\n",
    "for index, values in enumerate(df['Satisfaction'].value_counts()):\n",
    "    ax.annotate(values, xy=(index, values+0.8), ha='center', va='center')\n",
    "\n",
    "\n",
    "plt.show()"
   ]
  },
  {
   "cell_type": "markdown",
   "id": "da905b8b-df62-4124-b575-88cf5318f1cc",
   "metadata": {},
   "source": [
    "- About 98% of the students were satisfied with the teaching that was delivered"
   ]
  },
  {
   "cell_type": "markdown",
   "id": "745842c8-000f-49f9-b033-de7f765a86d2",
   "metadata": {},
   "source": [
    "#### Distribution of Student who **Finished on time, Computer off**"
   ]
  },
  {
   "cell_type": "code",
   "execution_count": 143,
   "id": "08d50a2b-487f-43d1-8999-1e90695812b3",
   "metadata": {},
   "outputs": [
    {
     "data": {
      "text/plain": [
       "Finished on time\n",
       "Yes    41\n",
       "No     10\n",
       "yes     1\n",
       "Name: count, dtype: int64"
      ]
     },
     "execution_count": 143,
     "metadata": {},
     "output_type": "execute_result"
    }
   ],
   "source": [
    "df['Finished on time'].value_counts()"
   ]
  },
  {
   "cell_type": "markdown",
   "id": "63a5f8fb-a0da-4d5a-8868-86a3765faef9",
   "metadata": {},
   "source": [
    "- This shows that there is inconsistency in the values"
   ]
  },
  {
   "cell_type": "code",
   "execution_count": 144,
   "id": "061648a0-84ed-4962-bdee-191b14c1899d",
   "metadata": {},
   "outputs": [],
   "source": [
    "#replacing yes with Yes\n",
    "df['Finished on time'] = df['Finished on time'].str.replace('yes', 'Yes')"
   ]
  },
  {
   "cell_type": "code",
   "execution_count": 145,
   "id": "51e651b1-5790-4278-b9bf-6043effbb5a4",
   "metadata": {},
   "outputs": [
    {
     "data": {
      "text/plain": [
       "Finished on time\n",
       "Yes    42\n",
       "No     10\n",
       "Name: count, dtype: int64"
      ]
     },
     "execution_count": 145,
     "metadata": {},
     "output_type": "execute_result"
    }
   ],
   "source": [
    "#checking if the value have been replaced\n",
    "df['Finished on time'].value_counts()"
   ]
  },
  {
   "cell_type": "markdown",
   "id": "5ff5e323-4ceb-48dc-8377-217037a70ca9",
   "metadata": {},
   "source": [
    "- 42 students finished on time while 10 didn't"
   ]
  },
  {
   "cell_type": "code",
   "execution_count": 146,
   "id": "1b18f75d-b157-4f6f-8183-e9ed6252b67c",
   "metadata": {},
   "outputs": [
    {
     "data": {
      "text/plain": [
       "Computer Off\n",
       "No     42\n",
       "yes     8\n",
       "no      2\n",
       "Name: count, dtype: int64"
      ]
     },
     "execution_count": 146,
     "metadata": {},
     "output_type": "execute_result"
    }
   ],
   "source": [
    "#checking the distribution of students whose computer went off\n",
    "df['Computer Off'].value_counts()"
   ]
  },
  {
   "cell_type": "code",
   "execution_count": 147,
   "id": "0cf9d96f-7cf9-403a-ae7f-83d9fd009b39",
   "metadata": {},
   "outputs": [],
   "source": [
    "#inconsistency in the values, replace no with No\n",
    "df['Computer Off'] = df['Computer Off'].str.replace('no', 'No')"
   ]
  },
  {
   "cell_type": "code",
   "execution_count": 148,
   "id": "5027422b-0dd6-4ef7-a87b-18862e008e97",
   "metadata": {},
   "outputs": [
    {
     "data": {
      "text/plain": [
       "Computer Off\n",
       "No     44\n",
       "yes     8\n",
       "Name: count, dtype: int64"
      ]
     },
     "execution_count": 148,
     "metadata": {},
     "output_type": "execute_result"
    }
   ],
   "source": [
    "#checking if the values have been replaced\n",
    "df['Computer Off'].value_counts()"
   ]
  },
  {
   "cell_type": "markdown",
   "id": "0543af6a-4847-40bc-8935-e52ab17a8a27",
   "metadata": {},
   "source": [
    "- Only 8 students indicated that their computer went off during the exam"
   ]
  },
  {
   "cell_type": "code",
   "execution_count": 151,
   "id": "42dc177d-ed4f-4d31-92dd-94c4fd514de1",
   "metadata": {},
   "outputs": [
    {
     "data": {
      "image/png": "[encoded data removed]",
      "text/plain": [
       "<Figure size 600x400 with 2 Axes>"
      ]
     },
     "metadata": {},
     "output_type": "display_data"
    }
   ],
   "source": [
    "#plot a bar chart\n",
    "\n",
    "fig, ax = plt.subplots(1, 2, figsize=[6,4])\n",
    "\n",
    "ax[0].bar(x=df['Finished on time'].value_counts().index, height=df['Finished on time'].value_counts().values)\n",
    "ax[1].bar(x=df['Computer Off'].value_counts().index, height=df['Computer Off'].value_counts().values)\n",
    "\n",
    "#add title\n",
    "ax[0].set_title('Finished on time')\n",
    "ax[0].set_xlabel('Finished on time')\n",
    "ax[0].yaxis.set_visible(False)\n",
    "\n",
    "#add title\n",
    "ax[1].set_title('Computer off')\n",
    "ax[1].set_xlabel('Computer Off')\n",
    "ax[1].yaxis.set_visible(False)\n",
    "\n",
    "#ax.xaxis.set_tick_params(rotation=75)\n",
    "\n",
    "ax[0].spines[['top', 'left', 'right']].set_visible(False)\n",
    "ax[1].spines[['top', 'left', 'right']].set_visible(False)\n",
    "\n",
    "for index, values in enumerate(df['Finished on time'].value_counts()):\n",
    "    ax[0].annotate(values, xy=(index, values+0.8), ha='center', va='center')\n",
    "for index, values in enumerate(df['Computer Off'].value_counts()):\n",
    "    ax[1].annotate(values, xy=(index, values+0.8), ha='center', va='center')\n",
    "\n",
    "\n",
    "plt.show()"
   ]
  },
  {
   "cell_type": "markdown",
   "id": "4cced28b-ebf6-450a-8d9a-7b41c73e0086",
   "metadata": {},
   "source": [
    "- 42 students finished on time while 10 didn't\n",
    "- Only 8 students indicated that their computer went off during the exam"
   ]
  },
  {
   "cell_type": "markdown",
   "id": "608859fa-22c7-4002-ae65-759f05158e47",
   "metadata": {},
   "source": [
    "#### Distribution of Student who payed for the lesson by themselves"
   ]
  },
  {
   "cell_type": "code",
   "execution_count": 153,
   "id": "8d18362e-8812-4c5c-bec2-cbaaa561d901",
   "metadata": {},
   "outputs": [
    {
     "data": {
      "text/plain": [
       "Pay Yourself\n",
       "no     35\n",
       "Yes    16\n",
       "yes     1\n",
       "Name: count, dtype: int64"
      ]
     },
     "execution_count": 153,
     "metadata": {},
     "output_type": "execute_result"
    }
   ],
   "source": [
    "#student who payed themselves\n",
    "df['Pay Yourself'].value_counts()"
   ]
  },
  {
   "cell_type": "code",
   "execution_count": 154,
   "id": "49b7a93f-72da-4574-8550-03c85e91ee16",
   "metadata": {},
   "outputs": [],
   "source": [
    "#replace yes with Yes\n",
    "df['Pay Yourself'] = df['Pay Yourself'].str.replace('yes', 'Yes')"
   ]
  },
  {
   "cell_type": "code",
   "execution_count": 155,
   "id": "7da90e2f-f7f4-4097-be05-09e922127284",
   "metadata": {},
   "outputs": [
    {
     "data": {
      "text/plain": [
       "Pay Yourself\n",
       "no     35\n",
       "Yes    17\n",
       "Name: count, dtype: int64"
      ]
     },
     "execution_count": 155,
     "metadata": {},
     "output_type": "execute_result"
    }
   ],
   "source": [
    "df['Pay Yourself'].value_counts()"
   ]
  },
  {
   "cell_type": "code",
   "execution_count": 157,
   "id": "7f5c46e7-ddad-4e77-a042-71fe1f1d4396",
   "metadata": {},
   "outputs": [
    {
     "data": {
      "text/plain": [
       "Close Proximity to center\n",
       "yes    32\n",
       "No     20\n",
       "Name: count, dtype: int64"
      ]
     },
     "execution_count": 157,
     "metadata": {},
     "output_type": "execute_result"
    }
   ],
   "source": [
    "df['Close Proximity to center'].value_counts()"
   ]
  },
  {
   "cell_type": "code",
   "execution_count": 164,
   "id": "8284d3c5-2c69-4f5c-88e1-d78829be74ab",
   "metadata": {},
   "outputs": [
    {
     "data": {
      "image/png": "[encoded data removed]",
      "text/plain": [
       "<Figure size 700x400 with 2 Axes>"
      ]
     },
     "metadata": {},
     "output_type": "display_data"
    }
   ],
   "source": [
    "#plot a pie-chart\n",
    "fig, ax = plt.subplots(1, 2, figsize=[7,4])\n",
    "ax[0].pie(df['Pay Yourself'].value_counts().values, labels=df['Pay Yourself'].value_counts().index, autopct=\"%.0f%%\", startangle=90)\n",
    "ax[1].pie(df['Close Proximity to center'].value_counts().values, labels=['Near', 'Far'], \n",
    "          autopct=\"%.0f%%\", startangle=90)\n",
    "\n",
    "#add title\n",
    "ax[0].set_title('Pay Yourself')\n",
    "ax[1].set_title('Close Proximity to center')\n",
    "\n",
    "plt.show()"
   ]
  },
  {
   "cell_type": "markdown",
   "id": "8f1c4c41-f3cb-4aaa-826d-8ba0baede514",
   "metadata": {},
   "source": [
    "- About 33% of the student payed for the lesson by themselves\n",
    "- About 38% of the students live far from the center and takes a taxi to come"
   ]
  },
  {
   "cell_type": "markdown",
   "id": "a7f33e2b-cda2-4402-80c8-6cd4605f75fe",
   "metadata": {},
   "source": [
    "## Data Analysis"
   ]
  },
  {
   "cell_type": "markdown",
   "id": "5d6a11d6-085c-4fd6-8e09-c81767d26e26",
   "metadata": {},
   "source": [
    "### Question 1: What is the highest and lowest score in 2024 JAMB"
   ]
  },
  {
   "cell_type": "code",
   "execution_count": 165,
   "id": "c1348310-b479-4db6-8fe2-a993cdc665eb",
   "metadata": {},
   "outputs": [
    {
     "data": {
      "text/plain": [
       "290"
      ]
     },
     "execution_count": 165,
     "metadata": {},
     "output_type": "execute_result"
    }
   ],
   "source": [
    "#Find the highest score\n",
    "highest_score = df['Score 2024'].max()\n",
    "highest_score"
   ]
  },
  {
   "cell_type": "code",
   "execution_count": 167,
   "id": "7fb34f72-0ea1-4420-a072-72695e4fbd86",
   "metadata": {},
   "outputs": [
    {
     "data": {
      "text/plain": [
       "148"
      ]
     },
     "execution_count": 167,
     "metadata": {},
     "output_type": "execute_result"
    }
   ],
   "source": [
    "#Find the lowest score\n",
    "lowest_score = df['Score 2024'].min()\n",
    "lowest_score"
   ]
  },
  {
   "cell_type": "markdown",
   "id": "20895c39-3d84-46f5-a8a6-64aa31a82fab",
   "metadata": {},
   "source": [
    "### Question 2: What are the top five scores and least five scores"
   ]
  },
  {
   "cell_type": "markdown",
   "id": "0e4076e4-ad24-4f55-a655-88ae24f8eaea",
   "metadata": {},
   "source": [
    "#### Top 5 Scores"
   ]
  },
  {
   "cell_type": "code",
   "execution_count": 173,
   "id": "87b617ef-7021-4cfc-a347-eb1eedf5fc6f",
   "metadata": {},
   "outputs": [
    {
     "data": {
      "text/html": [
       "<div>\n",
       "<style scoped>\n",
       "    .dataframe tbody tr th:only-of-type {\n",
       "        vertical-align: middle;\n",
       "    }\n",
       "\n",
       "    .dataframe tbody tr th {\n",
       "        vertical-align: top;\n",
       "    }\n",
       "\n",
       "    .dataframe thead th {\n",
       "        text-align: right;\n",
       "    }\n",
       "</style>\n",
       "<table border=\"1\" class=\"dataframe\">\n",
       "  <thead>\n",
       "    <tr style=\"text-align: right;\">\n",
       "      <th></th>\n",
       "      <th>Student Name</th>\n",
       "      <th>Score 2024</th>\n",
       "    </tr>\n",
       "  </thead>\n",
       "  <tbody>\n",
       "    <tr>\n",
       "      <th>8</th>\n",
       "      <td>Anatogu Chidiebere</td>\n",
       "      <td>290</td>\n",
       "    </tr>\n",
       "    <tr>\n",
       "      <th>15</th>\n",
       "      <td>Odinaka Precious</td>\n",
       "      <td>278</td>\n",
       "    </tr>\n",
       "    <tr>\n",
       "      <th>25</th>\n",
       "      <td>Kate Iwobi</td>\n",
       "      <td>269</td>\n",
       "    </tr>\n",
       "    <tr>\n",
       "      <th>38</th>\n",
       "      <td>Amarachi Aneke</td>\n",
       "      <td>264</td>\n",
       "    </tr>\n",
       "    <tr>\n",
       "      <th>36</th>\n",
       "      <td>Oluebube Aneke</td>\n",
       "      <td>263</td>\n",
       "    </tr>\n",
       "  </tbody>\n",
       "</table>\n",
       "</div>"
      ],
      "text/plain": [
       "          Student Name  Score 2024\n",
       "8   Anatogu Chidiebere         290\n",
       "15    Odinaka Precious         278\n",
       "25          Kate Iwobi         269\n",
       "38      Amarachi Aneke         264\n",
       "36      Oluebube Aneke         263"
      ]
     },
     "execution_count": 173,
     "metadata": {},
     "output_type": "execute_result"
    }
   ],
   "source": [
    "#top five scores\n",
    "top_5_score = df[['Student Name' ,'Score 2024']].sort_values('Score 2024', ascending=False).head(5)\n",
    "top_5_score"
   ]
  },
  {
   "cell_type": "code",
   "execution_count": 175,
   "id": "26b84e90-7759-451a-99b8-d4cd91848ee2",
   "metadata": {},
   "outputs": [],
   "source": [
    "#assign a default index to the student\n",
    "top_5_score['Rank'] = ['Top 1', 'Top 2', 'Top 3', 'Top 4', 'Top 5']"
   ]
  },
  {
   "cell_type": "code",
   "execution_count": 176,
   "id": "c7cecc80-0400-437e-b8de-f9268c7b40c3",
   "metadata": {},
   "outputs": [
    {
     "data": {
      "text/html": [
       "<div>\n",
       "<style scoped>\n",
       "    .dataframe tbody tr th:only-of-type {\n",
       "        vertical-align: middle;\n",
       "    }\n",
       "\n",
       "    .dataframe tbody tr th {\n",
       "        vertical-align: top;\n",
       "    }\n",
       "\n",
       "    .dataframe thead th {\n",
       "        text-align: right;\n",
       "    }\n",
       "</style>\n",
       "<table border=\"1\" class=\"dataframe\">\n",
       "  <thead>\n",
       "    <tr style=\"text-align: right;\">\n",
       "      <th></th>\n",
       "      <th>Student Name</th>\n",
       "      <th>Score 2024</th>\n",
       "      <th>Rank</th>\n",
       "    </tr>\n",
       "  </thead>\n",
       "  <tbody>\n",
       "    <tr>\n",
       "      <th>8</th>\n",
       "      <td>Anatogu Chidiebere</td>\n",
       "      <td>290</td>\n",
       "      <td>Top 1</td>\n",
       "    </tr>\n",
       "    <tr>\n",
       "      <th>15</th>\n",
       "      <td>Odinaka Precious</td>\n",
       "      <td>278</td>\n",
       "      <td>Top 2</td>\n",
       "    </tr>\n",
       "    <tr>\n",
       "      <th>25</th>\n",
       "      <td>Kate Iwobi</td>\n",
       "      <td>269</td>\n",
       "      <td>Top 3</td>\n",
       "    </tr>\n",
       "    <tr>\n",
       "      <th>38</th>\n",
       "      <td>Amarachi Aneke</td>\n",
       "      <td>264</td>\n",
       "      <td>Top 4</td>\n",
       "    </tr>\n",
       "    <tr>\n",
       "      <th>36</th>\n",
       "      <td>Oluebube Aneke</td>\n",
       "      <td>263</td>\n",
       "      <td>Top 5</td>\n",
       "    </tr>\n",
       "  </tbody>\n",
       "</table>\n",
       "</div>"
      ],
      "text/plain": [
       "          Student Name  Score 2024   Rank\n",
       "8   Anatogu Chidiebere         290  Top 1\n",
       "15    Odinaka Precious         278  Top 2\n",
       "25          Kate Iwobi         269  Top 3\n",
       "38      Amarachi Aneke         264  Top 4\n",
       "36      Oluebube Aneke         263  Top 5"
      ]
     },
     "execution_count": 176,
     "metadata": {},
     "output_type": "execute_result"
    }
   ],
   "source": [
    "top_5_score"
   ]
  },
  {
   "cell_type": "code",
   "execution_count": 184,
   "id": "e7bb1ef0-199e-4900-aeaf-5e79c437810a",
   "metadata": {},
   "outputs": [
    {
     "data": {
      "image/png": "[encoded data removed]",
      "text/plain": [
       "<Figure size 600x300 with 1 Axes>"
      ]
     },
     "metadata": {},
     "output_type": "display_data"
    }
   ],
   "source": [
    "#plot a bar chart of the top 5 scores\n",
    "fig, ax = plt.subplots(figsize=[6,3])\n",
    "\n",
    "ax.bar(x=top_5_score['Rank'], height=top_5_score['Score 2024'])\n",
    "\n",
    "#add title and labels\n",
    "ax.set_title('Top 5 Scores')\n",
    "ax.set_xlabel('Scores')\n",
    "\n",
    "#remove spines\n",
    "ax.spines[['top', 'left', 'right']].set_visible(False)\n",
    "ax.yaxis.set_visible(False)\n",
    "\n",
    "#add annotation\n",
    "for index, values in enumerate(top_5_score['Score 2024']):\n",
    "    ax.annotate(values, xy=(index, values+5), ha='center', va='center')\n",
    "plt.show()"
   ]
  },
  {
   "cell_type": "markdown",
   "id": "d4545de4-c1e2-487c-aa96-c3d41b96234d",
   "metadata": {},
   "source": [
    "#### Least 5 Scores"
   ]
  },
  {
   "cell_type": "code",
   "execution_count": 185,
   "id": "f9dcb03f-52d0-4357-8539-45247991db73",
   "metadata": {},
   "outputs": [
    {
     "data": {
      "text/html": [
       "<div>\n",
       "<style scoped>\n",
       "    .dataframe tbody tr th:only-of-type {\n",
       "        vertical-align: middle;\n",
       "    }\n",
       "\n",
       "    .dataframe tbody tr th {\n",
       "        vertical-align: top;\n",
       "    }\n",
       "\n",
       "    .dataframe thead th {\n",
       "        text-align: right;\n",
       "    }\n",
       "</style>\n",
       "<table border=\"1\" class=\"dataframe\">\n",
       "  <thead>\n",
       "    <tr style=\"text-align: right;\">\n",
       "      <th></th>\n",
       "      <th>Student Name</th>\n",
       "      <th>Score 2024</th>\n",
       "    </tr>\n",
       "  </thead>\n",
       "  <tbody>\n",
       "    <tr>\n",
       "      <th>19</th>\n",
       "      <td>Akujieze Kosiso</td>\n",
       "      <td>168</td>\n",
       "    </tr>\n",
       "    <tr>\n",
       "      <th>35</th>\n",
       "      <td>Uche JohnMary</td>\n",
       "      <td>162</td>\n",
       "    </tr>\n",
       "    <tr>\n",
       "      <th>30</th>\n",
       "      <td>Uzochukwu Promise</td>\n",
       "      <td>161</td>\n",
       "    </tr>\n",
       "    <tr>\n",
       "      <th>41</th>\n",
       "      <td>Ndubude Jane</td>\n",
       "      <td>159</td>\n",
       "    </tr>\n",
       "    <tr>\n",
       "      <th>45</th>\n",
       "      <td>Ezinwanne Chinonso</td>\n",
       "      <td>148</td>\n",
       "    </tr>\n",
       "  </tbody>\n",
       "</table>\n",
       "</div>"
      ],
      "text/plain": [
       "          Student Name  Score 2024\n",
       "19     Akujieze Kosiso         168\n",
       "35       Uche JohnMary         162\n",
       "30   Uzochukwu Promise         161\n",
       "41        Ndubude Jane         159\n",
       "45  Ezinwanne Chinonso         148"
      ]
     },
     "execution_count": 185,
     "metadata": {},
     "output_type": "execute_result"
    }
   ],
   "source": [
    "#least 5 scores\n",
    "least_5_scores = df[['Student Name', 'Score 2024']].sort_values('Score 2024', ascending=False).tail(5)\n",
    "least_5_scores"
   ]
  },
  {
   "cell_type": "code",
   "execution_count": 187,
   "id": "929d7a16-94e2-4dd6-842a-28d792119420",
   "metadata": {},
   "outputs": [
    {
     "data": {
      "text/html": [
       "<div>\n",
       "<style scoped>\n",
       "    .dataframe tbody tr th:only-of-type {\n",
       "        vertical-align: middle;\n",
       "    }\n",
       "\n",
       "    .dataframe tbody tr th {\n",
       "        vertical-align: top;\n",
       "    }\n",
       "\n",
       "    .dataframe thead th {\n",
       "        text-align: right;\n",
       "    }\n",
       "</style>\n",
       "<table border=\"1\" class=\"dataframe\">\n",
       "  <thead>\n",
       "    <tr style=\"text-align: right;\">\n",
       "      <th></th>\n",
       "      <th>Student Name</th>\n",
       "      <th>Score 2024</th>\n",
       "      <th>Rank</th>\n",
       "    </tr>\n",
       "  </thead>\n",
       "  <tbody>\n",
       "    <tr>\n",
       "      <th>19</th>\n",
       "      <td>Akujieze Kosiso</td>\n",
       "      <td>168</td>\n",
       "      <td>bottom 5</td>\n",
       "    </tr>\n",
       "    <tr>\n",
       "      <th>35</th>\n",
       "      <td>Uche JohnMary</td>\n",
       "      <td>162</td>\n",
       "      <td>bottom 4</td>\n",
       "    </tr>\n",
       "    <tr>\n",
       "      <th>30</th>\n",
       "      <td>Uzochukwu Promise</td>\n",
       "      <td>161</td>\n",
       "      <td>bottom 3</td>\n",
       "    </tr>\n",
       "    <tr>\n",
       "      <th>41</th>\n",
       "      <td>Ndubude Jane</td>\n",
       "      <td>159</td>\n",
       "      <td>bottom 2</td>\n",
       "    </tr>\n",
       "    <tr>\n",
       "      <th>45</th>\n",
       "      <td>Ezinwanne Chinonso</td>\n",
       "      <td>148</td>\n",
       "      <td>bottom 1</td>\n",
       "    </tr>\n",
       "  </tbody>\n",
       "</table>\n",
       "</div>"
      ],
      "text/plain": [
       "          Student Name  Score 2024      Rank\n",
       "19     Akujieze Kosiso         168  bottom 5\n",
       "35       Uche JohnMary         162  bottom 4\n",
       "30   Uzochukwu Promise         161  bottom 3\n",
       "41        Ndubude Jane         159  bottom 2\n",
       "45  Ezinwanne Chinonso         148  bottom 1"
      ]
     },
     "execution_count": 187,
     "metadata": {},
     "output_type": "execute_result"
    }
   ],
   "source": [
    "#assign a default index to the student\n",
    "least_5_scores['Rank'] = ['bottom 5', 'bottom 4', 'bottom 3', 'bottom 2', 'bottom 1']\n",
    "least_5_scores"
   ]
  },
  {
   "cell_type": "code",
   "execution_count": 188,
   "id": "12ca5e76-3d10-4278-aaab-48db3d7a9be5",
   "metadata": {},
   "outputs": [
    {
     "data": {
      "image/png": "[encoded data removed]",
      "text/plain": [
       "<Figure size 600x300 with 1 Axes>"
      ]
     },
     "metadata": {},
     "output_type": "display_data"
    }
   ],
   "source": [
    "#plot a bar chart of the least 5 scores\n",
    "fig, ax = plt.subplots(figsize=[6,3])\n",
    "\n",
    "ax.bar(x=least_5_scores['Rank'], height=least_5_scores['Score 2024'])\n",
    "\n",
    "#add title and labels\n",
    "ax.set_title('Least 5 Scores')\n",
    "ax.set_xlabel('Scores')\n",
    "\n",
    "#remove spines\n",
    "ax.spines[['top', 'left', 'right']].set_visible(False)\n",
    "ax.yaxis.set_visible(False)\n",
    "\n",
    "#add annotation\n",
    "for index, values in enumerate(least_5_scores['Score 2024']):\n",
    "    ax.annotate(values, xy=(index, values+5), ha='center', va='center')\n",
    "plt.show()"
   ]
  },
  {
   "cell_type": "markdown",
   "id": "c058995a-26b1-4643-ae1f-b80a22e46733",
   "metadata": {},
   "source": [
    "### Question 3: What Percentage Score below 200, 200-249 and above 250"
   ]
  },
  {
   "cell_type": "markdown",
   "id": "a9299478-968c-4e2b-9362-4770c5dc599b",
   "metadata": {},
   "source": [
    "##### Create a range for below 200, 200-249, 250-299, 300 above"
   ]
  },
  {
   "cell_type": "code",
   "execution_count": 192,
   "id": "7e736a20-88f1-4f10-be36-e768ad6c9aeb",
   "metadata": {},
   "outputs": [],
   "source": [
    "#create a list of score range\n",
    "score_range = []\n",
    "for x in df['Score 2024']:\n",
    "    if x < 200:\n",
    "        score_range.append('Below 200')\n",
    "    elif x < 250:\n",
    "        score_range.append('200 - 249')\n",
    "    elif x < 300:\n",
    "        score_range.append('250 - 299')\n",
    "    elif x > 300:\n",
    "        score_range.append('Above 300')\n"
   ]
  },
  {
   "cell_type": "code",
   "execution_count": 193,
   "id": "69364633-d515-4390-9655-2c914d761c6b",
   "metadata": {},
   "outputs": [],
   "source": [
    "#create a column score range\n",
    "df['Score Range'] = score_range"
   ]
  },
  {
   "cell_type": "code",
   "execution_count": 196,
   "id": "476c2c5f-44ec-4a90-902c-53aea3fddb4f",
   "metadata": {},
   "outputs": [
    {
     "data": {
      "text/html": [
       "<div>\n",
       "<style scoped>\n",
       "    .dataframe tbody tr th:only-of-type {\n",
       "        vertical-align: middle;\n",
       "    }\n",
       "\n",
       "    .dataframe tbody tr th {\n",
       "        vertical-align: top;\n",
       "    }\n",
       "\n",
       "    .dataframe thead th {\n",
       "        text-align: right;\n",
       "    }\n",
       "</style>\n",
       "<table border=\"1\" class=\"dataframe\">\n",
       "  <thead>\n",
       "    <tr style=\"text-align: right;\">\n",
       "      <th></th>\n",
       "      <th>Score Range</th>\n",
       "      <th>total_no</th>\n",
       "    </tr>\n",
       "  </thead>\n",
       "  <tbody>\n",
       "    <tr>\n",
       "      <th>0</th>\n",
       "      <td>200 - 249</td>\n",
       "      <td>27</td>\n",
       "    </tr>\n",
       "    <tr>\n",
       "      <th>1</th>\n",
       "      <td>250 - 299</td>\n",
       "      <td>8</td>\n",
       "    </tr>\n",
       "    <tr>\n",
       "      <th>2</th>\n",
       "      <td>Below 200</td>\n",
       "      <td>17</td>\n",
       "    </tr>\n",
       "  </tbody>\n",
       "</table>\n",
       "</div>"
      ],
      "text/plain": [
       "  Score Range  total_no\n",
       "0   200 - 249        27\n",
       "1   250 - 299         8\n",
       "2   Below 200        17"
      ]
     },
     "execution_count": 196,
     "metadata": {},
     "output_type": "execute_result"
    }
   ],
   "source": [
    "#group by score range\n",
    "score_category = df.groupby(['Score Range'], as_index=False).agg(total_no = ('Student Name', 'count'))\n",
    "score_category"
   ]
  },
  {
   "cell_type": "code",
   "execution_count": 198,
   "id": "dcdecd5f-c94f-4cd9-bef4-a83053727026",
   "metadata": {},
   "outputs": [
    {
     "data": {
      "text/html": [
       "<div>\n",
       "<style scoped>\n",
       "    .dataframe tbody tr th:only-of-type {\n",
       "        vertical-align: middle;\n",
       "    }\n",
       "\n",
       "    .dataframe tbody tr th {\n",
       "        vertical-align: top;\n",
       "    }\n",
       "\n",
       "    .dataframe thead th {\n",
       "        text-align: right;\n",
       "    }\n",
       "</style>\n",
       "<table border=\"1\" class=\"dataframe\">\n",
       "  <thead>\n",
       "    <tr style=\"text-align: right;\">\n",
       "      <th></th>\n",
       "      <th>Score Range</th>\n",
       "      <th>total_no</th>\n",
       "      <th>perc</th>\n",
       "    </tr>\n",
       "  </thead>\n",
       "  <tbody>\n",
       "    <tr>\n",
       "      <th>0</th>\n",
       "      <td>200 - 249</td>\n",
       "      <td>27</td>\n",
       "      <td>52.0</td>\n",
       "    </tr>\n",
       "    <tr>\n",
       "      <th>1</th>\n",
       "      <td>250 - 299</td>\n",
       "      <td>8</td>\n",
       "      <td>15.0</td>\n",
       "    </tr>\n",
       "    <tr>\n",
       "      <th>2</th>\n",
       "      <td>Below 200</td>\n",
       "      <td>17</td>\n",
       "      <td>33.0</td>\n",
       "    </tr>\n",
       "  </tbody>\n",
       "</table>\n",
       "</div>"
      ],
      "text/plain": [
       "  Score Range  total_no  perc\n",
       "0   200 - 249        27  52.0\n",
       "1   250 - 299         8  15.0\n",
       "2   Below 200        17  33.0"
      ]
     },
     "execution_count": 198,
     "metadata": {},
     "output_type": "execute_result"
    }
   ],
   "source": [
    "#create the percentage os score category\n",
    "score_category['perc'] = ((score_category['total_no']/score_category['total_no'].sum())*100).round(0)\n",
    "score_category"
   ]
  },
  {
   "cell_type": "code",
   "execution_count": 203,
   "id": "ab9e0110-681c-42bc-8a8b-953c9792e2dc",
   "metadata": {},
   "outputs": [
    {
     "data": {
      "text/html": [
       "<div>\n",
       "<style scoped>\n",
       "    .dataframe tbody tr th:only-of-type {\n",
       "        vertical-align: middle;\n",
       "    }\n",
       "\n",
       "    .dataframe tbody tr th {\n",
       "        vertical-align: top;\n",
       "    }\n",
       "\n",
       "    .dataframe thead th {\n",
       "        text-align: right;\n",
       "    }\n",
       "</style>\n",
       "<table border=\"1\" class=\"dataframe\">\n",
       "  <thead>\n",
       "    <tr style=\"text-align: right;\">\n",
       "      <th></th>\n",
       "      <th>Score Range</th>\n",
       "      <th>total_no</th>\n",
       "      <th>perc</th>\n",
       "      <th>index</th>\n",
       "    </tr>\n",
       "  </thead>\n",
       "  <tbody>\n",
       "    <tr>\n",
       "      <th>0</th>\n",
       "      <td>200 - 249</td>\n",
       "      <td>27</td>\n",
       "      <td>52.0</td>\n",
       "      <td>2</td>\n",
       "    </tr>\n",
       "    <tr>\n",
       "      <th>1</th>\n",
       "      <td>250 - 299</td>\n",
       "      <td>8</td>\n",
       "      <td>15.0</td>\n",
       "      <td>3</td>\n",
       "    </tr>\n",
       "    <tr>\n",
       "      <th>2</th>\n",
       "      <td>Below 200</td>\n",
       "      <td>17</td>\n",
       "      <td>33.0</td>\n",
       "      <td>1</td>\n",
       "    </tr>\n",
       "  </tbody>\n",
       "</table>\n",
       "</div>"
      ],
      "text/plain": [
       "  Score Range  total_no  perc  index\n",
       "0   200 - 249        27  52.0      2\n",
       "1   250 - 299         8  15.0      3\n",
       "2   Below 200        17  33.0      1"
      ]
     },
     "execution_count": 203,
     "metadata": {},
     "output_type": "execute_result"
    }
   ],
   "source": [
    "#indexing the category\n",
    "cat_index = []\n",
    "for x in score_category['Score Range']:\n",
    "    if x == 'Below 200':\n",
    "        cat_index.append(1)\n",
    "    elif x == '200 - 249':\n",
    "        cat_index.append(2)\n",
    "    elif x == '250 - 299':\n",
    "        cat_index.append(3)\n",
    "score_category['index'] = cat_index\n",
    "score_category"
   ]
  },
  {
   "cell_type": "code",
   "execution_count": 212,
   "id": "32513730-56c6-4025-9451-2ecbfce28fac",
   "metadata": {},
   "outputs": [
    {
     "data": {
      "image/png": "[encoded data removed]",
      "text/plain": [
       "<Figure size 800x300 with 2 Axes>"
      ]
     },
     "metadata": {},
     "output_type": "display_data"
    }
   ],
   "source": [
    "#plot a bar chart of the least 5 scores\n",
    "fig, ax = plt.subplots(1, 2, figsize=[8,3])\n",
    "\n",
    "#sort the dataframe\n",
    "score_category_sorted = score_category.sort_values('index', ascending=True)\n",
    "ax[0].bar(x=score_category_sorted['Score Range'], height=score_category_sorted['total_no'])\n",
    "\n",
    "#add title and labels\n",
    "fig.suptitle('Number & Percentage(%) of Students by Score category')\n",
    "ax[0].set_xlabel('Score category')\n",
    "\n",
    "#remove spines\n",
    "ax[0].spines[['top', 'left', 'right']].set_visible(False)\n",
    "ax[0].yaxis.set_visible(False)\n",
    "\n",
    "#add annotation\n",
    "for index, values in enumerate(score_category_sorted['total_no']):\n",
    "    ax[0].annotate(values, xy=(index, values+1), ha='center', va='center')\n",
    "\n",
    "#second plot\n",
    "ax[1].pie(score_category_sorted['total_no'], labels=score_category_sorted['Score Range'], autopct=\"%.0f%%\", startangle=90)\n",
    "plt.show()"
   ]
  },
  {
   "cell_type": "markdown",
   "id": "1c3b7230-da91-4ab5-a606-8db6d54fa32c",
   "metadata": {},
   "source": [
    "- The chart shows that more than 50% score between **200-249**, 15% scored between **250-299** and 33% scored below 200"
   ]
  },
  {
   "cell_type": "markdown",
   "id": "87e81afa-439d-4a70-b89d-a44af4e4e43d",
   "metadata": {},
   "source": [
    "### Mean JAMB Score"
   ]
  },
  {
   "cell_type": "code",
   "execution_count": 218,
   "id": "93a5a38f-b7b1-465d-ad7e-323c710dc2c6",
   "metadata": {},
   "outputs": [
    {
     "data": {
      "text/plain": [
       "212.73076923076923"
      ]
     },
     "execution_count": 218,
     "metadata": {},
     "output_type": "execute_result"
    }
   ],
   "source": [
    "mean_score = df['Score 2024'].mean()\n",
    "mean_score"
   ]
  },
  {
   "cell_type": "markdown",
   "id": "27f4dd7d-233d-4523-872b-6415cbd43f92",
   "metadata": {},
   "source": [
    "### Mean JAMB Score by Gender"
   ]
  },
  {
   "cell_type": "code",
   "execution_count": 216,
   "id": "732a8a2a-ef2d-4bec-a7b1-5063872be4c5",
   "metadata": {},
   "outputs": [
    {
     "data": {
      "text/html": [
       "<div>\n",
       "<style scoped>\n",
       "    .dataframe tbody tr th:only-of-type {\n",
       "        vertical-align: middle;\n",
       "    }\n",
       "\n",
       "    .dataframe tbody tr th {\n",
       "        vertical-align: top;\n",
       "    }\n",
       "\n",
       "    .dataframe thead th {\n",
       "        text-align: right;\n",
       "    }\n",
       "</style>\n",
       "<table border=\"1\" class=\"dataframe\">\n",
       "  <thead>\n",
       "    <tr style=\"text-align: right;\">\n",
       "      <th></th>\n",
       "      <th>Gender</th>\n",
       "      <th>mean_score</th>\n",
       "    </tr>\n",
       "  </thead>\n",
       "  <tbody>\n",
       "    <tr>\n",
       "      <th>0</th>\n",
       "      <td>F</td>\n",
       "      <td>211.783784</td>\n",
       "    </tr>\n",
       "    <tr>\n",
       "      <th>1</th>\n",
       "      <td>M</td>\n",
       "      <td>215.066667</td>\n",
       "    </tr>\n",
       "  </tbody>\n",
       "</table>\n",
       "</div>"
      ],
      "text/plain": [
       "  Gender  mean_score\n",
       "0      F  211.783784\n",
       "1      M  215.066667"
      ]
     },
     "execution_count": 216,
     "metadata": {},
     "output_type": "execute_result"
    }
   ],
   "source": [
    "mean_score_gender = df.groupby(['Gender'], as_index=False).agg(mean_score=('Score 2024', 'mean'))\n",
    "mean_score_gender"
   ]
  },
  {
   "cell_type": "markdown",
   "id": "9fda92aa-aa11-4ded-944d-4255a84b471f",
   "metadata": {},
   "source": [
    "#### The distribution of score by gender"
   ]
  },
  {
   "cell_type": "code",
   "execution_count": 228,
   "id": "3faf68a9-1461-4336-94a0-ce01284e1725",
   "metadata": {},
   "outputs": [],
   "source": [
    "#filter by gender=male\n",
    "male_gender = df[df['Gender']==\"M\"]\n",
    "female_gender = df[df['Gender']=='F']"
   ]
  },
  {
   "cell_type": "code",
   "execution_count": 233,
   "id": "61ef44e2-c6ca-4c2c-b465-95acf3593db4",
   "metadata": {},
   "outputs": [
    {
     "name": "stderr",
     "output_type": "stream",
     "text": [
      "C:\\Users\\MR VALENTINE\\anaconda3\\Lib\\site-packages\\seaborn\\_oldcore.py:1119: FutureWarning: use_inf_as_na option is deprecated and will be removed in a future version. Convert inf values to NaN before operating instead.\n",
      "  with pd.option_context('mode.use_inf_as_na', True):\n"
     ]
    },
    {
     "data": {
      "image/png": "[encoded data removed]",
      "text/plain": [
       "<Figure size 500x400 with 1 Axes>"
      ]
     },
     "metadata": {},
     "output_type": "display_data"
    }
   ],
   "source": [
    "#plot the distribution of the score by female\n",
    "fig, ax = plt.subplots(figsize=[5,4])\n",
    "\n",
    "sns.histplot(data=female_gender, x='Score 2024', kde=True)\n",
    "plt.show()"
   ]
  },
  {
   "cell_type": "markdown",
   "id": "2cde4d4d-fb3f-4672-b7df-925198ad45b4",
   "metadata": {},
   "source": [
    "- The JAMB score for the female student is normally distributed"
   ]
  },
  {
   "cell_type": "markdown",
   "id": "0ca01d57-1320-44d8-9f2d-db26c1962a45",
   "metadata": {},
   "source": [
    "### Question 4: What is the total revenue generated and by month?"
   ]
  },
  {
   "cell_type": "code",
   "execution_count": 234,
   "id": "635e889f-87f7-4294-8dc8-913dd2fdec7e",
   "metadata": {},
   "outputs": [
    {
     "data": {
      "text/plain": [
       "Index(['Student Name', 'Marital Status', 'Gender', 'Score 2023', 'Score 2024',\n",
       "       'English', 'Chemistry', 'Physics', 'Biology', 'Total', 'Date of Birth',\n",
       "       'Course Registered', 'University Registered', 'Date Registered',\n",
       "       'Date Stopped', 'Lesson Fee', 'Work Status', 'Hours Read',\n",
       "       'Read Past Questions', 'Teaching Satisfaction', 'Finished on time',\n",
       "       'Computer Off', 'Questions Different', 'Pay Yourself',\n",
       "       'Close Proximity to center', 'Student Age', 'Month Registered',\n",
       "       'Month Name', 'Month Stopped', 'Lesson Duration (Months)',\n",
       "       'Total Lesson Fee', 'Satisfaction', 'Score Range'],\n",
       "      dtype='object')"
      ]
     },
     "execution_count": 234,
     "metadata": {},
     "output_type": "execute_result"
    }
   ],
   "source": [
    "df.columns"
   ]
  },
  {
   "cell_type": "markdown",
   "id": "ec7f231c-b410-4470-8440-e171b66eb2ca",
   "metadata": {},
   "source": [
    "#### Number of Student enrolled per month"
   ]
  },
  {
   "cell_type": "code",
   "execution_count": 240,
   "id": "9b9c6723-c892-457f-ac7c-42aa561ef4c2",
   "metadata": {},
   "outputs": [
    {
     "data": {
      "text/html": [
       "<div>\n",
       "<style scoped>\n",
       "    .dataframe tbody tr th:only-of-type {\n",
       "        vertical-align: middle;\n",
       "    }\n",
       "\n",
       "    .dataframe tbody tr th {\n",
       "        vertical-align: top;\n",
       "    }\n",
       "\n",
       "    .dataframe thead th {\n",
       "        text-align: right;\n",
       "    }\n",
       "</style>\n",
       "<table border=\"1\" class=\"dataframe\">\n",
       "  <thead>\n",
       "    <tr style=\"text-align: right;\">\n",
       "      <th></th>\n",
       "      <th>Month Registered</th>\n",
       "      <th>Month Name</th>\n",
       "      <th>student_reg</th>\n",
       "    </tr>\n",
       "  </thead>\n",
       "  <tbody>\n",
       "    <tr>\n",
       "      <th>0</th>\n",
       "      <td>1</td>\n",
       "      <td>January</td>\n",
       "      <td>33</td>\n",
       "    </tr>\n",
       "    <tr>\n",
       "      <th>1</th>\n",
       "      <td>2</td>\n",
       "      <td>February</td>\n",
       "      <td>9</td>\n",
       "    </tr>\n",
       "    <tr>\n",
       "      <th>2</th>\n",
       "      <td>3</td>\n",
       "      <td>March</td>\n",
       "      <td>9</td>\n",
       "    </tr>\n",
       "    <tr>\n",
       "      <th>3</th>\n",
       "      <td>4</td>\n",
       "      <td>April</td>\n",
       "      <td>1</td>\n",
       "    </tr>\n",
       "  </tbody>\n",
       "</table>\n",
       "</div>"
      ],
      "text/plain": [
       "   Month Registered Month Name  student_reg\n",
       "0                 1    January           33\n",
       "1                 2   February            9\n",
       "2                 3      March            9\n",
       "3                 4      April            1"
      ]
     },
     "execution_count": 240,
     "metadata": {},
     "output_type": "execute_result"
    }
   ],
   "source": [
    "#Number of student enrolled by month\n",
    "student_reg = df.groupby(['Month Registered', 'Month Name'], as_index=False).agg(student_reg=('Student Name', 'count')).sort_values('Month Registered', \n",
    "                                                                                                                                    ascending=True)\n",
    "student_reg"
   ]
  },
  {
   "cell_type": "code",
   "execution_count": null,
   "id": "4b910ff9-1fa1-4b6f-a4a0-76b6b365f1d6",
   "metadata": {},
   "outputs": [],
   "source": []
  },
  {
   "cell_type": "code",
   "execution_count": null,
   "id": "679d26cf-018c-483a-bf89-be18a178180a",
   "metadata": {},
   "outputs": [],
   "source": []
  },
  {
   "cell_type": "code",
   "execution_count": 235,
   "id": "a93843b6-e333-4e38-bf09-953802866569",
   "metadata": {},
   "outputs": [
    {
     "data": {
      "text/plain": [
       "1584000"
      ]
     },
     "execution_count": 235,
     "metadata": {},
     "output_type": "execute_result"
    }
   ],
   "source": [
    "#determine the total revenue generated\n",
    "total_revenue = df['Total Lesson Fee'].sum()\n",
    "total_revenue"
   ]
  },
  {
   "cell_type": "markdown",
   "id": "13da29b4-bb60-4d6a-a815-506d483dec41",
   "metadata": {},
   "source": [
    "#### Total Revenue in January"
   ]
  },
  {
   "cell_type": "code",
   "execution_count": 242,
   "id": "d56368f5-8b95-4972-91e0-425abfc16900",
   "metadata": {},
   "outputs": [],
   "source": [
    "#filter student who registered in January\n",
    "jan_reg = df[df['Date Registered']<= '2024-01-31']"
   ]
  },
  {
   "cell_type": "code",
   "execution_count": 264,
   "id": "fa869113-df58-482d-a815-e91ad29676d7",
   "metadata": {},
   "outputs": [
    {
     "data": {
      "text/html": [
       "<div>\n",
       "<style scoped>\n",
       "    .dataframe tbody tr th:only-of-type {\n",
       "        vertical-align: middle;\n",
       "    }\n",
       "\n",
       "    .dataframe tbody tr th {\n",
       "        vertical-align: top;\n",
       "    }\n",
       "\n",
       "    .dataframe thead th {\n",
       "        text-align: right;\n",
       "    }\n",
       "</style>\n",
       "<table border=\"1\" class=\"dataframe\">\n",
       "  <thead>\n",
       "    <tr style=\"text-align: right;\">\n",
       "      <th></th>\n",
       "      <th>Month Name</th>\n",
       "      <th>Student_Reg</th>\n",
       "      <th>Total_Revenue</th>\n",
       "    </tr>\n",
       "  </thead>\n",
       "  <tbody>\n",
       "    <tr>\n",
       "      <th>0</th>\n",
       "      <td>January</td>\n",
       "      <td>33</td>\n",
       "      <td>429000</td>\n",
       "    </tr>\n",
       "  </tbody>\n",
       "</table>\n",
       "</div>"
      ],
      "text/plain": [
       "  Month Name  Student_Reg  Total_Revenue\n",
       "0    January           33         429000"
      ]
     },
     "execution_count": 264,
     "metadata": {},
     "output_type": "execute_result"
    }
   ],
   "source": [
    "r_jan = jan_reg.groupby(['Month Name'], as_index=False).agg(Student_Reg=('Student Name', 'count'), Total_Revenue=('Lesson Fee', 'sum'))\n",
    "r_jan"
   ]
  },
  {
   "cell_type": "markdown",
   "id": "d3d8f7c9-55f7-406e-938a-f800e4ff2166",
   "metadata": {},
   "source": [
    "#### Total Revenue in February"
   ]
  },
  {
   "cell_type": "code",
   "execution_count": 250,
   "id": "8cf7af9e-64ef-494b-9cb3-d7ead4f32dd4",
   "metadata": {},
   "outputs": [],
   "source": [
    "#filter student who registered between january and feb\n",
    "feb_reg = df[df['Date Registered']<= '2024-02-29']"
   ]
  },
  {
   "cell_type": "code",
   "execution_count": 252,
   "id": "9a6e91a4-a6b4-4833-bae1-ad9493e8369b",
   "metadata": {},
   "outputs": [
    {
     "data": {
      "text/plain": [
       "Month Name\n",
       "January     33\n",
       "February     9\n",
       "Name: count, dtype: int64"
      ]
     },
     "execution_count": 252,
     "metadata": {},
     "output_type": "execute_result"
    }
   ],
   "source": [
    "feb_reg['Month Name'].value_counts()"
   ]
  },
  {
   "cell_type": "code",
   "execution_count": 253,
   "id": "a5b1837e-42fd-415e-a4e2-d1755e34ef51",
   "metadata": {},
   "outputs": [],
   "source": [
    "#create a column with the same month name 'February\n",
    "list1 = []\n",
    "for x in feb_reg['Student Name']:\n",
    "    list1.append('February')\n"
   ]
  },
  {
   "cell_type": "code",
   "execution_count": 256,
   "id": "76768d82-0dca-45b6-a604-326b6b23884b",
   "metadata": {},
   "outputs": [
    {
     "name": "stderr",
     "output_type": "stream",
     "text": [
      "C:\\Users\\MR VALENTINE\\AppData\\Local\\Temp\\ipykernel_11328\\939676874.py:1: SettingWithCopyWarning: \n",
      "A value is trying to be set on a copy of a slice from a DataFrame.\n",
      "Try using .loc[row_indexer,col_indexer] = value instead\n",
      "\n",
      "See the caveats in the documentation: https://pandas.pydata.org/pandas-docs/stable/user_guide/indexing.html#returning-a-view-versus-a-copy\n",
      "  feb_reg['Month_name'] = list1\n"
     ]
    }
   ],
   "source": [
    "feb_reg['Month_name'] = list1"
   ]
  },
  {
   "cell_type": "code",
   "execution_count": 265,
   "id": "2ba4667b-5e0a-4eb8-912b-8da49ce68efc",
   "metadata": {},
   "outputs": [
    {
     "data": {
      "text/html": [
       "<div>\n",
       "<style scoped>\n",
       "    .dataframe tbody tr th:only-of-type {\n",
       "        vertical-align: middle;\n",
       "    }\n",
       "\n",
       "    .dataframe tbody tr th {\n",
       "        vertical-align: top;\n",
       "    }\n",
       "\n",
       "    .dataframe thead th {\n",
       "        text-align: right;\n",
       "    }\n",
       "</style>\n",
       "<table border=\"1\" class=\"dataframe\">\n",
       "  <thead>\n",
       "    <tr style=\"text-align: right;\">\n",
       "      <th></th>\n",
       "      <th>Month_name</th>\n",
       "      <th>Student_Reg</th>\n",
       "      <th>Total_Revenue</th>\n",
       "    </tr>\n",
       "  </thead>\n",
       "  <tbody>\n",
       "    <tr>\n",
       "      <th>0</th>\n",
       "      <td>February</td>\n",
       "      <td>42</td>\n",
       "      <td>527000</td>\n",
       "    </tr>\n",
       "  </tbody>\n",
       "</table>\n",
       "</div>"
      ],
      "text/plain": [
       "  Month_name  Student_Reg  Total_Revenue\n",
       "0   February           42         527000"
      ]
     },
     "execution_count": 265,
     "metadata": {},
     "output_type": "execute_result"
    }
   ],
   "source": [
    "#group by month\n",
    "r_feb = feb_reg.groupby(['Month_name'], as_index=False).agg(Student_Reg=('Student Name', 'count'), Total_Revenue=('Lesson Fee', 'sum'))\n",
    "r_feb"
   ]
  },
  {
   "cell_type": "markdown",
   "id": "2fbdc624-90ef-4680-8a8b-d0fea86d949a",
   "metadata": {},
   "source": [
    "#### Total Revenue in March"
   ]
  },
  {
   "cell_type": "code",
   "execution_count": 259,
   "id": "f98ab072-539d-4627-8960-efc03b292e9d",
   "metadata": {},
   "outputs": [],
   "source": [
    "#filter student who registered between january and march\n",
    "mar_reg = df[df['Date Registered']<= '2024-03-31']"
   ]
  },
  {
   "cell_type": "code",
   "execution_count": 260,
   "id": "a4fc3cc2-8aea-4bb1-ab64-a83539394510",
   "metadata": {},
   "outputs": [
    {
     "data": {
      "text/plain": [
       "Month Name\n",
       "January     33\n",
       "February     9\n",
       "March        9\n",
       "Name: count, dtype: int64"
      ]
     },
     "execution_count": 260,
     "metadata": {},
     "output_type": "execute_result"
    }
   ],
   "source": [
    "mar_reg['Month Name'].value_counts()"
   ]
  },
  {
   "cell_type": "code",
   "execution_count": 261,
   "id": "75d19cda-bc65-4604-b413-8fcaaba814f2",
   "metadata": {},
   "outputs": [],
   "source": [
    "#create a column with the same month name 'February\n",
    "list2 = []\n",
    "for x in mar_reg['Student Name']:\n",
    "    list2.append('March')\n"
   ]
  },
  {
   "cell_type": "code",
   "execution_count": 262,
   "id": "80b8f588-cadc-4f22-bbc3-057dab1eb2ac",
   "metadata": {},
   "outputs": [
    {
     "name": "stderr",
     "output_type": "stream",
     "text": [
      "C:\\Users\\MR VALENTINE\\AppData\\Local\\Temp\\ipykernel_11328\\1224236231.py:1: SettingWithCopyWarning: \n",
      "A value is trying to be set on a copy of a slice from a DataFrame.\n",
      "Try using .loc[row_indexer,col_indexer] = value instead\n",
      "\n",
      "See the caveats in the documentation: https://pandas.pydata.org/pandas-docs/stable/user_guide/indexing.html#returning-a-view-versus-a-copy\n",
      "  mar_reg['Month_name'] = list2\n"
     ]
    }
   ],
   "source": [
    "mar_reg['Month_name'] = list2"
   ]
  },
  {
   "cell_type": "code",
   "execution_count": 266,
   "id": "8e89e835-9b61-41c1-a378-39d90a9cadb5",
   "metadata": {},
   "outputs": [
    {
     "data": {
      "text/html": [
       "<div>\n",
       "<style scoped>\n",
       "    .dataframe tbody tr th:only-of-type {\n",
       "        vertical-align: middle;\n",
       "    }\n",
       "\n",
       "    .dataframe tbody tr th {\n",
       "        vertical-align: top;\n",
       "    }\n",
       "\n",
       "    .dataframe thead th {\n",
       "        text-align: right;\n",
       "    }\n",
       "</style>\n",
       "<table border=\"1\" class=\"dataframe\">\n",
       "  <thead>\n",
       "    <tr style=\"text-align: right;\">\n",
       "      <th></th>\n",
       "      <th>Month_name</th>\n",
       "      <th>Student_Reg</th>\n",
       "      <th>Total_Revenue</th>\n",
       "    </tr>\n",
       "  </thead>\n",
       "  <tbody>\n",
       "    <tr>\n",
       "      <th>0</th>\n",
       "      <td>March</td>\n",
       "      <td>51</td>\n",
       "      <td>628000</td>\n",
       "    </tr>\n",
       "  </tbody>\n",
       "</table>\n",
       "</div>"
      ],
      "text/plain": [
       "  Month_name  Student_Reg  Total_Revenue\n",
       "0      March           51         628000"
      ]
     },
     "execution_count": 266,
     "metadata": {},
     "output_type": "execute_result"
    }
   ],
   "source": [
    "#group by month\n",
    "r_mar = mar_reg.groupby(['Month_name'], as_index=False).agg(Student_Reg=('Student Name', 'count'), Total_Revenue=('Lesson Fee', 'sum'))\n",
    "r_mar"
   ]
  },
  {
   "cell_type": "code",
   "execution_count": 267,
   "id": "df8ebfad-ac2b-432f-8c31-53ef6093cacf",
   "metadata": {},
   "outputs": [],
   "source": [
    "#rename columns\n",
    "r_feb.rename(columns={\n",
    "    'Month_name': 'Month Name'\n",
    "}, inplace=True\n",
    "            )\n",
    "\n",
    "r_mar.rename(columns={\n",
    "    'Month_name': 'Month Name'\n",
    "}, inplace=True\n",
    "            )"
   ]
  },
  {
   "cell_type": "code",
   "execution_count": 268,
   "id": "77651b9f-7623-421d-b561-a3f0a5274829",
   "metadata": {},
   "outputs": [
    {
     "data": {
      "text/html": [
       "<div>\n",
       "<style scoped>\n",
       "    .dataframe tbody tr th:only-of-type {\n",
       "        vertical-align: middle;\n",
       "    }\n",
       "\n",
       "    .dataframe tbody tr th {\n",
       "        vertical-align: top;\n",
       "    }\n",
       "\n",
       "    .dataframe thead th {\n",
       "        text-align: right;\n",
       "    }\n",
       "</style>\n",
       "<table border=\"1\" class=\"dataframe\">\n",
       "  <thead>\n",
       "    <tr style=\"text-align: right;\">\n",
       "      <th></th>\n",
       "      <th>Month Name</th>\n",
       "      <th>Student_Reg</th>\n",
       "      <th>Total_Revenue</th>\n",
       "    </tr>\n",
       "  </thead>\n",
       "  <tbody>\n",
       "    <tr>\n",
       "      <th>0</th>\n",
       "      <td>January</td>\n",
       "      <td>33</td>\n",
       "      <td>429000</td>\n",
       "    </tr>\n",
       "  </tbody>\n",
       "</table>\n",
       "</div>"
      ],
      "text/plain": [
       "  Month Name  Student_Reg  Total_Revenue\n",
       "0    January           33         429000"
      ]
     },
     "execution_count": 268,
     "metadata": {},
     "output_type": "execute_result"
    }
   ],
   "source": [
    "r_jan"
   ]
  },
  {
   "cell_type": "code",
   "execution_count": 269,
   "id": "32d0d777-1f46-4ca7-bee1-c9d75bfbf40b",
   "metadata": {},
   "outputs": [
    {
     "data": {
      "text/html": [
       "<div>\n",
       "<style scoped>\n",
       "    .dataframe tbody tr th:only-of-type {\n",
       "        vertical-align: middle;\n",
       "    }\n",
       "\n",
       "    .dataframe tbody tr th {\n",
       "        vertical-align: top;\n",
       "    }\n",
       "\n",
       "    .dataframe thead th {\n",
       "        text-align: right;\n",
       "    }\n",
       "</style>\n",
       "<table border=\"1\" class=\"dataframe\">\n",
       "  <thead>\n",
       "    <tr style=\"text-align: right;\">\n",
       "      <th></th>\n",
       "      <th>Month Name</th>\n",
       "      <th>Student_Reg</th>\n",
       "      <th>Total_Revenue</th>\n",
       "    </tr>\n",
       "  </thead>\n",
       "  <tbody>\n",
       "    <tr>\n",
       "      <th>0</th>\n",
       "      <td>February</td>\n",
       "      <td>42</td>\n",
       "      <td>527000</td>\n",
       "    </tr>\n",
       "  </tbody>\n",
       "</table>\n",
       "</div>"
      ],
      "text/plain": [
       "  Month Name  Student_Reg  Total_Revenue\n",
       "0   February           42         527000"
      ]
     },
     "execution_count": 269,
     "metadata": {},
     "output_type": "execute_result"
    }
   ],
   "source": [
    "r_feb"
   ]
  },
  {
   "cell_type": "code",
   "execution_count": 270,
   "id": "eb87064f-609c-47cc-b1c0-ab33099d2153",
   "metadata": {},
   "outputs": [
    {
     "data": {
      "text/html": [
       "<div>\n",
       "<style scoped>\n",
       "    .dataframe tbody tr th:only-of-type {\n",
       "        vertical-align: middle;\n",
       "    }\n",
       "\n",
       "    .dataframe tbody tr th {\n",
       "        vertical-align: top;\n",
       "    }\n",
       "\n",
       "    .dataframe thead th {\n",
       "        text-align: right;\n",
       "    }\n",
       "</style>\n",
       "<table border=\"1\" class=\"dataframe\">\n",
       "  <thead>\n",
       "    <tr style=\"text-align: right;\">\n",
       "      <th></th>\n",
       "      <th>Month Name</th>\n",
       "      <th>Student_Reg</th>\n",
       "      <th>Total_Revenue</th>\n",
       "    </tr>\n",
       "  </thead>\n",
       "  <tbody>\n",
       "    <tr>\n",
       "      <th>0</th>\n",
       "      <td>March</td>\n",
       "      <td>51</td>\n",
       "      <td>628000</td>\n",
       "    </tr>\n",
       "  </tbody>\n",
       "</table>\n",
       "</div>"
      ],
      "text/plain": [
       "  Month Name  Student_Reg  Total_Revenue\n",
       "0      March           51         628000"
      ]
     },
     "execution_count": 270,
     "metadata": {},
     "output_type": "execute_result"
    }
   ],
   "source": [
    "r_mar"
   ]
  },
  {
   "cell_type": "code",
   "execution_count": 272,
   "id": "e1ae297b-f50b-4ddf-950d-be83b22e039b",
   "metadata": {},
   "outputs": [
    {
     "data": {
      "text/html": [
       "<div>\n",
       "<style scoped>\n",
       "    .dataframe tbody tr th:only-of-type {\n",
       "        vertical-align: middle;\n",
       "    }\n",
       "\n",
       "    .dataframe tbody tr th {\n",
       "        vertical-align: top;\n",
       "    }\n",
       "\n",
       "    .dataframe thead th {\n",
       "        text-align: right;\n",
       "    }\n",
       "</style>\n",
       "<table border=\"1\" class=\"dataframe\">\n",
       "  <thead>\n",
       "    <tr style=\"text-align: right;\">\n",
       "      <th></th>\n",
       "      <th>Month Name</th>\n",
       "      <th>Student_Reg</th>\n",
       "      <th>Total_Revenue</th>\n",
       "    </tr>\n",
       "  </thead>\n",
       "  <tbody>\n",
       "    <tr>\n",
       "      <th>0</th>\n",
       "      <td>January</td>\n",
       "      <td>33</td>\n",
       "      <td>429000</td>\n",
       "    </tr>\n",
       "    <tr>\n",
       "      <th>0</th>\n",
       "      <td>February</td>\n",
       "      <td>42</td>\n",
       "      <td>527000</td>\n",
       "    </tr>\n",
       "    <tr>\n",
       "      <th>0</th>\n",
       "      <td>March</td>\n",
       "      <td>51</td>\n",
       "      <td>628000</td>\n",
       "    </tr>\n",
       "  </tbody>\n",
       "</table>\n",
       "</div>"
      ],
      "text/plain": [
       "  Month Name  Student_Reg  Total_Revenue\n",
       "0    January           33         429000\n",
       "0   February           42         527000\n",
       "0      March           51         628000"
      ]
     },
     "execution_count": 272,
     "metadata": {},
     "output_type": "execute_result"
    }
   ],
   "source": [
    "#concact the three dataframe\n",
    "rev_concact = pd.concat([r_jan, r_feb, r_mar])\n",
    "rev_concact"
   ]
  },
  {
   "cell_type": "raw",
   "id": "a29c2bc8-9803-4ac8-a748-19bfc44ff2e4",
   "metadata": {},
   "source": [
    "rev_concact.reset_index()"
   ]
  },
  {
   "cell_type": "code",
   "execution_count": 273,
   "id": "f1f45018-fb4e-44b1-b1fd-e5102835ad62",
   "metadata": {},
   "outputs": [
    {
     "data": {
      "text/html": [
       "<div>\n",
       "<style scoped>\n",
       "    .dataframe tbody tr th:only-of-type {\n",
       "        vertical-align: middle;\n",
       "    }\n",
       "\n",
       "    .dataframe tbody tr th {\n",
       "        vertical-align: top;\n",
       "    }\n",
       "\n",
       "    .dataframe thead th {\n",
       "        text-align: right;\n",
       "    }\n",
       "</style>\n",
       "<table border=\"1\" class=\"dataframe\">\n",
       "  <thead>\n",
       "    <tr style=\"text-align: right;\">\n",
       "      <th></th>\n",
       "      <th>index</th>\n",
       "      <th>Month Name</th>\n",
       "      <th>Student_Reg</th>\n",
       "      <th>Total_Revenue</th>\n",
       "    </tr>\n",
       "  </thead>\n",
       "  <tbody>\n",
       "    <tr>\n",
       "      <th>0</th>\n",
       "      <td>0</td>\n",
       "      <td>January</td>\n",
       "      <td>33</td>\n",
       "      <td>429000</td>\n",
       "    </tr>\n",
       "    <tr>\n",
       "      <th>1</th>\n",
       "      <td>0</td>\n",
       "      <td>February</td>\n",
       "      <td>42</td>\n",
       "      <td>527000</td>\n",
       "    </tr>\n",
       "    <tr>\n",
       "      <th>2</th>\n",
       "      <td>0</td>\n",
       "      <td>March</td>\n",
       "      <td>51</td>\n",
       "      <td>628000</td>\n",
       "    </tr>\n",
       "  </tbody>\n",
       "</table>\n",
       "</div>"
      ],
      "text/plain": [
       "   index Month Name  Student_Reg  Total_Revenue\n",
       "0      0    January           33         429000\n",
       "1      0   February           42         527000\n",
       "2      0      March           51         628000"
      ]
     },
     "execution_count": 273,
     "metadata": {},
     "output_type": "execute_result"
    }
   ],
   "source": [
    "rev_concact.reset_index()"
   ]
  },
  {
   "cell_type": "code",
   "execution_count": 274,
   "id": "7de8806a-1bee-4d4e-b2ad-00a682f037a2",
   "metadata": {},
   "outputs": [
    {
     "ename": "KeyError",
     "evalue": "\"['index'] not found in axis\"",
     "output_type": "error",
     "traceback": [
      "\u001b[1;31m---------------------------------------------------------------------------\u001b[0m",
      "\u001b[1;31mKeyError\u001b[0m                                  Traceback (most recent call last)",
      "Cell \u001b[1;32mIn[274], line 2\u001b[0m\n\u001b[0;32m      1\u001b[0m \u001b[38;5;66;03m#drop the index column\u001b[39;00m\n\u001b[1;32m----> 2\u001b[0m rev_concact\u001b[38;5;241m.\u001b[39mdrop(\u001b[38;5;124m'\u001b[39m\u001b[38;5;124mindex\u001b[39m\u001b[38;5;124m'\u001b[39m, axis\u001b[38;5;241m=\u001b[39m\u001b[38;5;241m1\u001b[39m, inplace\u001b[38;5;241m=\u001b[39m\u001b[38;5;28;01mTrue\u001b[39;00m)\n",
      "File \u001b[1;32m~\\anaconda3\\Lib\\site-packages\\pandas\\core\\frame.py:5344\u001b[0m, in \u001b[0;36mDataFrame.drop\u001b[1;34m(self, labels, axis, index, columns, level, inplace, errors)\u001b[0m\n\u001b[0;32m   5196\u001b[0m \u001b[38;5;28;01mdef\u001b[39;00m \u001b[38;5;21mdrop\u001b[39m(\n\u001b[0;32m   5197\u001b[0m     \u001b[38;5;28mself\u001b[39m,\n\u001b[0;32m   5198\u001b[0m     labels: IndexLabel \u001b[38;5;241m|\u001b[39m \u001b[38;5;28;01mNone\u001b[39;00m \u001b[38;5;241m=\u001b[39m \u001b[38;5;28;01mNone\u001b[39;00m,\n\u001b[1;32m   (...)\u001b[0m\n\u001b[0;32m   5205\u001b[0m     errors: IgnoreRaise \u001b[38;5;241m=\u001b[39m \u001b[38;5;124m\"\u001b[39m\u001b[38;5;124mraise\u001b[39m\u001b[38;5;124m\"\u001b[39m,\n\u001b[0;32m   5206\u001b[0m ) \u001b[38;5;241m-\u001b[39m\u001b[38;5;241m>\u001b[39m DataFrame \u001b[38;5;241m|\u001b[39m \u001b[38;5;28;01mNone\u001b[39;00m:\n\u001b[0;32m   5207\u001b[0m \u001b[38;5;250m    \u001b[39m\u001b[38;5;124;03m\"\"\"\u001b[39;00m\n\u001b[0;32m   5208\u001b[0m \u001b[38;5;124;03m    Drop specified labels from rows or columns.\u001b[39;00m\n\u001b[0;32m   5209\u001b[0m \n\u001b[1;32m   (...)\u001b[0m\n\u001b[0;32m   5342\u001b[0m \u001b[38;5;124;03m            weight  1.0     0.8\u001b[39;00m\n\u001b[0;32m   5343\u001b[0m \u001b[38;5;124;03m    \"\"\"\u001b[39;00m\n\u001b[1;32m-> 5344\u001b[0m     \u001b[38;5;28;01mreturn\u001b[39;00m \u001b[38;5;28msuper\u001b[39m()\u001b[38;5;241m.\u001b[39mdrop(\n\u001b[0;32m   5345\u001b[0m         labels\u001b[38;5;241m=\u001b[39mlabels,\n\u001b[0;32m   5346\u001b[0m         axis\u001b[38;5;241m=\u001b[39maxis,\n\u001b[0;32m   5347\u001b[0m         index\u001b[38;5;241m=\u001b[39mindex,\n\u001b[0;32m   5348\u001b[0m         columns\u001b[38;5;241m=\u001b[39mcolumns,\n\u001b[0;32m   5349\u001b[0m         level\u001b[38;5;241m=\u001b[39mlevel,\n\u001b[0;32m   5350\u001b[0m         inplace\u001b[38;5;241m=\u001b[39minplace,\n\u001b[0;32m   5351\u001b[0m         errors\u001b[38;5;241m=\u001b[39merrors,\n\u001b[0;32m   5352\u001b[0m     )\n",
      "File \u001b[1;32m~\\anaconda3\\Lib\\site-packages\\pandas\\core\\generic.py:4711\u001b[0m, in \u001b[0;36mNDFrame.drop\u001b[1;34m(self, labels, axis, index, columns, level, inplace, errors)\u001b[0m\n\u001b[0;32m   4709\u001b[0m \u001b[38;5;28;01mfor\u001b[39;00m axis, labels \u001b[38;5;129;01min\u001b[39;00m axes\u001b[38;5;241m.\u001b[39mitems():\n\u001b[0;32m   4710\u001b[0m     \u001b[38;5;28;01mif\u001b[39;00m labels \u001b[38;5;129;01mis\u001b[39;00m \u001b[38;5;129;01mnot\u001b[39;00m \u001b[38;5;28;01mNone\u001b[39;00m:\n\u001b[1;32m-> 4711\u001b[0m         obj \u001b[38;5;241m=\u001b[39m obj\u001b[38;5;241m.\u001b[39m_drop_axis(labels, axis, level\u001b[38;5;241m=\u001b[39mlevel, errors\u001b[38;5;241m=\u001b[39merrors)\n\u001b[0;32m   4713\u001b[0m \u001b[38;5;28;01mif\u001b[39;00m inplace:\n\u001b[0;32m   4714\u001b[0m     \u001b[38;5;28mself\u001b[39m\u001b[38;5;241m.\u001b[39m_update_inplace(obj)\n",
      "File \u001b[1;32m~\\anaconda3\\Lib\\site-packages\\pandas\\core\\generic.py:4753\u001b[0m, in \u001b[0;36mNDFrame._drop_axis\u001b[1;34m(self, labels, axis, level, errors, only_slice)\u001b[0m\n\u001b[0;32m   4751\u001b[0m         new_axis \u001b[38;5;241m=\u001b[39m axis\u001b[38;5;241m.\u001b[39mdrop(labels, level\u001b[38;5;241m=\u001b[39mlevel, errors\u001b[38;5;241m=\u001b[39merrors)\n\u001b[0;32m   4752\u001b[0m     \u001b[38;5;28;01melse\u001b[39;00m:\n\u001b[1;32m-> 4753\u001b[0m         new_axis \u001b[38;5;241m=\u001b[39m axis\u001b[38;5;241m.\u001b[39mdrop(labels, errors\u001b[38;5;241m=\u001b[39merrors)\n\u001b[0;32m   4754\u001b[0m     indexer \u001b[38;5;241m=\u001b[39m axis\u001b[38;5;241m.\u001b[39mget_indexer(new_axis)\n\u001b[0;32m   4756\u001b[0m \u001b[38;5;66;03m# Case for non-unique axis\u001b[39;00m\n\u001b[0;32m   4757\u001b[0m \u001b[38;5;28;01melse\u001b[39;00m:\n",
      "File \u001b[1;32m~\\anaconda3\\Lib\\site-packages\\pandas\\core\\indexes\\base.py:7000\u001b[0m, in \u001b[0;36mIndex.drop\u001b[1;34m(self, labels, errors)\u001b[0m\n\u001b[0;32m   6998\u001b[0m \u001b[38;5;28;01mif\u001b[39;00m mask\u001b[38;5;241m.\u001b[39many():\n\u001b[0;32m   6999\u001b[0m     \u001b[38;5;28;01mif\u001b[39;00m errors \u001b[38;5;241m!=\u001b[39m \u001b[38;5;124m\"\u001b[39m\u001b[38;5;124mignore\u001b[39m\u001b[38;5;124m\"\u001b[39m:\n\u001b[1;32m-> 7000\u001b[0m         \u001b[38;5;28;01mraise\u001b[39;00m \u001b[38;5;167;01mKeyError\u001b[39;00m(\u001b[38;5;124mf\u001b[39m\u001b[38;5;124m\"\u001b[39m\u001b[38;5;132;01m{\u001b[39;00mlabels[mask]\u001b[38;5;241m.\u001b[39mtolist()\u001b[38;5;132;01m}\u001b[39;00m\u001b[38;5;124m not found in axis\u001b[39m\u001b[38;5;124m\"\u001b[39m)\n\u001b[0;32m   7001\u001b[0m     indexer \u001b[38;5;241m=\u001b[39m indexer[\u001b[38;5;241m~\u001b[39mmask]\n\u001b[0;32m   7002\u001b[0m \u001b[38;5;28;01mreturn\u001b[39;00m \u001b[38;5;28mself\u001b[39m\u001b[38;5;241m.\u001b[39mdelete(indexer)\n",
      "\u001b[1;31mKeyError\u001b[0m: \"['index'] not found in axis\""
     ]
    }
   ],
   "source": [
    "#drop the index column\n",
    "rev_concact.drop('index', axis=1, inplace=True)"
   ]
  },
  {
   "cell_type": "code",
   "execution_count": 275,
   "id": "b65aa1b7-03d6-475d-981d-a60fcfa56dca",
   "metadata": {},
   "outputs": [
    {
     "data": {
      "text/plain": [
       "Index(['Month Name', 'Student_Reg', 'Total_Revenue'], dtype='object')"
      ]
     },
     "execution_count": 275,
     "metadata": {},
     "output_type": "execute_result"
    }
   ],
   "source": [
    "rev_concact.columns"
   ]
  },
  {
   "cell_type": "code",
   "execution_count": 276,
   "id": "796c0979-9913-43e8-b23c-365b6e944c54",
   "metadata": {},
   "outputs": [
    {
     "data": {
      "text/html": [
       "<div>\n",
       "<style scoped>\n",
       "    .dataframe tbody tr th:only-of-type {\n",
       "        vertical-align: middle;\n",
       "    }\n",
       "\n",
       "    .dataframe tbody tr th {\n",
       "        vertical-align: top;\n",
       "    }\n",
       "\n",
       "    .dataframe thead th {\n",
       "        text-align: right;\n",
       "    }\n",
       "</style>\n",
       "<table border=\"1\" class=\"dataframe\">\n",
       "  <thead>\n",
       "    <tr style=\"text-align: right;\">\n",
       "      <th></th>\n",
       "      <th>Month Name</th>\n",
       "      <th>Student_Reg</th>\n",
       "      <th>Total_Revenue</th>\n",
       "    </tr>\n",
       "  </thead>\n",
       "  <tbody>\n",
       "    <tr>\n",
       "      <th>0</th>\n",
       "      <td>January</td>\n",
       "      <td>33</td>\n",
       "      <td>429000</td>\n",
       "    </tr>\n",
       "    <tr>\n",
       "      <th>0</th>\n",
       "      <td>February</td>\n",
       "      <td>42</td>\n",
       "      <td>527000</td>\n",
       "    </tr>\n",
       "    <tr>\n",
       "      <th>0</th>\n",
       "      <td>March</td>\n",
       "      <td>51</td>\n",
       "      <td>628000</td>\n",
       "    </tr>\n",
       "  </tbody>\n",
       "</table>\n",
       "</div>"
      ],
      "text/plain": [
       "  Month Name  Student_Reg  Total_Revenue\n",
       "0    January           33         429000\n",
       "0   February           42         527000\n",
       "0      March           51         628000"
      ]
     },
     "execution_count": 276,
     "metadata": {},
     "output_type": "execute_result"
    }
   ],
   "source": [
    "rev_concact"
   ]
  },
  {
   "cell_type": "code",
   "execution_count": 281,
   "id": "91b3dc8c-c8b0-4648-ad89-2946ff55b897",
   "metadata": {},
   "outputs": [
    {
     "data": {
      "image/png": "[encoded data removed]",
      "text/plain": [
       "<Figure size 500x300 with 1 Axes>"
      ]
     },
     "metadata": {},
     "output_type": "display_data"
    }
   ],
   "source": [
    "#plot a line chart of the revenue trend\n",
    "\n",
    "fig, ax = plt.subplots(figsize=[5,3])\n",
    "ax.plot(rev_concact['Month Name'], rev_concact['Total_Revenue'])\n",
    "\n",
    "#add title\n",
    "ax.set_title('Revenue trend by month')\n",
    "ax.set_xlabel('Month')\n",
    "\n",
    "ax.spines[['top', 'right', 'left']].set_visible(False)\n",
    "ax.yaxis.set_visible(False)\n",
    "\n",
    "for index, values in enumerate(rev_concact['Total_Revenue']):\n",
    "    ax.annotate('N'+ str(values), xy=(index, values), ha='center', va='center')\n",
    "plt.show()"
   ]
  },
  {
   "cell_type": "code",
   "execution_count": null,
   "id": "a685d4cb-4b90-4fdb-8fe4-3b1be8ac28b1",
   "metadata": {},
   "outputs": [],
   "source": []
  }
 ],
 "metadata": {
  "kernelspec": {
   "display_name": "Python 3 (ipykernel)",
   "language": "python",
   "name": "python3"
  },
  "language_info": {
   "codemirror_mode": {
    "name": "ipython",
    "version": 3
   },
   "file_extension": ".py",
   "mimetype": "text/x-python",
   "name": "python",
   "nbconvert_exporter": "python",
   "pygments_lexer": "ipython3",
   "version": "3.11.7"
  }
 },
 "nbformat": 4,
 "nbformat_minor": 5
}
